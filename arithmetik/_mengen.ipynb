{
 "cells": [
  {
   "cell_type": "markdown",
   "id": "076af7e7-5de4-4aea-bb2c-01a1703342f8",
   "metadata": {},
   "source": [
    "# Zahlenbereiche und Zahlensysteme\n",
    "## Problem 1: [Exercism Raindrops](https://exercism.org/tracks/python/exercises/raindrops)\n",
    "### Problem\n",
    "Deine Aufgabe ist es, eine Zahl in den Klang ihrer Regentropfen umzuwandeln.\\\n",
    "Wenn eine gegebene Zahl\n",
    "- durch 3 teilbar ist, hänge \"Pling\" an das Ergebnis\n",
    "- durch 5 teilbar ist, hänge \"Plang\" an das Ergebnis\n",
    "- durch 7 teilbar ist, hänge \"Plong\" an das Ergebnis\n",
    "\n",
    "Wenn die Zahl nicht durch 3, 5 oder 7 teilbar ist, dann ist das Ergebnis die Zahl als Zeichenkette (*string*).\n",
    "\n",
    "### Analyse\n",
    "Wir haben offensichtlich wieder ein Teilbarkeitsproblem, diesmal mit drei verschiedenen Teilern: $3,5,7$.\n",
    "Probleme mit Teilern haben wir in den Übungen zur Lektion \"Teiler und Vielfache\" meist über den Modulo Operator `%` gelöst.\n",
    "\n",
    "### Lösung\n",
    "Wir können das Problem nach folgendem Muster lösen:"
   ]
  },
  {
   "cell_type": "code",
   "execution_count": 38,
   "id": "083cf961-9fe6-4707-9950-f19c1ae9570f",
   "metadata": {},
   "outputs": [
    {
     "data": {
      "text/plain": [
       "'PlingPlangPlong'"
      ]
     },
     "execution_count": 38,
     "metadata": {},
     "output_type": "execute_result"
    }
   ],
   "source": [
    "sound = \"\"\n",
    "if 105 % 3 == 0: sound += \"Pling\"\n",
    "if 105 % 5 == 0: sound += \"Plang\"\n",
    "if 105 % 7 == 0: sound += \"Plong\"\n",
    "sound"
   ]
  },
  {
   "cell_type": "markdown",
   "id": "ab9884b3-f3ad-423b-aa06-e53e726ae996",
   "metadata": {},
   "source": [
    "Die Zahl 105 ist sowohl durch 3, als auch durch 5 und 7 teilbar, das Ergebnis ist also \"PlingPlangPlong\".\\\n",
    "**Aufgabe**: Implementiere eine Funktion `convert`, die eine natürliche Zahl als Argument nimmt, und den Klang der Regentropfen dieser Zahl als *string* ausgibt."
   ]
  },
  {
   "cell_type": "code",
   "execution_count": 39,
   "id": "9195142d-fcb1-450a-875a-3e072ea8659b",
   "metadata": {},
   "outputs": [
    {
     "ename": "AssertionError",
     "evalue": "",
     "output_type": "error",
     "traceback": [
      "\u001b[0;31m---------------------------------------------------------------------------\u001b[0m",
      "\u001b[0;31mAssertionError\u001b[0m                            Traceback (most recent call last)",
      "Cell \u001b[0;32mIn[39], line 6\u001b[0m\n\u001b[1;32m      2\u001b[0m     sound \u001b[38;5;241m=\u001b[39m \u001b[38;5;124m\"\u001b[39m\u001b[38;5;124m\"\u001b[39m\n\u001b[1;32m      4\u001b[0m     \u001b[38;5;28;01mreturn\u001b[39;00m sound\n\u001b[0;32m----> 6\u001b[0m \u001b[38;5;28;01massert\u001b[39;00m convert(\u001b[38;5;241m78\u001b[39m) \u001b[38;5;241m==\u001b[39m \u001b[38;5;124m\"\u001b[39m\u001b[38;5;124mPling\u001b[39m\u001b[38;5;124m\"\u001b[39m\n\u001b[1;32m      7\u001b[0m \u001b[38;5;28;01massert\u001b[39;00m convert(\u001b[38;5;241m100\u001b[39m) \u001b[38;5;241m==\u001b[39m \u001b[38;5;124m\"\u001b[39m\u001b[38;5;124mPlang\u001b[39m\u001b[38;5;124m\"\u001b[39m\n\u001b[1;32m      8\u001b[0m \u001b[38;5;28;01massert\u001b[39;00m convert(\u001b[38;5;241m105\u001b[39m) \u001b[38;5;241m==\u001b[39m \u001b[38;5;124m\"\u001b[39m\u001b[38;5;124mPlingPlangPlong\u001b[39m\u001b[38;5;124m\"\u001b[39m\n",
      "\u001b[0;31mAssertionError\u001b[0m: "
     ]
    }
   ],
   "source": [
    "def convert(n):\n",
    "    sound = \"\"\n",
    "    \n",
    "    return sound\n",
    "\n",
    "assert convert(78) == \"Pling\"\n",
    "assert convert(100) == \"Plang\"\n",
    "assert convert(105) == \"PlingPlangPlong\"\n",
    "assert convert(106) == \"106\""
   ]
  },
  {
   "cell_type": "code",
   "execution_count": 40,
   "id": "00a47ca5-0486-4176-97ed-5a59ac25f792",
   "metadata": {},
   "outputs": [],
   "source": [
    "def my_convert(n):\n",
    "    sound = \"\"\n",
    "    if n % 3 == 0: sound += \"Pling\"\n",
    "    if n % 5 == 0: sound += \"Plang\"\n",
    "    if n % 7 == 0: sound += \"Plong\"\n",
    "    if sound == \"\":\n",
    "        return str(n)\n",
    "    else:\n",
    "        return sound\n",
    "\n",
    "assert my_convert(78) == \"Pling\"\n",
    "assert my_convert(100) == \"Plang\"\n",
    "assert my_convert(105) == \"PlingPlangPlong\"\n",
    "assert my_convert(106) == \"106\""
   ]
  },
  {
   "cell_type": "markdown",
   "id": "93ab1e51-03b4-4aac-b150-f336aa104b2b",
   "metadata": {},
   "source": [
    "Das Ergebnis ist korrekt, aber die Lösung ist nicht sehr elegant.\n",
    "Wenn wir viele Teiler hätten, die zu prüfen wären, dann müssten wir für jeden Teiler eigenes *if-conditional* schreiben.\n",
    "Um diesen Aufwand zu vermeiden, könnten wir die Werte, für die wir einen Test durchführen müssen, in einer *Datenstruktur* speichern.\n",
    "Dann könnten wir später auf diese Werte, z.B. innerhalb einer Schleife, zugreifen.\\\n",
    "**Aufgabe**: Erstelle eine Datenstruktur (*collection*), die die für die Lösung des Problems notwendigen Werte enthält.\\\n",
    "**Hinweis**: Wähle eine Datenstruktur, die eine Zuordnung von Werten zu bestimmten Schlüsseln ermöglicht."
   ]
  },
  {
   "cell_type": "code",
   "execution_count": 41,
   "id": "8dca8894-0991-48b3-8d80-ca7e2b772804",
   "metadata": {},
   "outputs": [],
   "source": [
    "sounds = []"
   ]
  },
  {
   "cell_type": "markdown",
   "id": "256a6c82-87cd-4147-b488-34343ba5b6aa",
   "metadata": {},
   "source": [
    "**Aufgabe**: Verbessere deine Lösung, indem du den Test auf Teiler innerhalb einer Schleife durchführst."
   ]
  },
  {
   "cell_type": "code",
   "execution_count": 42,
   "id": "c05294d9-ee4b-47a7-96aa-d745bb4f1782",
   "metadata": {},
   "outputs": [
    {
     "ename": "AssertionError",
     "evalue": "",
     "output_type": "error",
     "traceback": [
      "\u001b[0;31m---------------------------------------------------------------------------\u001b[0m",
      "\u001b[0;31mAssertionError\u001b[0m                            Traceback (most recent call last)",
      "Cell \u001b[0;32mIn[42], line 6\u001b[0m\n\u001b[1;32m      2\u001b[0m     sound \u001b[38;5;241m=\u001b[39m \u001b[38;5;124m\"\u001b[39m\u001b[38;5;124m\"\u001b[39m\n\u001b[1;32m      4\u001b[0m     \u001b[38;5;28;01mreturn\u001b[39;00m sound\n\u001b[0;32m----> 6\u001b[0m \u001b[38;5;28;01massert\u001b[39;00m convert(\u001b[38;5;241m78\u001b[39m) \u001b[38;5;241m==\u001b[39m \u001b[38;5;124m\"\u001b[39m\u001b[38;5;124mPling\u001b[39m\u001b[38;5;124m\"\u001b[39m\n\u001b[1;32m      7\u001b[0m \u001b[38;5;28;01massert\u001b[39;00m convert(\u001b[38;5;241m100\u001b[39m) \u001b[38;5;241m==\u001b[39m \u001b[38;5;124m\"\u001b[39m\u001b[38;5;124mPlang\u001b[39m\u001b[38;5;124m\"\u001b[39m\n\u001b[1;32m      8\u001b[0m \u001b[38;5;28;01massert\u001b[39;00m convert(\u001b[38;5;241m105\u001b[39m) \u001b[38;5;241m==\u001b[39m \u001b[38;5;124m\"\u001b[39m\u001b[38;5;124mPlingPlangPlong\u001b[39m\u001b[38;5;124m\"\u001b[39m\n",
      "\u001b[0;31mAssertionError\u001b[0m: "
     ]
    }
   ],
   "source": [
    "def convert(n):\n",
    "    sound = \"\"\n",
    "    \n",
    "    return sound\n",
    "\n",
    "assert convert(78) == \"Pling\"\n",
    "assert convert(100) == \"Plang\"\n",
    "assert convert(105) == \"PlingPlangPlong\"\n",
    "assert convert(106) == \"106\""
   ]
  },
  {
   "cell_type": "code",
   "execution_count": 43,
   "id": "abbbfaee-84e1-47ef-a79b-39c92e00e366",
   "metadata": {},
   "outputs": [],
   "source": [
    "my_sounds = {3: \"Pling\", 5: \"Plang\", 7: \"Plong\"}\n",
    "\n",
    "def my_convert(n):\n",
    "    sound = \"\"\n",
    "    for (k, v) in my_sounds.items():\n",
    "        if n % k == 0:\n",
    "            sound += v\n",
    "    return sound if sound else str(n)\n",
    "\n",
    "assert my_convert(78) == \"Pling\"\n",
    "assert my_convert(100) == \"Plang\"\n",
    "assert my_convert(105) == \"PlingPlangPlong\"\n",
    "assert my_convert(106) == \"106\""
   ]
  },
  {
   "cell_type": "markdown",
   "id": "68c0ad73-14fb-4c0c-8b6b-2559392930f9",
   "metadata": {},
   "source": [
    "Beachte die `return` Anweisung in obiger Funktion:\n",
    "ich habe das *if-conditional* nicht als \"normale\" Anweisung (*statement*) formuliert, sondern als Ausdruck (*expression*).\n",
    "Diese Formen unterscheiden sich darin, dass ein *statement* einfach einen Befehl ausführt, eine *expression* dagegen einen Wert zurückliefert.\n",
    "Die *conditional expression*\n",
    "```python\n",
    "<expr1> if <conditional_expr> else <expr2>\n",
    "```\n",
    "liefert also den Wert `<expr1> ` zurück, wenn `<conditional_expr>` wahr ist (`True`), anderenfalls liefert sie `<expr2>` zurück.\n",
    "\n",
    "Mit einer *conditional expression* kann mann also das Ergebnis eines Tests direkt einer Variablen zuweisen, oder wie in unserem Fall, als Ergebnis der Funktion zurückgeben.\n",
    "\n",
    "Beachte außerdem die verkürzte Schreibweise der `<conditional_expr>`: anstatt `if sound != \"\"` zu schreiben, reicht es `if sound` zu schreiben, da der Test auf einen leeren *string* zu `False` ausgwertet wird, der Test auf einen *nicht* leeren *string* dagegen immer zu `True`."
   ]
  },
  {
   "cell_type": "markdown",
   "id": "f949c714-5900-4343-be3e-13a5ecff6331",
   "metadata": {},
   "source": [
    "### Rückschau\n",
    "\n",
    "Wir haben für die Lösung dieses Problems verschiedene **Lösungsstrategien** angewendet, auch wenn du dir vielleicht nicht darüber bewußt warst.\n",
    "Die erste und vielleicht wichtigste Strategie beim Lösen von Problemen besteht in einem geordneten, **schrittweisen Vorgehen**.\n",
    "\n",
    "Versuche *nie*, deine Lösung in Form von Progammcode sofort hinzuschreiben.\n",
    "Das kostet dich nur Zeit und Nerven.\\\n",
    "Schreibe dir stattdessen deine Gedanken in geordneter Form auf, und gehe erst zum nächsten Schritt, wenn du das getan hast.\n",
    "Wir wollen für die **Problemlösung** immer die folgenden Schritte durchlaufen:\n",
    "- **Problem**: Schreibe die vollständige Problemstellung auf. Achte darauf, dass alle bekannten Fakten in der Problemstellung enthalten sind.\n",
    "Versichere dich, dass du das Problem verstanden hast und weißt, was als Antwort erwartet wird.\n",
    "- **Analyse**: Die Lösung eines Problems ist typischerweise nicht sofort ersichtlich; wenn sie das wäre, dann gäbe es gar kein Problem. In diesem Schritt untersuchst du das Problem genauer und suchst nach möglichen Lösungsansätzen, indem du\n",
    "  - das Problem gegebenfalls in kleinere Teilprobleme zerlegst\n",
    "  - nach ähnlichen Problemen suchst, die du kennst und bereits gelöst hast\n",
    "  - zunächst ein einfacheres, verwandtes Problem betrachtest.\n",
    "- **Lösung**: Ziel dieses Schritts ist es, eine Funktion in Python zu defineren, die die korrekte Lösung des Problems ausgibt. Gehe hierfür ebenfalls schrittweise vor:\n",
    "  - schreibe und teste einzelne Anweisungen, indem du sie in einer Code-Zelle ausführst und überprüfst, ob sie das erwartete Ergebnis liefern\n",
    "  - wenn das Problem aus mehreren Teilproblemen besteht, schreibe für jedes Teilproblem eine eigene Funktion\n",
    "  - kombiniere alle Teil-Funktionen zu einer Gesamtlösung in einer einzigen Funktion\n",
    "  - teste deine Lösung mit mehreren Testfällen; wenn die Problemstellung keine Testfälle enthält, schreibe deine eigenen und berechne deren Ergebnis manuell\n",
    "  - verbessere deine Lösung, indem du nach alternativen Lösungswegen suchst.\n",
    "- **Rückschau**: Fasse deinen Lösungsweg in einer Rückschau zusammen. Gehe dabei insbesondere auf die von dir verwendeten Lösungsstrategien ein.\n",
    "Wenn du dir bewusst machst, *wie* du ein (Teil-) Problem gelöst hast, kannst du diese Strategie in deinen *Werkzeugkasten* aufnehmen und das Werkzeug bei den nächsten Problemen wiederverwenden.\n",
    "\n",
    "Auf die anderen für dieses Problem verwendeten Strategien gehen wir am Ende des Notebooks ein. "
   ]
  },
  {
   "cell_type": "markdown",
   "id": "b3159cf6-3faf-445e-9bf9-252601a9a599",
   "metadata": {},
   "source": [
    "## Problem 2: [Exercism Grains](https://exercism.org/tracks/python/exercises/grains)\n",
    "### Problem\n",
    "Berechne die Anzahl der Weizenkörner auf einem Schachbrett nach fogender Regel: auf dem ersten Feld des Bretts liegt ein Korn, auf jedem folgenden Feld jeweils doppelt so viele Körner.\\\n",
    "Schreibe zwei Funktionen:\n",
    "- eine, die ausgibt, wie viele Körner auf einem gegebenen Feld liegen\n",
    "- eine, die ausgibt, wie viele Körner insgesamt auf dem Schachbrett liegen.\n",
    "\n",
    "### Analyse\n",
    "Ein Schachbrett besteht aus 8 waagrechten *Reihen* und 8 senkrechten *Linien*, wir haben also insgesamt $8\\cdot8=64$ Felder.\n",
    "Da sich die Anzahl der Körner auf jedem Feld verdoppelt, liegen auf dem 2. Feld 2 Körner, auf dem 3. Feld 4 Körner, auf dem 4. Feld 8 Körner, und so weiter.\\\n",
    "Wenn wir diese Folge von Zahlen $1,2,4,8,\\dots$ betrachten, dann sehen wir, dass es sich dabei jeweils um Zweierpotenzen handelt: $2^0, 2^1, 2^2, 2^3\\dots$.\n",
    "\n",
    "### Lösung\n",
    "Wir können die Anzahl der Körner auf jedem Feld also einfach als Zweierpotenz der jeweiligen Feldnummer berechnen.\\\n",
    "**Aufgabe**: Implementiere die erste Funktion `square`, die eine Feldnummer als Argument nimmt, und berechne die Anzahl der Körner auf diesem Feld."
   ]
  },
  {
   "cell_type": "code",
   "execution_count": 46,
   "id": "6c2709b5-f370-41ea-95f6-84796231d206",
   "metadata": {},
   "outputs": [
    {
     "ename": "AssertionError",
     "evalue": "das Ergbnis ist nicht korrekt",
     "output_type": "error",
     "traceback": [
      "\u001b[0;31m---------------------------------------------------------------------------\u001b[0m",
      "\u001b[0;31mAssertionError\u001b[0m                            Traceback (most recent call last)",
      "Cell \u001b[0;32mIn[46], line 5\u001b[0m\n\u001b[1;32m      2\u001b[0m     \u001b[38;5;28;01mreturn\u001b[39;00m n\n\u001b[1;32m      4\u001b[0m \u001b[38;5;28;01massert\u001b[39;00m square(\u001b[38;5;241m1\u001b[39m) \u001b[38;5;241m==\u001b[39m \u001b[38;5;241m1\u001b[39m, \u001b[38;5;124m\"\u001b[39m\u001b[38;5;124mdas Ergbnis ist nicht korrekt\u001b[39m\u001b[38;5;124m\"\u001b[39m\n\u001b[0;32m----> 5\u001b[0m \u001b[38;5;28;01massert\u001b[39;00m square(\u001b[38;5;241m32\u001b[39m) \u001b[38;5;241m==\u001b[39m \u001b[38;5;241m2147483648\u001b[39m, \u001b[38;5;124m\"\u001b[39m\u001b[38;5;124mdas Ergbnis ist nicht korrekt\u001b[39m\u001b[38;5;124m\"\u001b[39m\n\u001b[1;32m      6\u001b[0m \u001b[38;5;28;01massert\u001b[39;00m square(\u001b[38;5;241m64\u001b[39m) \u001b[38;5;241m==\u001b[39m \u001b[38;5;241m9223372036854775808\u001b[39m, \u001b[38;5;124m\"\u001b[39m\u001b[38;5;124mdas Ergbnis ist nicht korrekt\u001b[39m\u001b[38;5;124m\"\u001b[39m\n",
      "\u001b[0;31mAssertionError\u001b[0m: das Ergbnis ist nicht korrekt"
     ]
    }
   ],
   "source": [
    "def square(n):\n",
    "    return n\n",
    "\n",
    "assert square(1) == 1, \"das Ergbnis ist nicht korrekt\"\n",
    "assert square(32) == 2147483648, \"das Ergbnis ist nicht korrekt\"\n",
    "assert square(64) == 9223372036854775808, \"das Ergbnis ist nicht korrekt\""
   ]
  },
  {
   "cell_type": "code",
   "execution_count": 47,
   "id": "0009d3c0-6b1b-4445-a7d2-845ed12dd26c",
   "metadata": {},
   "outputs": [],
   "source": [
    "def my_square(n):\n",
    "    return 2 ** (n-1)\n",
    "\n",
    "assert my_square(1) == 1\n",
    "assert my_square(32) == 2147483648\n",
    "assert my_square(64) == 9223372036854775808"
   ]
  },
  {
   "cell_type": "markdown",
   "id": "8d7c9ace-795c-4b5c-bf59-811d9814166d",
   "metadata": {},
   "source": [
    "Wir können uns die Felder eines Schachbretts aber auch als eine 64-bit *Binärzahl* vorstellen, eine Zahl mit 8 *bytes* zu je 8 *bits*.\n",
    "Aus der Lektion wissen wir, dass wir den Wert einer Binärzahl verdoppeln können, indem wir einen *bitwise left-shift* durchführen.\\\n",
    "**Aufgabe**: Verbessere die Funktion `square`, indem du einen *bitwise shift* anwendest."
   ]
  },
  {
   "cell_type": "code",
   "execution_count": 48,
   "id": "c19521ac-6814-4186-b3a0-5dd3ad834e1b",
   "metadata": {},
   "outputs": [
    {
     "ename": "AssertionError",
     "evalue": "",
     "output_type": "error",
     "traceback": [
      "\u001b[0;31m---------------------------------------------------------------------------\u001b[0m",
      "\u001b[0;31mAssertionError\u001b[0m                            Traceback (most recent call last)",
      "Cell \u001b[0;32mIn[48], line 5\u001b[0m\n\u001b[1;32m      2\u001b[0m     \u001b[38;5;28;01mreturn\u001b[39;00m n\n\u001b[1;32m      4\u001b[0m \u001b[38;5;28;01massert\u001b[39;00m square(\u001b[38;5;241m1\u001b[39m) \u001b[38;5;241m==\u001b[39m \u001b[38;5;241m1\u001b[39m\n\u001b[0;32m----> 5\u001b[0m \u001b[38;5;28;01massert\u001b[39;00m square(\u001b[38;5;241m32\u001b[39m) \u001b[38;5;241m==\u001b[39m \u001b[38;5;241m2147483648\u001b[39m\n\u001b[1;32m      6\u001b[0m \u001b[38;5;28;01massert\u001b[39;00m square(\u001b[38;5;241m64\u001b[39m) \u001b[38;5;241m==\u001b[39m \u001b[38;5;241m9223372036854775808\u001b[39m\n",
      "\u001b[0;31mAssertionError\u001b[0m: "
     ]
    }
   ],
   "source": [
    "def square(n):\n",
    "    return n\n",
    "\n",
    "assert square(1) == 1\n",
    "assert square(32) == 2147483648\n",
    "assert square(64) == 9223372036854775808"
   ]
  },
  {
   "cell_type": "code",
   "execution_count": 49,
   "id": "666c32fd-2712-44f1-af64-c3696d54ec84",
   "metadata": {},
   "outputs": [],
   "source": [
    "def my_square(n):\n",
    "    return 1 << (n-1)\n",
    "\n",
    "assert my_square(1) == 1\n",
    "assert my_square(32) == 2147483648\n",
    "assert my_square(64) == 9223372036854775808"
   ]
  },
  {
   "cell_type": "markdown",
   "id": "9f1adff8-43cf-47ce-b59b-416d53565c30",
   "metadata": {},
   "source": [
    "Bleibt nur noch eine **Frage**: warum ist die neue Version von `square` \"besser\" als die vorherige?\n",
    "Versuche, diese Frage für dich zu beantworten.\n",
    "\n",
    "**Antwort**: Python muss für die Berechnung von `2 ** 64` bis zu 64 Multiplikationen durchführen (die Anzahl der tatsächlichen Multiplikationen ist allerdings abhängig von der internen Implementierung des `**` Operators).\n",
    "Beim *bitwise shift* wird dagegen nur eine Operation durchgeführt (die Binärzahl 1 wird mit 64 Nullen aufgefüllt); das ist also wesentlich effizienter. "
   ]
  },
  {
   "cell_type": "markdown",
   "id": "f02ed6ef-6c41-437a-a51f-9743e2f13070",
   "metadata": {},
   "source": [
    "Teil zwei des Problems können wir entsprechend lösen; dazu müssen wir lediglich die Anzahl der Körner auf jedem Feld zusammenzählen.\\\n",
    "**Aufgabe**: Implementiere eine Funktion `total`, die die Anzahl aller Körner auf dem Feld zusammenzählt."
   ]
  },
  {
   "cell_type": "code",
   "execution_count": 50,
   "id": "0636efe8-60f9-4049-9a10-6ba4b70bcd84",
   "metadata": {},
   "outputs": [
    {
     "ename": "AssertionError",
     "evalue": "",
     "output_type": "error",
     "traceback": [
      "\u001b[0;31m---------------------------------------------------------------------------\u001b[0m",
      "\u001b[0;31mAssertionError\u001b[0m                            Traceback (most recent call last)",
      "Cell \u001b[0;32mIn[50], line 7\u001b[0m\n\u001b[1;32m      3\u001b[0m     \u001b[38;5;66;03m# implementiere eine Schleife zum Addieren der Körner aller Felder\u001b[39;00m\n\u001b[1;32m      5\u001b[0m     \u001b[38;5;28;01mreturn\u001b[39;00m res\n\u001b[0;32m----> 7\u001b[0m \u001b[38;5;28;01massert\u001b[39;00m total() \u001b[38;5;241m==\u001b[39m \u001b[38;5;241m18446744073709551615\u001b[39m\n",
      "\u001b[0;31mAssertionError\u001b[0m: "
     ]
    }
   ],
   "source": [
    "def total():\n",
    "    res = 0\n",
    "    # implementiere eine Schleife zum Addieren der Körner aller Felder\n",
    "    \n",
    "    return res\n",
    "\n",
    "assert total() == 18446744073709551615"
   ]
  },
  {
   "cell_type": "code",
   "execution_count": 51,
   "id": "c19deebf-76e6-4081-bfe1-10158a1c3b8f",
   "metadata": {},
   "outputs": [],
   "source": [
    "def my_total():\n",
    "    res = 0\n",
    "    for i in range(64):\n",
    "        res += 1 << i\n",
    "    return res\n",
    "\n",
    "assert my_total() == 18446744073709551615"
   ]
  },
  {
   "cell_type": "markdown",
   "id": "0300f95e-135a-4b33-9c7e-415d0b684e6f",
   "metadata": {},
   "source": [
    "Es geht allerdings auch noch viel einfacher:\n",
    "wenn wir uns die Summe der ersten beiden Felder anschauen $S_2=F_1+F_2=1+2=3$, dann sehen wir, dass $S_2$ genau ums eins kleiner ist als die Anzahl der Körner auf dem nächsten Feld $F_3=2^2=4$.\n",
    "Das gilt auch für alle nachfolgenden Summen; offensichtlich ist $S_n=F_{n+1}-1$.\n",
    "Die Tatsache, dass es gar kein 65. Feld auf dem Schachbrett gibt, ist für diese mathematische Erkenntnis irrelevant:\n",
    "$$\n",
    "\\sum_{k=0}^{n}2^k=2^{n+1}-1.\n",
    "$$\n",
    "**Aufgabe**: Vereinfache die Funktion `total`, indem du obige Formel anwendest."
   ]
  },
  {
   "cell_type": "code",
   "execution_count": 52,
   "id": "ce26241f-da21-4e81-8ae2-07a87b5cff69",
   "metadata": {},
   "outputs": [
    {
     "ename": "AssertionError",
     "evalue": "",
     "output_type": "error",
     "traceback": [
      "\u001b[0;31m---------------------------------------------------------------------------\u001b[0m",
      "\u001b[0;31mAssertionError\u001b[0m                            Traceback (most recent call last)",
      "Cell \u001b[0;32mIn[52], line 4\u001b[0m\n\u001b[1;32m      1\u001b[0m \u001b[38;5;28;01mdef\u001b[39;00m \u001b[38;5;21mtotal\u001b[39m():\n\u001b[1;32m      2\u001b[0m     \u001b[38;5;28;01mreturn\u001b[39;00m \u001b[38;5;241m1\u001b[39m\n\u001b[0;32m----> 4\u001b[0m \u001b[38;5;28;01massert\u001b[39;00m total() \u001b[38;5;241m==\u001b[39m \u001b[38;5;241m18446744073709551615\u001b[39m\n",
      "\u001b[0;31mAssertionError\u001b[0m: "
     ]
    }
   ],
   "source": [
    "def total():\n",
    "    return 1\n",
    "\n",
    "assert total() == 18446744073709551615"
   ]
  },
  {
   "cell_type": "code",
   "execution_count": 53,
   "id": "765fda82-ed3a-4204-a26f-dadd1f514e38",
   "metadata": {},
   "outputs": [],
   "source": [
    "def my_total():\n",
    "    return (1 << 64) - 1\n",
    "\n",
    "assert my_total() == 18446744073709551615"
   ]
  },
  {
   "cell_type": "markdown",
   "id": "1047ecfb-39b5-4e74-ae08-8a416c2bc57d",
   "metadata": {},
   "source": [
    "### Rückschau\n",
    "Die entscheidende Erkenntnis für dieses Problem war, dass die Anzahl der Körner für jedes Feld eine Zweierpotenz mit der Nummer dieses Feldes ist.\n",
    "Wir haben also ein *Muster* erkannt und dieses Muster als mathematische Formel für die Problemlösung verwendet.\n",
    "Die **Mustererkennung** ist ein äußerst nützliches Werkzeug für deinen *Werkzeugkasten*.\n",
    "\n",
    "Wir haben außerdem beide Lösungsfunktionen verbessert: die Funktion `square`, indem wir eine *effizientere* Berechnung gefunden haben, und die Funktion `total`, indem wir ein weiteres Muster erkannt und angewandt haben.\n",
    "Wir nennen dieses Vorgehen **inkrementelle Entwicklung**, und fügen es ebenfalls unserem Werkzeugkasten hinzu."
   ]
  },
  {
   "cell_type": "markdown",
   "id": "75278f91-d7ae-400e-bf29-8e4dcb7a48c3",
   "metadata": {},
   "source": [
    "## Problem 3: [Exercism Secret Handshake](https://exercism.org/tracks/python/exercises/secret-handshake)\n",
    "### Problem\n",
    "Du gründest mit einigen Freunden einen geheimen Programmierclub.\n",
    "Da sich nicht alle kennen, habt ihr beschlossen, einen geheimen Handschlag zu entwickeln, an dem ihr erkennen könnt, ob jemand Mitglied ist.\n",
    "\n",
    "Ihr habt den Code so entworfen, dass eine Person eine Zahl zwischen 1 und 31 sagt und die andere Person diese Zahl in eine Reihe von Aktionen umwandelt.\n",
    "Die Aktionen entsprechen den jeweils gesetzten *bits* der Binärdarstellung der Zahl.\n",
    "Die Aktionen für jede Stelle sind wie folgt definiert:\n",
    "\n",
    "```plaintext\n",
    "00001 = \"wink\"\n",
    "00010 = \"double blink\"\n",
    "00100 = \"close your eyes\"\n",
    "01000 = \"jump\"\n",
    "10000 = Kehre die Reihenfolge der Aktionen im geheimen Handschlag um.\n",
    "```\n",
    "\n",
    "Deine Aufgabe ist es, eine gegebene Zahl in entsprechende Aktionen umzuwandeln und diese als Liste von *strings* zurückzugeben.\\\n",
    "**Beachte**: Im Gegensatz zur originalen Aufgabe in *Exercism* geben wir die Zahl nicht als *bitstring* vor, sondern als ganze Zahl vom Datentyp `int`.\n",
    "\n",
    "### Analyse\n",
    "Wir stellen eine Binärzahl in der Form $b_4  b_3 b_2 b_1 b_0$ dar, wobei der Index mit 0 beginnt (von rechts nach links gelesen).\\\n",
    "Zur Erinnerung: der Index beginnt mit 0, da jede Stelle einer Binärzahl eine Zweierpotenz mit dem Index repäsentiert.\n",
    "Der Wert des ganz rechten *bits* ist daher $2^0=1$, der Wert des nächsten *bits* ist $2^1=2$, und so weiter.\\\n",
    "Zahlen zwischen 1 und 31 haben dabei höchstens 5 Stellen, da $32=2^5$; 32 ist also die erste Zahl mit 6 oder mehr Stellen:"
   ]
  },
  {
   "cell_type": "code",
   "execution_count": 54,
   "id": "8173915e-0bfd-41cc-882c-e58ef88bc1ee",
   "metadata": {},
   "outputs": [
    {
     "name": "stdout",
     "output_type": "stream",
     "text": [
      "31 = 0b11111\n",
      "32 = 0b100000\n"
     ]
    }
   ],
   "source": [
    "print(f\"31 = {31:#0b}\")\n",
    "print(f\"32 = {32:#0b}\")"
   ]
  },
  {
   "cell_type": "markdown",
   "id": "d1596271-9bb0-4425-810e-2df45e0f12a8",
   "metadata": {},
   "source": [
    "Wir analysieren zunächst ein Beispiel für die Zahl 26, die diese Binärdarstellung hat: "
   ]
  },
  {
   "cell_type": "code",
   "execution_count": 55,
   "id": "3f93373d-ea5e-4df6-a96e-05008c2a5846",
   "metadata": {},
   "outputs": [
    {
     "name": "stdout",
     "output_type": "stream",
     "text": [
      "26 = 0b11010\n"
     ]
    }
   ],
   "source": [
    "print(f\"26 = {26:#0b}\")"
   ]
  },
  {
   "cell_type": "markdown",
   "id": "bbb3b284-556a-4e13-acea-d48de706f487",
   "metadata": {},
   "source": [
    "Hier sind das erste, dritte und vierte *bit* gesetzt (das *bit* mit Index 0 ganz rechts ist nicht gesetzt).\n",
    "Aus den gegebenen Regeln können wir folgende Aktionen ableiten:\n",
    "\n",
    "- \"double blink\"\n",
    "- \"jump\"\n",
    "- Umkehr der Reihenfolge\n",
    "\n",
    "Der geheime Handschlag für 26 ist also `[\"jump\", \"double blink\"]`.\n",
    "\n",
    "### Lösung\n",
    "Um zu testen, ob ein bestimmtes *bit* einer Zahl gesetzt ist, verwenden wir den *bitwise operator* `&` (*bitwise and* ).\n",
    "Für unser Beispiel 26 und die erste Aktion \"wink\", die mit dem *testbit* `0b00001` codiert ist, liefert das folgendes Ergebnis:"
   ]
  },
  {
   "cell_type": "code",
   "execution_count": 56,
   "id": "f6758cc2-4c03-4543-9545-6e47a92ec1de",
   "metadata": {},
   "outputs": [
    {
     "data": {
      "text/plain": [
       "0"
      ]
     },
     "execution_count": 56,
     "metadata": {},
     "output_type": "execute_result"
    }
   ],
   "source": [
    "n = 26\n",
    "testbit = 0b00001\n",
    "n & testbit"
   ]
  },
  {
   "cell_type": "markdown",
   "id": "24dcf701-5d91-4b0e-9980-49199fad78e0",
   "metadata": {},
   "source": [
    "Das Ergebnis 0 bedeutet, dass das *testbit* in 26 nicht gesetzt ist.\n",
    "Der Operator `&` vergleicht dabei die gegebenen Zahlen bitweise und setzt im Ergebnis nur die Stellen auf 1, die in *beiden* Zahlen gesetzt sind:\n",
    "```plaintext\n",
    "26       = 0b11010\n",
    "testbit  = 0b00001\n",
    "26 & tb  = 0b00000 = 0\n",
    "```\n",
    "26 und das *testbit* `0b00001` haben keine Stelle, in der beidesmal `1` gesetzt ist.\n",
    "\n",
    "Als nächstes prüfen wir das *bit* für die Aktion \"double blink\": `0b00010`."
   ]
  },
  {
   "cell_type": "code",
   "execution_count": 57,
   "id": "a6c361b8-a5cf-4315-85ce-789cbee25133",
   "metadata": {},
   "outputs": [
    {
     "data": {
      "text/plain": [
       "2"
      ]
     },
     "execution_count": 57,
     "metadata": {},
     "output_type": "execute_result"
    }
   ],
   "source": [
    "testbit = 0b00010\n",
    "n & testbit"
   ]
  },
  {
   "cell_type": "markdown",
   "id": "80b23b07-30b1-438b-9188-3efa8ca3e038",
   "metadata": {},
   "source": [
    "Das Ergebnis 2 bedeutet, dass das *testbit* in 26 gesetzt ist:\n",
    "```plaintext\n",
    "26       = 0b11010\n",
    "testbit  = 0b00010\n",
    "26 & tb  = 0b00010 = 2\n",
    "```\n",
    "26 und das *testbit* `0b00010` haben genau eine Stelle, in der beidesmal `1` gesetzt ist.\n",
    "Das ist die 2. Stelle von rechts, also die Stelle mit Index 1; daher ist `26 & tb` gleich `0b00010` $=2^1=2$.\n",
    "\n",
    "Wenn `n & testbit` also größer als 0 ist, dann ist das *testbit* in `n` gesetzt.\n",
    "Wir können somit jedes *bit* auf folgende Weise testen:"
   ]
  },
  {
   "cell_type": "code",
   "execution_count": 58,
   "id": "48a69173-c4dd-419c-af64-883a76d77198",
   "metadata": {},
   "outputs": [
    {
     "name": "stdout",
     "output_type": "stream",
     "text": [
      "Das testbit für \"double blink\" in n = 0b11010 ist gesetzt.\n"
     ]
    }
   ],
   "source": [
    "if n & testbit > 0: print(f'Das testbit für \"double blink\" in n = {n:#b} ist gesetzt.')"
   ]
  },
  {
   "cell_type": "markdown",
   "id": "4c51f04a-cc44-44a1-8d8e-2236997d3550",
   "metadata": {},
   "source": [
    "Diesen Test kann man in Python auch verkürzt schreiben, d.h. ohne den expliziten Test `> 0`:"
   ]
  },
  {
   "cell_type": "code",
   "execution_count": 59,
   "id": "98b3bc78-c6da-4347-b189-140388ca1360",
   "metadata": {},
   "outputs": [
    {
     "name": "stdout",
     "output_type": "stream",
     "text": [
      "Das testbit für \"double blink\" in n = 0b11010 ist gesetzt.\n"
     ]
    }
   ],
   "source": [
    "if n & testbit: print(f'Das testbit für \"double blink\" in n = {n:#b} ist gesetzt.')"
   ]
  },
  {
   "cell_type": "markdown",
   "id": "d8185e59-8ae3-4530-904f-3fa2d0a9e58a",
   "metadata": {},
   "source": [
    "Das funtioniert in Python deshalb, weil ein Test auf `0` immer `False` liefert, ein Test auf jede andere Zahl immer `True`:"
   ]
  },
  {
   "cell_type": "code",
   "execution_count": 60,
   "id": "01b47a88-0d6a-4dac-9b6f-a561b90f4fd8",
   "metadata": {},
   "outputs": [
    {
     "name": "stdout",
     "output_type": "stream",
     "text": [
      "1: True\n",
      "26: True\n"
     ]
    }
   ],
   "source": [
    "if 0: print(f\"0: {True}\")\n",
    "if 1: print(f\"1: {True}\")\n",
    "if 26: print(f\"26: {True}\")"
   ]
  },
  {
   "cell_type": "markdown",
   "id": "dd3e0454-ec85-4170-b19c-9eb7fe66b7db",
   "metadata": {},
   "source": [
    "Nun müssen wir diesen Test nur noch für alle anderen möglichen Aktionen durchführen und wir haben alles, was wir für die Lösung der Aufgabe brauchen.\\\n",
    "**Aufgabe**: Implementiere eine Funktion `your_handshake`, die eine Zahl zwischen 1 und 31 als Argument nimmt und eine Liste von *strings* der resultierenden Aktionen zurückliefert."
   ]
  },
  {
   "cell_type": "code",
   "execution_count": 61,
   "id": "9e45ba8c-638f-41b9-8687-a5a933c6dd78",
   "metadata": {},
   "outputs": [
    {
     "ename": "AssertionError",
     "evalue": "das Ergebnis ist nicht korrekt",
     "output_type": "error",
     "traceback": [
      "\u001b[0;31m---------------------------------------------------------------------------\u001b[0m",
      "\u001b[0;31mAssertionError\u001b[0m                            Traceback (most recent call last)",
      "Cell \u001b[0;32mIn[61], line 17\u001b[0m\n\u001b[1;32m     14\u001b[0m     \u001b[38;5;28;01massert\u001b[39;00m solution(\u001b[38;5;241m31\u001b[39m) \u001b[38;5;241m==\u001b[39m [\u001b[38;5;124m'\u001b[39m\u001b[38;5;124mjump\u001b[39m\u001b[38;5;124m'\u001b[39m, \u001b[38;5;124m'\u001b[39m\u001b[38;5;124mclose your eyes\u001b[39m\u001b[38;5;124m'\u001b[39m, \u001b[38;5;124m'\u001b[39m\u001b[38;5;124mdouble blink\u001b[39m\u001b[38;5;124m'\u001b[39m, \u001b[38;5;124m'\u001b[39m\u001b[38;5;124mwink\u001b[39m\u001b[38;5;124m'\u001b[39m], test_result\n\u001b[1;32m     15\u001b[0m     \u001b[38;5;28;01massert\u001b[39;00m solution(\u001b[38;5;241m32\u001b[39m) \u001b[38;5;241m==\u001b[39m [], test_result\n\u001b[0;32m---> 17\u001b[0m \u001b[43mtest_handshake\u001b[49m\u001b[43m(\u001b[49m\u001b[38;5;124;43m\"\u001b[39;49m\u001b[38;5;124;43myour\u001b[39;49m\u001b[38;5;124;43m\"\u001b[39;49m\u001b[43m)\u001b[49m\n",
      "Cell \u001b[0;32mIn[61], line 10\u001b[0m, in \u001b[0;36mtest_handshake\u001b[0;34m(s)\u001b[0m\n\u001b[1;32m      8\u001b[0m solution \u001b[38;5;241m=\u001b[39m your_handshake \u001b[38;5;28;01mif\u001b[39;00m s \u001b[38;5;241m==\u001b[39m \u001b[38;5;124m\"\u001b[39m\u001b[38;5;124myour\u001b[39m\u001b[38;5;124m\"\u001b[39m \u001b[38;5;28;01melse\u001b[39;00m my_handshake\n\u001b[1;32m      9\u001b[0m test_result \u001b[38;5;241m=\u001b[39m \u001b[38;5;124m\"\u001b[39m\u001b[38;5;124mdas Ergebnis ist nicht korrekt\u001b[39m\u001b[38;5;124m\"\u001b[39m\n\u001b[0;32m---> 10\u001b[0m \u001b[38;5;28;01massert\u001b[39;00m solution(\u001b[38;5;241m1\u001b[39m)  \u001b[38;5;241m==\u001b[39m [\u001b[38;5;124m'\u001b[39m\u001b[38;5;124mwink\u001b[39m\u001b[38;5;124m'\u001b[39m], test_result\n\u001b[1;32m     11\u001b[0m \u001b[38;5;28;01massert\u001b[39;00m solution(\u001b[38;5;241m4\u001b[39m)  \u001b[38;5;241m==\u001b[39m [\u001b[38;5;124m'\u001b[39m\u001b[38;5;124mclose your eyes\u001b[39m\u001b[38;5;124m'\u001b[39m], test_result\n\u001b[1;32m     12\u001b[0m \u001b[38;5;28;01massert\u001b[39;00m solution(\u001b[38;5;241m5\u001b[39m)  \u001b[38;5;241m==\u001b[39m [\u001b[38;5;124m'\u001b[39m\u001b[38;5;124mwink\u001b[39m\u001b[38;5;124m'\u001b[39m, \u001b[38;5;124m'\u001b[39m\u001b[38;5;124mclose your eyes\u001b[39m\u001b[38;5;124m'\u001b[39m], test_result\n",
      "\u001b[0;31mAssertionError\u001b[0m: das Ergebnis ist nicht korrekt"
     ]
    }
   ],
   "source": [
    "def your_handshake(n):\n",
    "    actions = []\n",
    "    \n",
    "    return actions\n",
    "\n",
    "# Ändere nicht den folgenden Test Code\n",
    "def test_handshake(s):\n",
    "    solution = your_handshake if s == \"your\" else my_handshake\n",
    "    test_result = \"das Ergebnis ist nicht korrekt\"\n",
    "    assert solution(1)  == ['wink'], test_result\n",
    "    assert solution(4)  == ['close your eyes'], test_result\n",
    "    assert solution(5)  == ['wink', 'close your eyes'], test_result\n",
    "    assert solution(26) == ['jump', 'double blink'], test_result\n",
    "    assert solution(31) == ['jump', 'close your eyes', 'double blink', 'wink'], test_result\n",
    "    assert solution(32) == [], test_result\n",
    "\n",
    "test_handshake(\"your\")"
   ]
  },
  {
   "cell_type": "code",
   "execution_count": 62,
   "id": "234414dd-c95e-4311-9302-1361ac3ecece",
   "metadata": {},
   "outputs": [],
   "source": [
    "def my_handshake(n):\n",
    "    actions = []\n",
    "    if n & 0b00001: actions.append(\"wink\")\n",
    "    if n & 0b00010: actions.append(\"double blink\")\n",
    "    if n & 0b00100: actions.append(\"close your eyes\")\n",
    "    if n & 0b01000: actions.append(\"jump\")\n",
    "    if n & 0b10000: actions.reverse()\n",
    "    return actions\n",
    "\n",
    "test_handshake(\"my\")"
   ]
  },
  {
   "cell_type": "markdown",
   "id": "30572518-5b28-4ee8-815f-11450e130361",
   "metadata": {},
   "source": [
    "Die Lösung ist zwar korrekt, aber ziemlich mühsam, da wir den relevanten Code für jedes zu testende *bit* wiederholen müssen.\n",
    "Allein das Wort *wiederholen* weist uns darauf hin, dass wir das Problem mit einer Schleife lösen könnten, in der wir die selbe Anweisung mit unterschiedlichen Werten ausführen.\n",
    "\n",
    "Was sind hier die unterschiedlichen Werte?\n",
    "Zum einen das *testbit*, zum anderen die jeweils auszuführende *Aktion*.\n",
    "\n",
    "**Testbit**:\\\n",
    "Wenn wir uns die *testbits* in unserer bisherigen Lösung anschauen, dann sehen wir, dass das gesetzte *bit* für jede folgende Aktion eine Stelle nach links rutscht.\n",
    "\n",
    "Das können wir mit dem bitwise *left-shift* Operator `<<` implementieren:"
   ]
  },
  {
   "cell_type": "code",
   "execution_count": 63,
   "id": "86c3c986-a848-43cf-a2a9-e969913a13ca",
   "metadata": {},
   "outputs": [
    {
     "name": "stdout",
     "output_type": "stream",
     "text": [
      "2^0 =  1 = 0b1\n",
      "2^1 =  2 = 0b10\n",
      "2^2 =  4 = 0b100\n",
      "2^3 =  8 = 0b1000\n",
      "2^4 = 16 = 0b10000\n"
     ]
    }
   ],
   "source": [
    "for i in range(5):\n",
    "    print(f\"2^{i} = {2**i:2} = {1<<i:#b}\")"
   ]
  },
  {
   "cell_type": "markdown",
   "id": "e17e2e22-13a3-4dcb-b950-24bb0594b806",
   "metadata": {},
   "source": [
    "Die Anweisung `range(5)` erzeugt eine Sequenz von Zahlen im Intervall $[0,5)$ also die Zahlen $0,1,2,3,4$.\\\n",
    "Das Zeichen `^` lesen wir als \"hoch\", es gibt also die jeweilge Zweierpotenz an.\\\n",
    "Das erste *testbit* habe ich anstatt mit `0b00001` einfach mit `1` angegeben, da Python jede eingegeben Dezimalzahl automatisch in eine Binärzahl konvertiert und bei der Ausgabe wieder zurück ins Dezimalsystem konvertiert:"
   ]
  },
  {
   "cell_type": "code",
   "execution_count": 64,
   "id": "cb1ce264-b80c-42a3-8b26-7c9848e4cdb8",
   "metadata": {},
   "outputs": [
    {
     "data": {
      "text/plain": [
       "1"
      ]
     },
     "execution_count": 64,
     "metadata": {},
     "output_type": "execute_result"
    }
   ],
   "source": [
    "0b00001"
   ]
  },
  {
   "cell_type": "markdown",
   "id": "b306ba5c-52c0-459a-9b41-a78ce4bad730",
   "metadata": {},
   "source": [
    "**Aktion**:\\\n",
    "Wie können wir die Werte für die jeweils auszuführende *Aktion* in der Schleife ermitteln?\\\n",
    "Versuche diese Frage für dich zu beantworten.\n",
    "Wenn du keine Idee hast, dann schaue dir nochmal **Problem 1** an, da haben wir das schon einmal gemacht.\n",
    "\n",
    "*Antwort*: Wir könnten den Spieß umdrehen: anstatt die *resultierenden* Aktionen mit unserem Code zu ermitteln, könnten wir zuerst die *zulässigen* Aktionen definieren und dann in der Schleife auf diese Aktionen zugreifen.\n",
    "\n",
    "Die *zulässigen* Aktionen können wir z.B. in einer Liste speichern"
   ]
  },
  {
   "cell_type": "code",
   "execution_count": 65,
   "id": "86ce3548-4b14-40b6-9eba-c7257a51f3c5",
   "metadata": {},
   "outputs": [],
   "source": [
    "actions = [\"wink\", \"double blink\", \"close your eyes\", \"jump\"]"
   ]
  },
  {
   "cell_type": "markdown",
   "id": "4c797e76-7bcd-48e8-b599-afc810a7307f",
   "metadata": {},
   "source": [
    "und über den Index auf eine bestimmte Aktion zugreifen:"
   ]
  },
  {
   "cell_type": "code",
   "execution_count": 66,
   "id": "1b11d21c-db91-4d33-b890-69baf1a8c4d3",
   "metadata": {},
   "outputs": [
    {
     "data": {
      "text/plain": [
       "'double blink'"
      ]
     },
     "execution_count": 66,
     "metadata": {},
     "output_type": "execute_result"
    }
   ],
   "source": [
    "actions[1]"
   ]
  },
  {
   "cell_type": "markdown",
   "id": "b456946e-314f-4a2d-ab9a-0e82df6930ea",
   "metadata": {},
   "source": [
    "Erinnere dich, dass in Python auch der Index einer Liste mit 0 beginnt.\n",
    "Wir bekommen mit `action[1]` also den zweiten Wert der Liste zurück.\n",
    "Das ist ziemlich praktisch, da wir damit über eine `range` mit der Länge der Liste direkt auf ihre Inhalt zugreifen können:"
   ]
  },
  {
   "cell_type": "code",
   "execution_count": 67,
   "id": "395bf0b7-f4c2-4d68-80ec-1e1f929e6fec",
   "metadata": {},
   "outputs": [
    {
     "name": "stdout",
     "output_type": "stream",
     "text": [
      "wink\n",
      "double blink\n",
      "close your eyes\n",
      "jump\n"
     ]
    }
   ],
   "source": [
    "for i in range(len(actions)):\n",
    "    print(actions[i])"
   ]
  },
  {
   "cell_type": "markdown",
   "id": "8de95067-f717-4f02-a451-2d8748ea79cb",
   "metadata": {},
   "source": [
    "**Aufgabe**: Vereinfache deine bisherige Lösung, indem du wiederholten Code in einer Schleife zusammenfasst.\\\n",
    "**Hinweis**: Verwende eine `for` Schleife, die den Index von `actions` umfasst und verschiebe das *testbit* in jedem Durchlauf eine Stelle nach links."
   ]
  },
  {
   "cell_type": "code",
   "execution_count": 68,
   "id": "f56baaec-1b22-45f4-835e-6041e3f760cd",
   "metadata": {},
   "outputs": [
    {
     "ename": "AssertionError",
     "evalue": "das Ergebnis ist nicht korrekt",
     "output_type": "error",
     "traceback": [
      "\u001b[0;31m---------------------------------------------------------------------------\u001b[0m",
      "\u001b[0;31mAssertionError\u001b[0m                            Traceback (most recent call last)",
      "Cell \u001b[0;32mIn[68], line 7\u001b[0m\n\u001b[1;32m      3\u001b[0m     \u001b[38;5;66;03m# implementiere hier deine Schleife\u001b[39;00m\n\u001b[1;32m      5\u001b[0m     \u001b[38;5;28;01mreturn\u001b[39;00m res\n\u001b[0;32m----> 7\u001b[0m \u001b[43mtest_handshake\u001b[49m\u001b[43m(\u001b[49m\u001b[38;5;124;43m\"\u001b[39;49m\u001b[38;5;124;43myour\u001b[39;49m\u001b[38;5;124;43m\"\u001b[39;49m\u001b[43m)\u001b[49m\n",
      "Cell \u001b[0;32mIn[61], line 10\u001b[0m, in \u001b[0;36mtest_handshake\u001b[0;34m(s)\u001b[0m\n\u001b[1;32m      8\u001b[0m solution \u001b[38;5;241m=\u001b[39m your_handshake \u001b[38;5;28;01mif\u001b[39;00m s \u001b[38;5;241m==\u001b[39m \u001b[38;5;124m\"\u001b[39m\u001b[38;5;124myour\u001b[39m\u001b[38;5;124m\"\u001b[39m \u001b[38;5;28;01melse\u001b[39;00m my_handshake\n\u001b[1;32m      9\u001b[0m test_result \u001b[38;5;241m=\u001b[39m \u001b[38;5;124m\"\u001b[39m\u001b[38;5;124mdas Ergebnis ist nicht korrekt\u001b[39m\u001b[38;5;124m\"\u001b[39m\n\u001b[0;32m---> 10\u001b[0m \u001b[38;5;28;01massert\u001b[39;00m solution(\u001b[38;5;241m1\u001b[39m)  \u001b[38;5;241m==\u001b[39m [\u001b[38;5;124m'\u001b[39m\u001b[38;5;124mwink\u001b[39m\u001b[38;5;124m'\u001b[39m], test_result\n\u001b[1;32m     11\u001b[0m \u001b[38;5;28;01massert\u001b[39;00m solution(\u001b[38;5;241m4\u001b[39m)  \u001b[38;5;241m==\u001b[39m [\u001b[38;5;124m'\u001b[39m\u001b[38;5;124mclose your eyes\u001b[39m\u001b[38;5;124m'\u001b[39m], test_result\n\u001b[1;32m     12\u001b[0m \u001b[38;5;28;01massert\u001b[39;00m solution(\u001b[38;5;241m5\u001b[39m)  \u001b[38;5;241m==\u001b[39m [\u001b[38;5;124m'\u001b[39m\u001b[38;5;124mwink\u001b[39m\u001b[38;5;124m'\u001b[39m, \u001b[38;5;124m'\u001b[39m\u001b[38;5;124mclose your eyes\u001b[39m\u001b[38;5;124m'\u001b[39m], test_result\n",
      "\u001b[0;31mAssertionError\u001b[0m: das Ergebnis ist nicht korrekt"
     ]
    }
   ],
   "source": [
    "def handshake(n):\n",
    "    res = []\n",
    "    # implementiere hier deine Schleife\n",
    "    \n",
    "    return res\n",
    "\n",
    "test_handshake(\"your\")"
   ]
  },
  {
   "cell_type": "code",
   "execution_count": 69,
   "id": "b4aa0ff3-abce-4d99-8dc6-69694158b704",
   "metadata": {},
   "outputs": [],
   "source": [
    "def my_handshake(n):\n",
    "    res = []\n",
    "    for i in range(len(actions)):\n",
    "        if n & 1<<i: res.append(actions[i])\n",
    "    if n & 1<<4: res.reverse()\n",
    "    return res\n",
    "\n",
    "test_handshake(\"my\")"
   ]
  },
  {
   "cell_type": "markdown",
   "id": "fb93880c-7da1-4b02-811a-b13083b97a9e",
   "metadata": {},
   "source": [
    "### Rückschau\n",
    "Wir haben die Funktion `handshake` verbessert (**inkrementelle Entwicklung**), indem wir die sich wiederholenden Anweisungen der Funktion in einer Schleife zusammengefasst haben.\n",
    "Wenn sich dabei die zu ändernden Werte nicht direkt aus dem Argument der Funktion berechnen lassen, gehen wir wie folgt vor:\\\n",
    "Wir definieren ein Objekt, das die zulässigen Werte für die Schleifenvariable enthält und *iterieren* dann über den Index dieses Objekts, d.h. wir durchlaufen eine Schleife mit dem Index des Objekts als Schleifenvariable.\n",
    "\n",
    "Dieses Vorgehen nennen wir **iterative Schleife** und fügen es ebenfalls unserem Werkzeugkoffer hinzu."
   ]
  },
  {
   "cell_type": "markdown",
   "id": "c6a910e6-9adb-4b77-8010-3a22cfbbc534",
   "metadata": {},
   "source": [
    "## Problem 4: [Exercism Roman Numerals](https://exercism.org/tracks/python/exercises/roman-numerals)\n",
    "### Problem\n",
    "Deine Aufgabe ist es, eine gegebene Dezimalzahl in eine römische Zahl zu umzuwandeln.\n",
    "Für diese Übung wollen wir nur *traditionelle* römische Zahlen in Betracht ziehen, also Zahlen die nicht größer sind als `MMMCMXCIX` (3999 im Dezimalsystem).\n",
    "Das Ergebnis soll ein *string* mit den Ziffern der römischen Zahl sein.\n",
    "\n",
    "### Analyse\n",
    "Wir haben den Aufbau des römischen Zahlensystems bereits in der Lektion kennengelernt.\n",
    "Wenn du dir nicht mehr sicher bist, lies nochmal in der Lektion nach.\n",
    "\n",
    "Dort haben wir auch schon eine Funktion `roman_to_decimal` entwickelt, die eine römische Zahl in eine Dezimalzahl konvertiert.\n",
    "Das vorliegende Problem behandelt den umgekehrten Fall; wir können davon ausgehen, dass es mit einem vergleichbaren Lösungsansatz zu lösen ist.\n",
    "\n",
    "### Lösung\n",
    "Da das römische Zahlensystem kein Positionssystem ist, können wir den Wert einer Ziffer nicht über deren Index berechnen.\n",
    "Wir brauchen also eine feste Zuordung der Werte römischer Ziffern zu den entsprechenden Zahlen im Dezimalsystem.\n",
    "In der Lektion haben wird das mit dem folgenden *dictionary* gemacht:"
   ]
  },
  {
   "cell_type": "code",
   "execution_count": 70,
   "id": "50f71533-0deb-4974-819a-008d4ea96005",
   "metadata": {},
   "outputs": [],
   "source": [
    "rom = {'I': 1, 'V': 5, 'X': 10, 'L': 50, 'C': 100, 'D': 500, 'M': 1000}"
   ]
  },
  {
   "cell_type": "markdown",
   "id": "d2fb4817-4df3-4139-a2f4-ab9cc8f86980",
   "metadata": {},
   "source": [
    "Dort war es sinnvoll, die römischen Ziffern als Schlüssel im *dictionary* zu verwenden, da die römischen Ziffern bekannt waren, und wir über den Schlüssel direkt auf die zugehörigen Dezimalzahlen zugreifen konnten.\n",
    "\n",
    "Ist diese Darstellung auch für unser aktuelles Problem geeignet?\\\n",
    "Um diese Frage zu beantworten müssen wir zunächst eine Lösungsstrategie entwerfen.\n",
    "\n",
    "Das römische Zahlensystem ist ein Additionssystem: der Wert einer römischen Zahl ergibt sich, indem wir die Werte aller Ziffern addieren:\n",
    "$$\n",
    "n=\\sum_{k=1}^m dec(r_k),\n",
    "$$\n",
    "wobei $m$ gleich der Anzahl der Ziffern der römischen Zahl ist, und $dec(r_k)$ den Wert der betreffenden Ziffer im Dezimalsystem angibt.\\\n",
    "Für unser Problem ist die Dezimalzahl $n$ vorgegeben, also die Summe der Werte der römischen Ziffern.\n",
    "Um die einzelnen Summanden einer Summe zu bestimmen, müssen wir diese nacheinander von der Summe, d.h. von $n$ subtrahieren.\n",
    "Dabei ist die Reihenfolge der Summanden erheblich: wir müssen immer den größtmöglichen Summanden zuerst abziehen.\n",
    "\n",
    "Wenn wir das nicht täten, dann würden wir ein Ergebnis wie das folgende erhalten:"
   ]
  },
  {
   "cell_type": "code",
   "execution_count": 71,
   "id": "68617c68-7d6a-4ac7-8db7-09ecf88579f5",
   "metadata": {},
   "outputs": [
    {
     "name": "stdout",
     "output_type": "stream",
     "text": [
      "IIIIIIII"
     ]
    }
   ],
   "source": [
    "n = 8\n",
    "for (r, d) in rom.items():\n",
    "    while n >= d:\n",
    "        n -= d\n",
    "        print(r, end='')"
   ]
  },
  {
   "cell_type": "markdown",
   "id": "e5e0bf40-9ce1-47da-8f46-bb521551be40",
   "metadata": {},
   "source": [
    "Hier habe ich die gleiche Strategie wie in **Problem 1** und **Problem 3** angewandt:\n",
    "um die Anweisung `n -= d` mehrfach auszuführen, habe ich sie innerhalb einer `for` Schleife angegeben, die alle Elemente des *dictionary* `rom` durchläuft.\n",
    "Da es sein kann, dass ein Summand (eine römische Ziffer) mehrfach in einer Zahl vorkommt, durchlaufe ich jeden Summanden in einer zweiten Schleife, solange solage `d` nicht kleiner als `n` ist.\n",
    "\n",
    "Um diese Strategie erfolgreich anzuwenden, brauchen wir also eine geordnete Abbildung von römischen Ziffern auf ihre Werte im Dezimalsystem.\n",
    "Ein *dictionary* ist hierfür ungeeignet, da hier die Schlüssel-Werte Paare keiner Ordnung unterliegen.\n",
    "Eine gewöhnliche Liste würde aber den Zweck erfüllen, da hier die Werte geordnet sind.\\\n",
    "**Aufgabe**: Wandle das *dictionary* `rom` in eine Liste `dec` um, in der die Wertepaare absteigend nach ihrem Dezimalwert geordnet sind.\\\n",
    "**Hinweis**: Verwende ür die Umwandlung die Funktion `list`, und für die Sortierung die Funktion `sort`."
   ]
  },
  {
   "cell_type": "code",
   "execution_count": 72,
   "id": "86d95c50-4ba6-4297-aabd-b00d11633b3c",
   "metadata": {},
   "outputs": [
    {
     "ename": "AssertionError",
     "evalue": "",
     "output_type": "error",
     "traceback": [
      "\u001b[0;31m---------------------------------------------------------------------------\u001b[0m",
      "\u001b[0;31mAssertionError\u001b[0m                            Traceback (most recent call last)",
      "Cell \u001b[0;32mIn[72], line 3\u001b[0m\n\u001b[1;32m      1\u001b[0m dec \u001b[38;5;241m=\u001b[39m rom\u001b[38;5;241m.\u001b[39mitems()\n\u001b[0;32m----> 3\u001b[0m \u001b[38;5;28;01massert\u001b[39;00m dec \u001b[38;5;241m==\u001b[39m [(\u001b[38;5;124m'\u001b[39m\u001b[38;5;124mM\u001b[39m\u001b[38;5;124m'\u001b[39m, \u001b[38;5;241m1000\u001b[39m), (\u001b[38;5;124m'\u001b[39m\u001b[38;5;124mD\u001b[39m\u001b[38;5;124m'\u001b[39m, \u001b[38;5;241m500\u001b[39m), (\u001b[38;5;124m'\u001b[39m\u001b[38;5;124mC\u001b[39m\u001b[38;5;124m'\u001b[39m, \u001b[38;5;241m100\u001b[39m), (\u001b[38;5;124m'\u001b[39m\u001b[38;5;124mL\u001b[39m\u001b[38;5;124m'\u001b[39m, \u001b[38;5;241m50\u001b[39m), (\u001b[38;5;124m'\u001b[39m\u001b[38;5;124mX\u001b[39m\u001b[38;5;124m'\u001b[39m, \u001b[38;5;241m10\u001b[39m), (\u001b[38;5;124m'\u001b[39m\u001b[38;5;124mV\u001b[39m\u001b[38;5;124m'\u001b[39m, \u001b[38;5;241m5\u001b[39m), (\u001b[38;5;124m'\u001b[39m\u001b[38;5;124mI\u001b[39m\u001b[38;5;124m'\u001b[39m, \u001b[38;5;241m1\u001b[39m)]\n",
      "\u001b[0;31mAssertionError\u001b[0m: "
     ]
    }
   ],
   "source": [
    "dec = rom.items()\n",
    "\n",
    "assert dec == [('M', 1000), ('D', 500), ('C', 100), ('L', 50), ('X', 10), ('V', 5), ('I', 1)]"
   ]
  },
  {
   "cell_type": "code",
   "execution_count": 73,
   "id": "3475ef1c-c50f-4e75-b210-5778dd3f5ba2",
   "metadata": {},
   "outputs": [],
   "source": [
    "my_dec = list(rom.items())\n",
    "my_dec.sort(key=lambda t: t[1], reverse=True)\n",
    "assert my_dec == [('M', 1000), ('D', 500), ('C', 100), ('L', 50), ('X', 10), ('V', 5), ('I', 1)]"
   ]
  },
  {
   "cell_type": "markdown",
   "id": "83b4ee34-c68f-4709-ae61-8a5dc7d8d583",
   "metadata": {},
   "source": [
    "Die Umwandlung führt zu einer Liste von Tupeln, also einer Liste von je zwei zugeordneten Werten innerhalb einer runden Klammer in der Form `(a, b)`.\\\n",
    "Um diese Liste absteigend zu sortieren, belegen wir den Parameter `reverse` der `sort` Funktion mit `True`.\\\n",
    "Nun müssen wir der `sort` Funktion nur noch mitteilen, nach welchem der beiden Werte eines Tupels sortiert werden soll.\n",
    "Wir machen das über den Parameter `key`, den wir mit einer *anonymen Funktion* belegen.\n",
    "\n",
    "Eine anonyme Funktion ist eine Funktion, die keinen Namen hat und die mit dem Schlüsselwort `lambda` definiert wird.\n",
    "In unserem Fall haben wir also eine anonyme Funktion mit einem Parameter `t` definiert; die einzige Anweisung dieser Funktion ist der Ausdruck `t[1]`, mit der wir der `sort` Funktion mitteilen, dass sie nach dem zweiten Wert innerhalb jeden Tupels sortieren soll, d.h. nach dem Dezimalwert.\n",
    "\n",
    "Wenn wir unsere obige Strategie jetzt mit der Liste `dec` anwenden, erhalten wir folgendes, offensichtlich korrektes Ergebnis:"
   ]
  },
  {
   "cell_type": "code",
   "execution_count": 74,
   "id": "4099d45a-6c0b-41a8-b9d8-e8a29c661637",
   "metadata": {},
   "outputs": [
    {
     "name": "stdout",
     "output_type": "stream",
     "text": [
      "VIII"
     ]
    }
   ],
   "source": [
    "n = 8\n",
    "for (r, d) in my_dec:\n",
    "    while n >= d:\n",
    "        n -= d\n",
    "        print(r, end='')"
   ]
  },
  {
   "cell_type": "markdown",
   "id": "a3dd0ed2-3700-4e89-a51f-ca96f0e3cd6d",
   "metadata": {},
   "source": [
    "**Aufgabe**: Implementiere eine Funktion `decimal_to_roman`, die eine natürliche Zahl $n < 4000$ als Argument nimmt und die entsprechende römische Zahl als *string* ausgibt.\\\n",
    "**Hinweis**: Wende unsere Strategie mit der Liste `dec` an."
   ]
  },
  {
   "cell_type": "code",
   "execution_count": 75,
   "id": "d37c0eda-bc08-4284-864c-f21061632873",
   "metadata": {},
   "outputs": [
    {
     "ename": "AssertionError",
     "evalue": "das Ergebnis ist nicht korrekt",
     "output_type": "error",
     "traceback": [
      "\u001b[0;31m---------------------------------------------------------------------------\u001b[0m",
      "\u001b[0;31mAssertionError\u001b[0m                            Traceback (most recent call last)",
      "Cell \u001b[0;32mIn[75], line 7\u001b[0m\n\u001b[1;32m      3\u001b[0m     \u001b[38;5;66;03m# implementiere hier deine Strategie\u001b[39;00m\n\u001b[1;32m      5\u001b[0m     \u001b[38;5;28;01mreturn\u001b[39;00m res\n\u001b[0;32m----> 7\u001b[0m \u001b[38;5;28;01massert\u001b[39;00m decimal_to_roman(\u001b[38;5;241m8\u001b[39m) \u001b[38;5;241m==\u001b[39m \u001b[38;5;124m'\u001b[39m\u001b[38;5;124mVIII\u001b[39m\u001b[38;5;124m'\u001b[39m, \u001b[38;5;124m\"\u001b[39m\u001b[38;5;124mdas Ergebnis ist nicht korrekt\u001b[39m\u001b[38;5;124m\"\u001b[39m\n",
      "\u001b[0;31mAssertionError\u001b[0m: das Ergebnis ist nicht korrekt"
     ]
    }
   ],
   "source": [
    "def decimal_to_roman(n):\n",
    "    res = \"\"\n",
    "    # implementiere hier deine Strategie\n",
    "\n",
    "    return res\n",
    "\n",
    "assert decimal_to_roman(8) == 'VIII', \"das Ergebnis ist nicht korrekt\""
   ]
  },
  {
   "cell_type": "code",
   "execution_count": 76,
   "id": "50d2ff9a-727c-4081-81ed-6cc71fcfd2f7",
   "metadata": {},
   "outputs": [],
   "source": [
    "def my_decimal_to_roman(n):\n",
    "    assert n < 4000, \"die Eingabezahl ist zu groß für eine traditionelle römische Zahl\"\n",
    "    res = \"\"\n",
    "    for (r, d) in my_dec:\n",
    "        while n >= d:\n",
    "            n -= d\n",
    "            res += r\n",
    "    return res\n",
    "\n",
    "assert my_decimal_to_roman(8) == 'VIII'"
   ]
  },
  {
   "cell_type": "markdown",
   "id": "8fb0abf9-bef1-47c1-99d3-107244f3f705",
   "metadata": {},
   "source": [
    "Es scheint, als hätten wir das Problem gelöst.\\\n",
    "Wenn wir aber z.B. 1984 als Argument angeben, dann erhalten wir"
   ]
  },
  {
   "cell_type": "code",
   "execution_count": 77,
   "id": "0e18a61f-f70c-44d7-b74d-8d47482d91b2",
   "metadata": {},
   "outputs": [
    {
     "data": {
      "text/plain": [
       "'MDCCCCLXXXIIII'"
      ]
     },
     "execution_count": 77,
     "metadata": {},
     "output_type": "execute_result"
    }
   ],
   "source": [
    "my_decimal_to_roman(1984)"
   ]
  },
  {
   "cell_type": "markdown",
   "id": "0300f029-32cd-4464-8378-aaf5a62842aa",
   "metadata": {},
   "source": [
    "als Ergebnis, anstatt des erwarteten 'MCMLXXXIV'.\\\n",
    "**Frage**: Woran könnte das liegen?\\\n",
    "**Antwort**: Das Ergebnis ist grundsätzlich korrekt, die Ziffern \"C\" und \"I\" wiederholen sich aber jeweils vier mal; wir haben also vergessen, die *Subtraktionsregel* für die verkürzte Schreibweise der römischen Zahl anzuwenden.\n",
    "\n",
    "**Frage**: Wie könnten wir das Problem lösen?\\\n",
    "**Antwort**: Bei der Konvertierung `roman_to_decimal` in der Lektion haben wir das Problem mit einer zusätzlichen Anweisung innerhalb der Schleife gelöst.\n",
    "Das funktioniert hier aber nicht, da wir in der Schleife nicht wissen, in welchen Fällen wir die Subtraktionsregel anwenden sollen.\n",
    "Die einfachste Lösung ist also, diese Fälle unserer Liste `dec` hinzuzufügen.\n",
    "\n",
    "**Aufgabe**: Füge der Liste `dec` die für die Anwendung der Subtraktionsregel zulässigen Fälle hinzu.\\\n",
    "**Hinweis**: Die zulässigen Fälle sind in der Lektion abschließend aufgeführt."
   ]
  },
  {
   "cell_type": "code",
   "execution_count": 78,
   "id": "dfe85ccb-11df-4d9c-9f4b-fb1b5162e8cb",
   "metadata": {},
   "outputs": [
    {
     "ename": "AttributeError",
     "evalue": "'dict_items' object has no attribute 'append'",
     "output_type": "error",
     "traceback": [
      "\u001b[0;31m---------------------------------------------------------------------------\u001b[0m",
      "\u001b[0;31mAttributeError\u001b[0m                            Traceback (most recent call last)",
      "Cell \u001b[0;32mIn[78], line 1\u001b[0m\n\u001b[0;32m----> 1\u001b[0m \u001b[43mdec\u001b[49m\u001b[38;5;241;43m.\u001b[39;49m\u001b[43mappend\u001b[49m((\u001b[38;5;124m'\u001b[39m\u001b[38;5;124mIV\u001b[39m\u001b[38;5;124m'\u001b[39m, \u001b[38;5;241m4\u001b[39m))\n\u001b[1;32m      2\u001b[0m \u001b[38;5;66;03m# füge die restlichen Fälle hinzu:\u001b[39;00m\n",
      "\u001b[0;31mAttributeError\u001b[0m: 'dict_items' object has no attribute 'append'"
     ]
    }
   ],
   "source": [
    "dec.append(('IV', 4))\n",
    "# füge die restlichen Fälle hinzu:\n"
   ]
  },
  {
   "cell_type": "markdown",
   "id": "d236b63b-8cca-4a44-ba8c-deadf3b36141",
   "metadata": {},
   "source": [
    "Wir brauchen sechs zusätzliche Fälle:\n",
    "- `I` vor `V` oder `X`: `IV` = 4, `IX` = 9\n",
    "- `X` vor `L` oder `C`: `XL` = 40, `XC` = 90\n",
    "- `C` vor `D` oder `M`: `CD` = 400, `CM` = 900\n"
   ]
  },
  {
   "cell_type": "code",
   "execution_count": 79,
   "id": "58856dd9-e208-49be-b9c8-4baf6ef882ef",
   "metadata": {},
   "outputs": [],
   "source": [
    "my_dec.append(('IV', 4))\n",
    "my_dec.append(('IX', 9))\n",
    "my_dec.append(('XL', 40))\n",
    "my_dec.append(('XC', 90))\n",
    "my_dec.append(('CD', 400))\n",
    "my_dec.append(('CM', 900))\n",
    "\n",
    "my_dec.sort(key=lambda t: t[1], reverse=True)"
   ]
  },
  {
   "cell_type": "code",
   "execution_count": 80,
   "id": "b70303d4-db5f-4398-a221-323c2b207709",
   "metadata": {},
   "outputs": [],
   "source": [
    "assert my_dec == [\n",
    "    ('M', 1000),\n",
    "    ('CM', 900),\n",
    "    ('D', 500),\n",
    "    ('CD', 400),\n",
    "    ('C', 100),\n",
    "    ('XC', 90),\n",
    "    ('L', 50),\n",
    "    ('XL', 40),\n",
    "    ('X', 10),\n",
    "    ('IX', 9),\n",
    "    ('V', 5),\n",
    "    ('IV', 4),\n",
    "    ('I', 1)]"
   ]
  },
  {
   "cell_type": "markdown",
   "id": "be2e2547-f16b-4852-8766-13385d2767dd",
   "metadata": {},
   "source": [
    "Der besondere Charme dieser Lösung besteht darin, dass wir unsere Funktion `decimal_to_roman` gar nicht mehr anpassen müssen; sie liefert jetzt automatisch das korrekte Ergebnis."
   ]
  },
  {
   "cell_type": "code",
   "execution_count": 81,
   "id": "3bb191c3-149e-42b1-b698-452f169c8897",
   "metadata": {},
   "outputs": [],
   "source": [
    "assert my_decimal_to_roman(1984) ==  'MCMLXXXIV'\n",
    "assert my_decimal_to_roman(3999) ==  'MMMCMXCIX'"
   ]
  },
  {
   "cell_type": "markdown",
   "id": "ae024706-11ab-45eb-980b-81af81cc7155",
   "metadata": {},
   "source": [
    "Wenn du alle notwendigen Schritte unternommen hast, dann sollte das auch für deine Lösung gelten:"
   ]
  },
  {
   "cell_type": "code",
   "execution_count": 82,
   "id": "6883f9c1-6a3c-4004-b187-8422de46e7a6",
   "metadata": {},
   "outputs": [
    {
     "ename": "AssertionError",
     "evalue": "",
     "output_type": "error",
     "traceback": [
      "\u001b[0;31m---------------------------------------------------------------------------\u001b[0m",
      "\u001b[0;31mAssertionError\u001b[0m                            Traceback (most recent call last)",
      "Cell \u001b[0;32mIn[82], line 1\u001b[0m\n\u001b[0;32m----> 1\u001b[0m \u001b[38;5;28;01massert\u001b[39;00m decimal_to_roman(\u001b[38;5;241m1984\u001b[39m) \u001b[38;5;241m==\u001b[39m  \u001b[38;5;124m'\u001b[39m\u001b[38;5;124mMCMLXXXIV\u001b[39m\u001b[38;5;124m'\u001b[39m\n\u001b[1;32m      2\u001b[0m \u001b[38;5;28;01massert\u001b[39;00m decimal_to_roman(\u001b[38;5;241m3999\u001b[39m) \u001b[38;5;241m==\u001b[39m  \u001b[38;5;124m'\u001b[39m\u001b[38;5;124mMMMCMXCIX\u001b[39m\u001b[38;5;124m'\u001b[39m\n",
      "\u001b[0;31mAssertionError\u001b[0m: "
     ]
    }
   ],
   "source": [
    "assert decimal_to_roman(1984) ==  'MCMLXXXIV'\n",
    "assert decimal_to_roman(3999) ==  'MMMCMXCIX'"
   ]
  },
  {
   "cell_type": "markdown",
   "id": "26fc52e1-5d7e-4f12-b6ba-ccdf0ff92e60",
   "metadata": {},
   "source": [
    "### Rückschau\n",
    "Der Ausgangspunkt für unsere Lösung war ein verwandtes Problem, das wir bereits in der Lektion kennengelernt und gelöst hatten: die Konvertierung einer römischen Zahl ins Dezimalsystem.\n",
    "Diese Strategie nennen wir **nutze Bekanntes**, und fügen sie ebenfalls unserem Werkzeugkoffer hinzu.\n",
    "\n",
    "Außerdem haben wir das Muster erkannt, wie römische Zahlen zusammengesetzt sind (**Mustererkennung**), und haben dies für unsere Lösung verwendet.\n",
    "Dann haben wir eine **iterative Schleife** verwendet, indem wir die Elemente der `dec` Liste durchlaufen, die wir zuvor aus dem bekannten Problem in Form des *dictionary* `rom` gewonnen haben.\n",
    "Schließlich haben wir unsere Lösungsfuntion verbessert (**inkrementelle Entwicklung**), indem wir die Fälle der Subtraktionsregel zu der Liste `dec` hinzugefügt haben."
   ]
  },
  {
   "cell_type": "markdown",
   "id": "dfa07be3-21d7-4f61-b76a-07bed7c85f8d",
   "metadata": {},
   "source": [
    "## Rückschau\n",
    "In den Problemen dieses Notebooks haben wir folgende *Strategien* kennengelernt und sie unserem *Werkzeugkasten* hinzugefügt:\n",
    "- **schrittweises Vorgehen**\n",
    "- **Mustererkennung**\n",
    "- **inkrementelle Entwicklung**\n",
    "- **iterative Schleife**\n",
    "- **nutze Bekanntes**\n",
    "\n",
    "**Frage**: welche dieser Strategien haben wir für **Problem 1** angewandt?\\\n",
    "**Antwort**: Offensichtlich ist das *schrittweise Vorgehen*.\n",
    "Wir haben aber auch *nutze Bekanntes* verwendet, indem wir den Modulo Operator `%` aus der vorigen Lektion zum Finden der Teiler verwendet haben.\n",
    "Schließlich haben wir *inkrementelle Entwicklung* verwendet, um unsere Lösung mit einer *iterativen Schleife* zu verbessern."
   ]
  },
  {
   "cell_type": "code",
   "execution_count": null,
   "id": "000f67cb-bdd1-44f3-ac54-8b331f0f213c",
   "metadata": {},
   "outputs": [],
   "source": []
  }
 ],
 "metadata": {
  "kernelspec": {
   "display_name": "Python 3 (ipykernel)",
   "language": "python",
   "name": "python3"
  },
  "language_info": {
   "codemirror_mode": {
    "name": "ipython",
    "version": 3
   },
   "file_extension": ".py",
   "mimetype": "text/x-python",
   "name": "python",
   "nbconvert_exporter": "python",
   "pygments_lexer": "ipython3",
   "version": "3.12.2"
  }
 },
 "nbformat": 4,
 "nbformat_minor": 5
}
