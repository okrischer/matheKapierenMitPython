{
 "cells": [
  {
   "cell_type": "markdown",
   "id": "d6ae4523-8d8c-4f4d-afa4-800fa77c0019",
   "metadata": {},
   "source": [
    "# Teiler und Vielfache\n",
    "## Vorbemerkungen zu den Notebooks\n",
    "In den Übungsblättern (*Jupyter Notebooks*) werden wir die Inhalte der Lektionen einüben, um sicher im Umgang mit den mathematischen Regeln zu werden.\n",
    "Als Werkzeug hierfür verwenden wir *Python*, bzw. kleinere Programme, die du selbst hier in Python erstellen wirst.\n",
    "\n",
    "Wir werden hierzu auf Problemstellungen zurückgreifen, die im Internet frei verfügbar sind, z.B. auf den Plattformen [Exercism](https://exercism.org) und [Poject Euler](https://projecteuler.net/).\n",
    "Du kannst dich direkt dort umsehen und auch gleich einen eigenenen Account anlegen, um deine eigenen Lösungen dort zu prüfen.\n",
    "Das ist aber nicht unbedingt notwendig, du kannst auch einfach nur in diesem Notebook arbeiten.\n",
    "\n",
    "Wenn du noch keine oder geringe Programmiererfahrung hast, mach die keine Sorgen, du kannst trotzdem gleich mit der ersten Problemstellung beginnen.\n",
    "Ich werde dich Schritt für Schritt bis zur Lösung führen.\n",
    "\n",
    "### Problem 1: [Euler 1](https://projecteuler.net/problem=1)\n",
    "**Vielfache von 3 oder 5**\\\n",
    "Wenn wir alle natürlicher Zahlen kleiner als 10 auflisten, die Vielfache von 3 oder 5 sind, erhalten wir $3,5,6 \\ \\mathrm{und} \\ 9$.\n",
    "Die Summe dieser Vielfachen ist $23$.\\\n",
    "**Finde die Summe aller Vielfachen von 3 oder 5 unter 1000**.\n",
    "\n",
    "Die Lösung eines Problems ist typischerweise nicht sofort ersichtlich; wenn sie das wäre, dann hätten wir gar kein Problem.\n",
    "\n",
    "Das Problem besteht hier darin, dass wir die Vielfachen von 3 und 5 nicht kennen, und dass es ziemlich viele von ihnen gibt.\n",
    "Wir suchen also nach einer Formel, wie wir diese Vielfachen einfach berechnen können, um uns manuelle Rechenarbeit zu ersparen.\n",
    "\n",
    "Eine Zahl $n$ ist ein Vielfaches einer Zahl $m$, wenn $m$ ein Teiler von $n$ ist, sich $n$ also ohne Rest durch $m$ teilen läßt.\n",
    "Das erinnert an die *Division mit Rest* aus der Lektion: $n \\div m = q + r$, wobei $q$ der Ganzzahlquotient und $r$ der Rest der Division ist.\n",
    "Wenn der Rest der Division $n\\div m$ also gleich 0 ist, dann ist $m$ ein Teiler von $n$, und $n$ ist ein Vielfaches von $m$.\n",
    "\n",
    "Die Teiler $m$ kennen wir: das sind die Zahlen 3 und 5 aus der Problemstellung.\n",
    "Den Rest der Division $n\\div m$ schreiben wir als: $n \\ \\mathrm{mod} \\ m$.\n",
    "Damit ist eine Zahl $n$ ein Vielfaches von 3 oder 5 wenn gilt: $n \\ \\mathrm{mod} \\ 3=0 \\ \\mathrm{oder} \\ n \\ \\mathrm{mod} \\ 5=0$.\n",
    "\n",
    "Unser Lösungsansatz könnte also so aussehen:\n",
    "Wir durchlaufen alle natürlichen Zahlen $n<1000$ und testen, ob 3 oder 5 ein Teiler von $n$ ist.\n",
    "Wenn ja, dann ist $n$ ein Vielfaches von 3 oder 5, und wir addieren $n$ zu einer laufenden Summe.\n",
    "\n",
    "Wir wollen unsere Lösungen immer als Funktionen schreiben, damit wir sie später einfach aufrufen können.\\\n",
    "**Aufgabe**: vervollständige die Funktionsdefinition `your_solution` in der folgenden Zelle.\\\n",
    "**Hinweis**: der *modulo* Operator in Python ist `%`. Der Test auf Gleichheit erfolgt mit `==`. \n",
    "\n",
    "Zum Öffen einer Zelle wähle sie mit den Cursor-Tasten ↑ oder ↓ aus (oder klicke in die Zelle) und drücke dann die Eingabetaste `<Enter>` (↲). Um den Python Code einer Zelle auszuführen, halte die Umschalttaste gedrückt und drücke die Eingabeteaste: `<shift><Enter>` (⇑↲).\\\n",
    "Achte darauf, jede Code Zelle mindestens einmal auszuführen bevor du zur nächsten Zelle gehst, auch wenn du gar keine Änderung vorgenommen hast."
   ]
  },
  {
   "cell_type": "code",
   "execution_count": 1,
   "id": "f718b1f6-5961-4845-ba05-e19afa51d065",
   "metadata": {},
   "outputs": [
    {
     "ename": "AssertionError",
     "evalue": "das Ergebnis ist nicht korrekt",
     "output_type": "error",
     "traceback": [
      "\u001b[0;31m---------------------------------------------------------------------------\u001b[0m",
      "\u001b[0;31mAssertionError\u001b[0m                            Traceback (most recent call last)",
      "Cell \u001b[0;32mIn[1], line 9\u001b[0m\n\u001b[1;32m      6\u001b[0m     \u001b[38;5;28;01mreturn\u001b[39;00m res\n\u001b[1;32m      8\u001b[0m \u001b[38;5;66;03m# ändere nicht die folgende Zeile\u001b[39;00m\n\u001b[0;32m----> 9\u001b[0m \u001b[38;5;28;01massert\u001b[39;00m your_solution(\u001b[38;5;241m10\u001b[39m) \u001b[38;5;241m==\u001b[39m \u001b[38;5;241m23\u001b[39m, \u001b[38;5;124m\"\u001b[39m\u001b[38;5;124mdas Ergebnis ist nicht korrekt\u001b[39m\u001b[38;5;124m\"\u001b[39m\n",
      "\u001b[0;31mAssertionError\u001b[0m: das Ergebnis ist nicht korrekt"
     ]
    }
   ],
   "source": [
    "def your_solution(limit):\n",
    "    n = 1\n",
    "    res = 0\n",
    "    # definiere hier deine while Schleife:\n",
    "    \n",
    "    return res\n",
    "\n",
    "# ändere nicht die folgende Zeile\n",
    "assert your_solution(10) == 23, \"das Ergebnis ist nicht korrekt\""
   ]
  },
  {
   "cell_type": "markdown",
   "id": "7f3f1554-d77a-4b5d-9a27-fffff7f77677",
   "metadata": {},
   "source": [
    "Die letzte Zeile der obigen Zelle testet, ob dein Ergebnis korrekt ist.\n",
    "Wir verwenden zum Test die Information aus der Problemstellung: die Summe der Vielfachen von 3 oder 5 kleiner als 10 ist gleich 23.\n",
    "\n",
    "Wenn du bei der Ausführung der Zelle einen `AssertionError` erhältst, dann ist dein Ergebnis nicht richtig.\n",
    "Wenn das passiert, finde deinen Fehler und behebe ihn.\n",
    "Falls du nicht weiterkommst, sieh dir meine Lösung in der nächsten Zelle an.\n",
    "\n",
    "Wenn dein Programm nicht mehr reagiert, dann hast du möglicherweise eine Endlos-Schleife erzeugt (vielleicht hast du vergessen, die Schleifenvariable `n` hochzuzählen?).\n",
    "In diesem Fall stoppe die Programmausführung mit dem Befehl `Interrupt Kernel` aus dem Menüpunkt `Kernel` von Jupyter.\n",
    "Du kannst hierzu auch auf das kleine graue Quadrat in der Symbolleiste des Notebooks klicken."
   ]
  },
  {
   "cell_type": "code",
   "execution_count": 2,
   "id": "ab3d1e45-55b2-4590-b945-f37972f29331",
   "metadata": {},
   "outputs": [
    {
     "name": "stdout",
     "output_type": "stream",
     "text": [
      "n: 3, result: 3\n",
      "n: 5, result: 8\n",
      "n: 6, result: 14\n",
      "n: 9, result: 23\n"
     ]
    }
   ],
   "source": [
    "def my_solution(limit):\n",
    "    n = 1\n",
    "    res = 0\n",
    "    while n < limit:\n",
    "        if n % 3 == 0 or n % 5 == 0:\n",
    "            res += n\n",
    "            # debugging info:\n",
    "            print(f\"n: {n}, result: {res}\")\n",
    "        n += 1\n",
    "    return res\n",
    "\n",
    "assert my_solution(10) == 23"
   ]
  },
  {
   "cell_type": "markdown",
   "id": "bcdead45-d5ee-40d8-9bff-2e5383f05d0e",
   "metadata": {},
   "source": [
    "Ich habe hier innerhalb der Schleife eine Zeile `debug info` eingefügt, die den aktuellen Wert der Variablen `n` und `res` für jeden Durchlauf ausgibt.\n",
    "Die Ausgaben der `debug info` können sehr hilfreich sein, um Fehler in deiner Programmlogik zu entdecken.\n",
    "\n",
    "Das Programm arbeitet offensichtlich richtig, zumindest für das `limit` 10.\n",
    "Das bietet aber keine Gewähr, dass es auch für das `limit` von 1000 korrekt arbeitet; es könnte einen Fehler enthalten, der sich erst für größere Argumente auswirkt.\n",
    "\n",
    "Da wir das korrekte Ergebnis für $limit=1000$ aber nicht kennen, haben wir zunächst keine Möglichkeit, weitere Tests durchzuführen.\\\n",
    "Wir wenden daher folgende Strategie an:\n",
    "wir erstellen eine zweite Version der Lösung, die einen anderen Algorithmus verwendet, und vergleichen dann die Ergebnisse beider Funktionen.\n",
    "\n",
    "Für die neue Version verwenden wir eine sogenannte *list comprehension*: die Werte der Vielfachen werden einer Liste hinzugefügt, indem wir eine `for` Schleife innerhalb von eckigen Klammern (begrenzt durch `[` und `]`) definieren.\n",
    "Die Funktion `sum()` berechnet dann die Summe der Listen-Elemente:"
   ]
  },
  {
   "cell_type": "code",
   "execution_count": 3,
   "id": "92c29a59-c558-4402-92c0-e6e1c199f0f3",
   "metadata": {},
   "outputs": [
    {
     "data": {
      "text/plain": [
       "91"
      ]
     },
     "execution_count": 3,
     "metadata": {},
     "output_type": "execute_result"
    }
   ],
   "source": [
    "def solve_with_comprehension(limit):\n",
    "    return sum([n for n in range(1, limit) if n%3 == 0 or n%5 == 0])\n",
    "\n",
    "# Neudefinition von my_solution ohne debug info:\n",
    "def solve(limit):\n",
    "    n = 1\n",
    "    res = 0\n",
    "    while n < limit:\n",
    "        if n % 3 == 0 or n % 5 == 0:\n",
    "            res += n\n",
    "        n += 1\n",
    "    return res\n",
    "\n",
    "assert solve_with_comprehension(10) == 23\n",
    "\n",
    "count = 0\n",
    "for limit in range(10, 1001, 11):\n",
    "    count += 1\n",
    "    assert solve(limit) == solve_with_comprehension(limit)\n",
    "count"
   ]
  },
  {
   "cell_type": "markdown",
   "id": "3683553b-d1fa-4100-97ab-173939b96ba0",
   "metadata": {},
   "source": [
    "Unsere neue Funktion liefert das gleiche Ergebnis wie unsere erste Lösung.\n",
    "Um die Testsabdeckung zu verbessern, habe ich mehrere Tests in einer Schleife ausgeführt, wobei jeweils ein anderer Wert für `limit` gesetzt wird.\n",
    "Das dritte Argument der `range()` Funktion gibt dabei die Schrittweite an; wir haben unsere Funktionen also mit den Argumenten $10, 21, 32, \\dots, 1000$ aufgerufen, insgesamt 91 mal.\n",
    "\n",
    "Damit können wir ziemlich sicher sein, dass unser Ergebnis für `solve(1000)` korrekt ist, und das Problem ist gelöst.\n",
    "Wir sind aber noch nicht fertig: \n",
    "die Lösung ist zwar korrekt, aber wir können sie noch verbessern, indem wir nach einer effizienteren Lösung suchen.\n",
    "\n",
    "Der Ausgangspunkt für eine efizientere Lösung ist die folgedne Idee:\n",
    "anstatt zu prüfen, ob $n$ durch 3 oder 5 teilbar ist, könnten wir zunächst alle Vielfachen von 3 und dann die Vielfachen von 5 suchen, und schließlich die Ergebnisse addieren.\n",
    "Dann müssten wir aber die gemeinsamen Vielfachen von 3 und 5 wieder subtrahieren (das sind die Vielfachen von $3\\cdot5=15$), da wir diese doppelt addiert hätten.\n",
    "\n",
    "Dann würden die beiden Teilsummen für die Vielfachen von 3 und 5 so aussehen\n",
    "$$\n",
    "\\begin{align}\n",
    "3 + 6 + 9 + \\cdots + 999 &= 3*(1 + 2 + 3 +\\cdots + 333) \\\\\n",
    "5 + 10 + 15 + \\cdots + 995 &= 5*(1 + 2 + 3 + \\cdots + 199)\n",
    "\\end{align}\n",
    "$$\n",
    "und wir könnten die [Gaußsche Summenformel](https://de.wikipedia.org/wiki/Gau%C3%9Fsche_Summenformel) anwenden:\n",
    "$$\n",
    "1+2+3+\\cdots+n = \\sum_{k=1}^n k = \\frac{n(n+1)}{2}\n",
    "$$\n",
    "Die Summenformel kann für verschiedene Teiler wie folgt in Python implementiert werden:"
   ]
  },
  {
   "cell_type": "code",
   "execution_count": 4,
   "id": "a0c45afe-6d99-4390-b38d-f0a84d98d2ea",
   "metadata": {},
   "outputs": [],
   "source": [
    "def gauss(limit, teiler):\n",
    "    m = (limit-1) // teiler\n",
    "    summe = (m * (m + 1)) // 2\n",
    "    return teiler * summe\n",
    "\n",
    "assert gauss(10, 3) == 3 + 6 + 9\n",
    "assert gauss(10, 5) == 5"
   ]
  },
  {
   "cell_type": "markdown",
   "id": "de78e6f6-378c-4043-91b2-3afd8659d213",
   "metadata": {},
   "source": [
    "Bleibt nur noch der letzte Schritt: addieren der beiden Teilsummen für 3 und 5, und davon die Summe für 15 subtrahieren.\\\n",
    "**Aufgabe**: vervollständige die Funktionsdefinition `your_optimized`."
   ]
  },
  {
   "cell_type": "code",
   "execution_count": 5,
   "id": "6d9b1e67-e1d8-4fd0-8271-c799a0e11d91",
   "metadata": {},
   "outputs": [
    {
     "ename": "AssertionError",
     "evalue": "Die Ergebnisse stimmen nicht überein",
     "output_type": "error",
     "traceback": [
      "\u001b[0;31m---------------------------------------------------------------------------\u001b[0m",
      "\u001b[0;31mAssertionError\u001b[0m                            Traceback (most recent call last)",
      "Cell \u001b[0;32mIn[5], line 4\u001b[0m\n\u001b[1;32m      1\u001b[0m \u001b[38;5;28;01mdef\u001b[39;00m \u001b[38;5;21myour_optimized\u001b[39m(limit):\n\u001b[1;32m      2\u001b[0m     \u001b[38;5;28;01mreturn\u001b[39;00m limit\n\u001b[0;32m----> 4\u001b[0m \u001b[38;5;28;01massert\u001b[39;00m your_optimized(\u001b[38;5;241m1000\u001b[39m) \u001b[38;5;241m==\u001b[39m solve(\u001b[38;5;241m1000\u001b[39m), \u001b[38;5;124m\"\u001b[39m\u001b[38;5;124mDie Ergebnisse stimmen nicht überein\u001b[39m\u001b[38;5;124m\"\u001b[39m\n",
      "\u001b[0;31mAssertionError\u001b[0m: Die Ergebnisse stimmen nicht überein"
     ]
    }
   ],
   "source": [
    "def your_optimized(limit):\n",
    "    return limit\n",
    "\n",
    "assert your_optimized(1000) == solve(1000), \"Die Ergebnisse stimmen nicht überein\""
   ]
  },
  {
   "cell_type": "code",
   "execution_count": 6,
   "id": "ffbc03d0-2259-411c-89e7-ee851c2cc39f",
   "metadata": {},
   "outputs": [],
   "source": [
    "def my_optimized(limit):\n",
    "    return gauss(limit, 3) + gauss(limit, 5) - gauss(limit, 15)\n",
    "\n",
    "assert my_optimized(1000) == solve(1000)"
   ]
  },
  {
   "cell_type": "markdown",
   "id": "0b75935e-8f5a-456f-b1f4-aca933db54cd",
   "metadata": {},
   "source": [
    "Die optimierte Funktion arbeitet korrekt, aber sie ist nicht besonders elegant:\n",
    "wir rufen wiederholt `gauss` mit dem immer gleichen *limit* auf.\n",
    "\n",
    "Um das zu vermeiden, können wir `gauss` als innere Funktion der Lösung definieren und dabei auf den Parameter `limit` verzichten, da dieser Parameter in der äußeren Funktion eingeführt wird.\\\n",
    "**Aufgabe**: definiere die Funktion `your_optimized` neu, indem du `gauss` als innere Funktion definierst."
   ]
  },
  {
   "cell_type": "code",
   "execution_count": 7,
   "id": "dc08e147-bd66-4f1b-8739-e9cb89ea433c",
   "metadata": {},
   "outputs": [
    {
     "ename": "AssertionError",
     "evalue": "Die Ergebnisse stimmen nicht überein",
     "output_type": "error",
     "traceback": [
      "\u001b[0;31m---------------------------------------------------------------------------\u001b[0m",
      "\u001b[0;31mAssertionError\u001b[0m                            Traceback (most recent call last)",
      "Cell \u001b[0;32mIn[7], line 10\u001b[0m\n\u001b[1;32m      7\u001b[0m     \u001b[38;5;66;03m# berechne und gib das Endergebnis zurück:\u001b[39;00m\n\u001b[1;32m      8\u001b[0m     \u001b[38;5;28;01mreturn\u001b[39;00m gauss(\u001b[38;5;241m3\u001b[39m)\n\u001b[0;32m---> 10\u001b[0m \u001b[38;5;28;01massert\u001b[39;00m your_optimized(\u001b[38;5;241m1000\u001b[39m) \u001b[38;5;241m==\u001b[39m solve(\u001b[38;5;241m1000\u001b[39m), \u001b[38;5;124m\"\u001b[39m\u001b[38;5;124mDie Ergebnisse stimmen nicht überein\u001b[39m\u001b[38;5;124m\"\u001b[39m\n",
      "\u001b[0;31mAssertionError\u001b[0m: Die Ergebnisse stimmen nicht überein"
     ]
    }
   ],
   "source": [
    "def your_optimized(limit):\n",
    "    def gauss(teiler):\n",
    "        # berechne hier die Summe für den gegebenen Teiler:\n",
    "        summe = teiler\n",
    "        \n",
    "        return summe\n",
    "    # berechne und gib das Endergebnis zurück:\n",
    "    return gauss(3)\n",
    "\n",
    "assert your_optimized(1000) == solve(1000), \"Die Ergebnisse stimmen nicht überein\""
   ]
  },
  {
   "cell_type": "code",
   "execution_count": 8,
   "id": "5c4580fb-5c7e-442c-9205-928d9ba3e49e",
   "metadata": {},
   "outputs": [],
   "source": [
    "def my_optimized(limit):\n",
    "    def gauss(teiler):\n",
    "        m = (limit-1) // teiler\n",
    "        summe = (m * (m + 1)) // 2\n",
    "        return teiler * summe\n",
    "    return gauss(3) + gauss(5) - gauss(15)\n",
    "\n",
    "assert my_optimized(1000) == solve(1000)"
   ]
  },
  {
   "cell_type": "markdown",
   "id": "6af48b95-668f-4bbb-8625-3089db80e9ae",
   "metadata": {},
   "source": [
    "Vielleicht fragst du dich, ob sich der Aufwand gelohnt hat und die optimierte Lösung tatsächlich effizienter ist.\n",
    "Das können wir mit dem *magic command* `%timeit` überprüfen, das die Laufzeit einer Anweisung misst, und uns so einen Einfruck über die Effizienz eines Algorithmus verschafft:"
   ]
  },
  {
   "cell_type": "code",
   "execution_count": 9,
   "id": "3922cd45-79e9-4969-9c08-46bf7af21ea5",
   "metadata": {},
   "outputs": [
    {
     "name": "stdout",
     "output_type": "stream",
     "text": [
      "44.5 μs ± 324 ns per loop (mean ± std. dev. of 7 runs, 10,000 loops each)\n"
     ]
    }
   ],
   "source": [
    "%timeit solve(1000)"
   ]
  },
  {
   "cell_type": "code",
   "execution_count": 26,
   "id": "f7bef4d5-5f64-471a-bf70-e0e3537721f0",
   "metadata": {},
   "outputs": [
    {
     "name": "stdout",
     "output_type": "stream",
     "text": [
      "375 ns ± 3.51 ns per loop (mean ± std. dev. of 7 runs, 1,000,000 loops each)\n"
     ]
    }
   ],
   "source": [
    "%timeit my_optimized(1000)"
   ]
  },
  {
   "cell_type": "markdown",
   "id": "a5d41ba5-06d6-4452-9e1d-1a8e0bd20a7f",
   "metadata": {},
   "source": [
    "Die Laufzeit für einen Aufruf von `solve(1000)` beträgt im Durchschnitt 44 Mikrosekunden ($\\mu s$).\n",
    "Eine Mikrosekunde ist eine Millionstel Sekunde ($10^{-6}s$).\\\n",
    "Die Laufzeit für einen Aufruf der optimierten Lösung beträgt im Durchschnitt 375 Nanosekunden (ns).\n",
    "Eine Nanosekunde ist eine Milliardstel Sekunde ($10^{-9}s$).\\\n",
    "Die optimierte Lösung ist also mehr als 100 mal schneller als unsere erste Lösung.\n",
    "\n",
    "**Beachte:** Wenn du die Zellen mit Zeitmessung ausführst, bekommst du wahrscheinlich abweichende Ergebnisse, abhängig von der Geschwindigkeit deines Computers."
   ]
  },
  {
   "cell_type": "markdown",
   "id": "6010c74f-7544-4a66-a218-077abc4e94e7",
   "metadata": {},
   "source": [
    "### Problem 2: [Euler 3](https://projecteuler.net/problem=3)\n",
    "**Größter Primfaktor**\\\n",
    "Die Primfaktoren von $13195$ sind $5,7,13,29$.\\\n",
    "**Was ist der größte Primfaktor der Zahl $600851475143$?**\n",
    "\n",
    "Ein Primfaktor einer Zahl $n$ ist eine Zahl, die Teiler von $n$ ist und dabei auch eine Primzahl ist.\n",
    "Eine Primzahl ist eine Zahl, die nur zwei Teiler hat, 1 und die Zahl selbst. \n",
    "Wir können also davon ausgehen, dass die gegebene Zahl $n$ keine Primzahl ist, denn dann wäre ihr größter Primfaktor die Zahl selbst, und wir hätten kein Problem zu lösen.\n",
    "\n",
    "Allein das Wort *Teiler* erinnert uns an **Problem 1**, und damit an die *Division mit Rest*.\n",
    "Wir könnten also versuchen, auch dieses Problem mit Hilfe des Modulo Operators `%` zu lösen.\n",
    "Ein erster Lösungsansatz könnte daher so aussehen:\n",
    "\n",
    "Wir durchlaufen alle natürlichen Zahlen größer als 1 und testen, ob die aktuelle Zahl $p$ die Eingabezahl $n$ ohne Rest teilt.\n",
    "Falls $p$ ein Faktor von $n$ ist, dann durchlaufen wir erneut alle natürlichen Zahlen größer 2 und testen dieses mal $p$ auf Teiler.\n",
    "Falls $p$ einen Teiler hat, dann kann $p$ keine Primzahl sein;\n",
    "anderenfalls fügen wir $p$ zu einer Liste von Primfaktoren hinzu und geben am Ende diese Liste aus.\n",
    "\n",
    "**Aufgabe**: implementiere diesen Algorithmus in der Funktion `your_solution` in der folgenden Zelle.\\\n",
    "**Hinweis**: du brauchst eine verschachtelte Schleife, also eine Schleife in einer Schleife, um beide Durchläufe für $n$ und $p$ zu realisieren."
   ]
  },
  {
   "cell_type": "code",
   "execution_count": 32,
   "id": "adb1bd29-30e2-4fc9-bb1c-0aa4038794e9",
   "metadata": {},
   "outputs": [
    {
     "ename": "AssertionError",
     "evalue": "das Ergebnis ist nicht korrekt",
     "output_type": "error",
     "traceback": [
      "\u001b[0;31m---------------------------------------------------------------------------\u001b[0m",
      "\u001b[0;31mAssertionError\u001b[0m                            Traceback (most recent call last)",
      "Cell \u001b[0;32mIn[32], line 8\u001b[0m\n\u001b[1;32m      4\u001b[0m     \u001b[38;5;66;03m# implementiere hier eine verschachtelte Schleife\u001b[39;00m\n\u001b[1;32m      6\u001b[0m     \u001b[38;5;28;01mreturn\u001b[39;00m factors\n\u001b[0;32m----> 8\u001b[0m \u001b[38;5;28;01massert\u001b[39;00m your_solution(\u001b[38;5;241m13195\u001b[39m) \u001b[38;5;241m==\u001b[39m [\u001b[38;5;241m5\u001b[39m, \u001b[38;5;241m7\u001b[39m, \u001b[38;5;241m13\u001b[39m, \u001b[38;5;241m29\u001b[39m], \u001b[38;5;124m\"\u001b[39m\u001b[38;5;124mdas Ergebnis ist nicht korrekt\u001b[39m\u001b[38;5;124m\"\u001b[39m\n",
      "\u001b[0;31mAssertionError\u001b[0m: das Ergebnis ist nicht korrekt"
     ]
    }
   ],
   "source": [
    "def your_solution(n):\n",
    "    p = 2\n",
    "    factors = []\n",
    "    # implementiere hier eine verschachtelte Schleife\n",
    "    \n",
    "    return factors\n",
    "\n",
    "assert your_solution(13195) == [5, 7, 13, 29], \"das Ergebnis ist nicht korrekt\""
   ]
  },
  {
   "cell_type": "code",
   "execution_count": 33,
   "id": "1170432a-8942-4d82-a35c-22e34fcdb1c0",
   "metadata": {},
   "outputs": [],
   "source": [
    "def my_solution(n):\n",
    "    p = 2\n",
    "    factors = []\n",
    "    while p < n:\n",
    "        if n % p == 0:    # p ist ein Faktor von n\n",
    "            prime = True\n",
    "            k = 2\n",
    "            while k < p:\n",
    "                if p % k == 0:    # p ist keine Primzahl\n",
    "                    prime = False\n",
    "                    break\n",
    "                k += 1\n",
    "            if prime: factors.append(p)\n",
    "        p += 1\n",
    "    return factors\n",
    "\n",
    "assert my_solution(13195) == [5, 7, 13, 29]"
   ]
  },
  {
   "cell_type": "markdown",
   "id": "8505706d-3f26-4720-8c6a-c204ba8e04e7",
   "metadata": {},
   "source": [
    "Beachte die `break` Anweisung in der inneren Schleife: wenn `p` einen Teiler hat, dann ist `p` keine Primzahl, und wir können die Schleife abbrechen, d.h. wir sparen uns den Test auf weitere Teiler.\n",
    "\n",
    "Wenn wir nun diese Lösung mit $600851475143$ aufrufen stellen wir fest, dass die Funktion kein Ergebnis zurückliefert, zumindest nicht in absehbarer Zeit.\n",
    "Der Algorithmus ist schlichtweg nicht effizient genug, um die Primfaktoren einer großen Zahl zu berechnen."
   ]
  },
  {
   "cell_type": "code",
   "execution_count": 60,
   "id": "a4b1ac77-e1e8-41b5-9b50-dc6b7d6d4048",
   "metadata": {},
   "outputs": [
    {
     "name": "stdout",
     "output_type": "stream",
     "text": [
      "460 μs ± 7.81 μs per loop (mean ± std. dev. of 7 runs, 1,000 loops each)\n"
     ]
    }
   ],
   "source": [
    "%timeit my_solution(13195)"
   ]
  },
  {
   "cell_type": "markdown",
   "id": "33ae7ee7-f8f4-4e1e-922d-990c0bd61ec5",
   "metadata": {},
   "source": [
    "Hier wurde die Funktion in 7 Durchläufen jeweils 1000 mal aufgerufen, mit einer durchschnittlichen Laufzeit von 453 $\\mu s$ pro Aufruf.\n",
    "Das erscheint erst einmal nicht besonders viel, aber verschachtelte Schleifen haben es in sich:\n",
    "die innere Schleife wird für jedes Element der äußeren Schleife ausgeführt.\n",
    "Wenn wir also $n$ Elemente in der äußeren und $m$ Elemente in der inneren Schleife durchlaufen, haben wir insgesamt $n\\cdot m$ Operationen.\n",
    "Da wir nicht genau wissen, wie viele Elemente die innere Schleife hat, gehen wir bei der Betrachtung der Laufzeiten von Algorithmen vom ungünstigsten Fall aus.\n",
    "\n",
    "Im ungünstigsten Fall hat die innere Schleife ebenfalls $n$ Elemente; die gesamte Laufzeit beider Schleifen ist dann $n \\cdot n=n^2$.\n",
    "Wir sprechen deshalb von einer *quadratischen Laufzeit*.\\\n",
    "Bei der Betrachtung von Laufzeiten hat sich die sogenannte *big O notation* durchgesetzt.\n",
    "Das große O steht dabei für *Ordnung*, im Sinne von *Größenordnung*.\n",
    "Die Laufzeit unseres Algorithmus liegt damit in der Größenordnung von $n^2$, wobei $n$ die Größe des Eingabewerts bezeichnet.\n",
    "Das wird dann geschrieben als $O(n^2)$.\n"
   ]
  },
  {
   "cell_type": "markdown",
   "id": "17614c72-bf3c-4f19-b0b1-5e5b247eac35",
   "metadata": {},
   "source": [
    "Wie können wir jetzt aber die Laufzeit unseres Algorithmus verbessern?\\\n",
    "Bisher haben wir immer nur die Teilbarkeit von $n$ betrachtet, die Teiler selbst aber unberücksichtigt gelassen.\n",
    "Was wäre aber, wenn wir $n$ nun tatsächlich durch die gefundenen Teiler dividieren würden?\\\n",
    "Dann könnten wir mit dem neuen $n$ weiterrechnen und innerhalb der Schleife nach weiteren Teilern von $n$ suchen, und $n$ durch jeden dieser Teiler dividieren.\n",
    "\n",
    "Wenn wir dabei jeden gefunden Teiler $p$ komplett ausdividieren, d.h. wenn wir $n$ solange durch $p$ teilen, wie das neue $n$ eben durch $p$ teilbar ist, dann ist jeder neue Teiler automatisch eine Primzahl.\n",
    "Das folgt aus der Tatsache, dass alle Faktoren, die keine Primzahl sind, also selbst als Produkt ihrer Primfaktoren dargestellt werden können, bereits ausdividiert sind.\n",
    "Das bedeutet auch, wir sparen uns den Test, ob $p$ eine Primzahl ist.\\\n",
    "Wenn $n$ gleich 1 ist, dann sind alle Faktoren ausdividiert, und wir geben $p$ als letzten und damit größten Primfaktor als Ergebnis zurück.\n",
    "\n",
    "**Aufgabe**: implementiere diesen Algorithmus in der Funktion `my_optimized` in der folgenden Zelle.\\\n",
    "**Hinweis**: du brauchst auch hier eine verschachtelte Schleife, und zwar für das vollständige Ausdividieren jedes gefundenen Teilers in der inneren Schleife."
   ]
  },
  {
   "cell_type": "code",
   "execution_count": 34,
   "id": "43933bf0-707f-4b53-84a0-4a5c5246f702",
   "metadata": {},
   "outputs": [
    {
     "ename": "AssertionError",
     "evalue": "das Ergebnis ist nicht korrekt",
     "output_type": "error",
     "traceback": [
      "\u001b[0;31m---------------------------------------------------------------------------\u001b[0m",
      "\u001b[0;31mAssertionError\u001b[0m                            Traceback (most recent call last)",
      "Cell \u001b[0;32mIn[34], line 7\u001b[0m\n\u001b[1;32m      3\u001b[0m     \u001b[38;5;66;03m# implementiere hier deine Schleife:\u001b[39;00m\n\u001b[1;32m      5\u001b[0m     \u001b[38;5;28;01mreturn\u001b[39;00m p\n\u001b[0;32m----> 7\u001b[0m \u001b[38;5;28;01massert\u001b[39;00m your_optimized(\u001b[38;5;241m13195\u001b[39m) \u001b[38;5;241m==\u001b[39m \u001b[38;5;241m29\u001b[39m, \u001b[38;5;124m\"\u001b[39m\u001b[38;5;124mdas Ergebnis ist nicht korrekt\u001b[39m\u001b[38;5;124m\"\u001b[39m\n",
      "\u001b[0;31mAssertionError\u001b[0m: das Ergebnis ist nicht korrekt"
     ]
    }
   ],
   "source": [
    "def your_optimized(n):\n",
    "    p = 2\n",
    "    # implementiere hier deine Schleife:\n",
    "    \n",
    "    return p\n",
    "\n",
    "assert your_optimized(13195) == 29, \"das Ergebnis ist nicht korrekt\""
   ]
  },
  {
   "cell_type": "code",
   "execution_count": 35,
   "id": "aa533061-6edf-4d21-9f00-b8d19f333228",
   "metadata": {},
   "outputs": [],
   "source": [
    "def my_optimized(n):\n",
    "    p = 2\n",
    "    while p <= n:\n",
    "        while n % p == 0:\n",
    "            n //= p\n",
    "        if n == 1:\n",
    "            return p\n",
    "        else:\n",
    "            p += 1\n",
    "\n",
    "assert my_optimized(13195) == 29"
   ]
  },
  {
   "cell_type": "code",
   "execution_count": 36,
   "id": "3caf3f14-51a7-4ab8-bd15-0ab66d2136f7",
   "metadata": {},
   "outputs": [
    {
     "name": "stdout",
     "output_type": "stream",
     "text": [
      "951 ns ± 3.91 ns per loop (mean ± std. dev. of 7 runs, 1,000,000 loops each)\n"
     ]
    }
   ],
   "source": [
    "%timeit my_optimized(13195)"
   ]
  },
  {
   "cell_type": "markdown",
   "id": "b2114827-46bf-4260-983d-a546450d3653",
   "metadata": {},
   "source": [
    "Die durchschnittliche Laufzeit ist jetzt 951 Nanosekunden (*ns*).\n",
    "Damit ist der optimierte Algorithmus ungefähr 500 mal schneller als unsere bisherige Lösung.\n",
    "\n",
    "Wir können aber noch weiter optimieren:\n",
    "es ist nämlich gar nicht notwendig, alle natürlichen Zahlen bis $n$ zu durchlaufen.\n",
    "Es reicht, die Zahlen bis zur Obergrenze von $\\sqrt n$ zu durchlaufen, da jede Zahl $n$ höchstens *einen* Primfaktor größer als $\\sqrt n$ haben kann.\\\n",
    "Diese Obergrenze können wir anstatt mit `p <= sqrt(n)` auch mit `p*p <= n` angeben, da $p=\\sqrt n$ gleichbedeutend ist mit $p^2=n$.\n",
    "Das erspart einige Rechenoperationen zur Berechnung der Wurzel.\n",
    "\n",
    "Wenn wir das tun, dann müssen wir zwei Fälle unterscheiden:\n",
    "entweder ist nach der letzten Divison $n$ gleich 1, dann geben wir wie bisher $p$ als größten Primfaktor zurück.\n",
    "Oder $n$ ist ungleich 1, dann geben wir $n$ zurück, denn dann ist das aktuelle $n$ der *eine* Primfaktor größer als $\\sqrt n$."
   ]
  },
  {
   "cell_type": "code",
   "execution_count": 37,
   "id": "ea1f15c5-cf3d-4d0c-ba8a-cbc0c2ee2051",
   "metadata": {},
   "outputs": [],
   "source": [
    "def my_optimized(n):\n",
    "    p = 2\n",
    "    while p*p <= n:\n",
    "        while n%p == 0:\n",
    "            n //= p\n",
    "        if n == 1:\n",
    "            return p\n",
    "        p += 1\n",
    "    return n\n",
    "\n",
    "assert my_optimized(13195) == 29"
   ]
  },
  {
   "cell_type": "code",
   "execution_count": 39,
   "id": "aa457009-de21-4dfe-935d-2e62790fe20c",
   "metadata": {},
   "outputs": [
    {
     "name": "stdout",
     "output_type": "stream",
     "text": [
      "560 ns ± 10.4 ns per loop (mean ± std. dev. of 7 runs, 1,000,000 loops each)\n"
     ]
    }
   ],
   "source": [
    "%timeit my_optimized(13195)"
   ]
  },
  {
   "cell_type": "markdown",
   "id": "14d0f2b8-2bab-44f4-bdf4-06342acfe982",
   "metadata": {},
   "source": [
    "Die durchschnittliche Laufzeit ist jetzt 560 Nanosekunden, also knapp doppelt so schnell wie zuvor.\n",
    "Wir können die optimierte Lösung jetzt also getrost mit dem Argument $600851475143$ aufrufen und verwenden für die Verifizierung des Ergebnisses deine und meine Version (du solltest deine Version `your_optimized` also bereits fertiggestellt haben):"
   ]
  },
  {
   "cell_type": "code",
   "execution_count": 66,
   "id": "6051a05d-9f59-4808-b3ae-7e2cc5dd2187",
   "metadata": {},
   "outputs": [],
   "source": [
    "assert my_optimized(600851475143) == your_optimized(600851475143), \"die Ergebnisse stimmen nicht überein\""
   ]
  },
  {
   "cell_type": "markdown",
   "id": "ce720fc7-aa0b-40f7-81a1-3af5a265d92c",
   "metadata": {},
   "source": [
    "Abschließend kannst du noch die Laufzeiten unserer Versionen vergleichen:"
   ]
  },
  {
   "cell_type": "code",
   "execution_count": 67,
   "id": "34cdd945-3c36-4163-bb81-36d1adcccdba",
   "metadata": {},
   "outputs": [
    {
     "name": "stdout",
     "output_type": "stream",
     "text": [
      "85.5 μs ± 1.3 μs per loop (mean ± std. dev. of 7 runs, 10,000 loops each)\n"
     ]
    }
   ],
   "source": [
    "%timeit my_optimized(600851475143)"
   ]
  },
  {
   "cell_type": "code",
   "execution_count": 68,
   "id": "4fb5aaaf-567a-4c40-827f-a1ba852dffcb",
   "metadata": {},
   "outputs": [
    {
     "name": "stdout",
     "output_type": "stream",
     "text": [
      "288 μs ± 1.79 μs per loop (mean ± std. dev. of 7 runs, 1,000 loops each)\n"
     ]
    }
   ],
   "source": [
    "%timeit your_optimized(600851475143)"
   ]
  },
  {
   "cell_type": "markdown",
   "id": "ebd5c269-defc-465b-bab3-b7855269284e",
   "metadata": {},
   "source": [
    "### Problem 3: [Euler 5](https://projecteuler.net/problem=5)\n",
    "**Kleinstes Vielfaches**\\\n",
    "$2520$ ist die kleinste Zahhl, die sich ohne Rest durch alle Zahlen von 1 bis 10 teilen läßt.\\\n",
    "**Was ist die kleinste positive Zahl, die sich ohne Rest durch alle Zahlen von 1 bis 20 teilen läßt?**\n",
    "\n"
   ]
  },
  {
   "cell_type": "markdown",
   "id": "0bdf718d-4f8f-4977-a4ca-dd745d80ae38",
   "metadata": {},
   "source": [
    "Aus der Problemstellung können wir ohne Weiteres schließen, dass wir es wieder mit Teilern und Vielfachen zu tun haben.\n",
    "Außerdem erinnert der Titel des Problems *kleinstes Vielfaches* uns an den Begriff *kleinstes gemeinsames Vielfaches* (kgV).\n",
    "\n",
    "Nach kurzem Nachdenken kommen wir zu der Erkenntnis, dass in diesem Problem tatsächlich nach dem *kgV* der Zahlen 1 bis 20 gesucht wird, denn das *kgV* ist wie folgt definiert: *die kleinste positive Zahl, die ein Vielfaches der genannten Zahlen ist*, also die kleinste positive Zahl, die sich ohne Rest durch diese Zahlen läßt.\n",
    "\n",
    "Das *kgV* für mehrere Zahlen läßt sich über die *Primfaktorzerlegung* dieser Zahlen berechnen:\n",
    "wir multiplizieren alle Primfaktoren, die in mindestens einer der Zahlen vorkommen, in ihrer jeweils höchsten vorkommenden Potenz.\n",
    "\n",
    "Die höchsten Potenzen der Primfaktoren der Zahlen 1 bis 10 sind:\n",
    "* $2^3=8$\n",
    "* $3^2=9$\n",
    "* $5^1=5$\n",
    "* $7^1=7$\n",
    "\n",
    "Damit können wir das *kgV* der Zahlen 1 bis 10 so berechnen:"
   ]
  },
  {
   "cell_type": "code",
   "execution_count": 85,
   "id": "2a4babe3-efac-441c-b56b-d0e0039a0313",
   "metadata": {},
   "outputs": [],
   "source": [
    "from math import prod\n",
    "\n",
    "kgV_10 = prod([8, 9, 5, 7])\n",
    "assert kgV_10 == 2520"
   ]
  },
  {
   "cell_type": "markdown",
   "id": "d6b54d84-4a10-4956-b6a5-3fed01209cca",
   "metadata": {},
   "source": [
    "Hier haben wir die Funktion `prod` aus dem Python Modul `math` importiert, um direkt auf sie zugreifen zu können.\n",
    "Diese Funktion berechnet das Produkt der Zahlen, die als sogenanntes *iterable* angegeben werden, also z.B. als Liste.\n",
    "**Aufgabe**: berechne nach diesem Muster das *kgV* der Zahlen 1 bis 20."
   ]
  },
  {
   "cell_type": "code",
   "execution_count": 55,
   "id": "9b4ade62-1570-4fce-8ddb-d5e2a786f68e",
   "metadata": {},
   "outputs": [
    {
     "ename": "AssertionError",
     "evalue": "das Ergebnis ist nicht korrekt",
     "output_type": "error",
     "traceback": [
      "\u001b[0;31m---------------------------------------------------------------------------\u001b[0m",
      "\u001b[0;31mAssertionError\u001b[0m                            Traceback (most recent call last)",
      "Cell \u001b[0;32mIn[55], line 3\u001b[0m\n\u001b[1;32m      1\u001b[0m kgV_20 \u001b[38;5;241m=\u001b[39m \u001b[38;5;241m1\u001b[39m\n\u001b[0;32m----> 3\u001b[0m \u001b[38;5;28;01massert\u001b[39;00m kgV_20 \u001b[38;5;241m==\u001b[39m \u001b[38;5;241m232792560\u001b[39m, \u001b[38;5;124m\"\u001b[39m\u001b[38;5;124mdas Ergebnis ist nicht korrekt\u001b[39m\u001b[38;5;124m\"\u001b[39m\n",
      "\u001b[0;31mAssertionError\u001b[0m: das Ergebnis ist nicht korrekt"
     ]
    }
   ],
   "source": [
    "kgV_20 = 1\n",
    "\n",
    "assert kgV_20 == 232792560, \"das Ergebnis ist nicht korrekt\""
   ]
  },
  {
   "cell_type": "markdown",
   "id": "6d44656d-46f5-4c42-aa11-629555d08071",
   "metadata": {},
   "source": [
    "Die höchsten Potenz der Primfaktoren größer als 3 ist jeweils 1, da bereits $5^2=25>20$.\n",
    "Die höchste Potenz von 2 ist jetzt aber 4, da $2^4=16\\leq20$.\\\n",
    "Wir können das *kgV* der Zahlen 1 bis 20 damit so berechnen: "
   ]
  },
  {
   "cell_type": "code",
   "execution_count": 86,
   "id": "dd98d2f0-4671-462c-8fba-2cf835ca4fdc",
   "metadata": {},
   "outputs": [],
   "source": [
    "kgV_20 = prod([16, 9, 5, 7, 11, 13, 17, 19])"
   ]
  },
  {
   "cell_type": "markdown",
   "id": "7a6cfb31-8c82-4efe-9d4d-9e77e3a3b4da",
   "metadata": {},
   "source": [
    "Damit ist das Problem gelöst, aber als angehende Entwickler wollen wir uns damit nicht zufrieden geben.\n",
    "Wie in den vorangehenden Problemen wollen wir eine Funktion erstellen, die das *kgV* für die ersten $n$ natürlichen Zahlen berechnet.\n",
    "\n",
    "Dazu müssen wir zunächst jede Zahl in ihre Primfaktoren zerlegen.\n",
    "Wir verwenden dazu den Algorithmus der Funktion `my_optimized` aus **Problem 2**, nur dass wir jetzt eine zusätzliche Liste `factors` einführen, in der wir alle gefundenen Primfaktoren speichern, und am Ende diese Liste ausgeben.\\\n",
    "**Aufgabe**: Implementiere eine Funktion `factorize`, die eine Zahl nach diesem Muster in ihre Primfaktoren zerlegt."
   ]
  },
  {
   "cell_type": "code",
   "execution_count": 37,
   "id": "ca2d43d9-c677-47dd-8887-be715df2e0a8",
   "metadata": {},
   "outputs": [
    {
     "ename": "AssertionError",
     "evalue": "das Ergebnis ist nicht korrekt",
     "output_type": "error",
     "traceback": [
      "\u001b[0;31m---------------------------------------------------------------------------\u001b[0m",
      "\u001b[0;31mAssertionError\u001b[0m                            Traceback (most recent call last)",
      "Cell \u001b[0;32mIn[37], line 6\u001b[0m\n\u001b[1;32m      2\u001b[0m     factors \u001b[38;5;241m=\u001b[39m []\n\u001b[1;32m      4\u001b[0m     \u001b[38;5;28;01mreturn\u001b[39;00m factors\n\u001b[0;32m----> 6\u001b[0m \u001b[38;5;28;01massert\u001b[39;00m factorize(\u001b[38;5;241m18\u001b[39m) \u001b[38;5;241m==\u001b[39m [\u001b[38;5;241m2\u001b[39m,\u001b[38;5;241m3\u001b[39m,\u001b[38;5;241m3\u001b[39m], \u001b[38;5;124m\"\u001b[39m\u001b[38;5;124mdas Ergebnis ist nicht korrekt\u001b[39m\u001b[38;5;124m\"\u001b[39m\n",
      "\u001b[0;31mAssertionError\u001b[0m: das Ergebnis ist nicht korrekt"
     ]
    }
   ],
   "source": [
    "def factorize(n):\n",
    "    factors = []\n",
    "    \n",
    "    return factors\n",
    "\n",
    "assert factorize(18) == [2,3,3], \"das Ergebnis ist nicht korrekt\""
   ]
  },
  {
   "cell_type": "code",
   "execution_count": 38,
   "id": "fda02c5e-e0b7-4927-b8db-69697c09ecd1",
   "metadata": {},
   "outputs": [],
   "source": [
    "def my_factorize(n):\n",
    "    factors = []\n",
    "    p = 2\n",
    "    while p*p <= n:\n",
    "        while n%p == 0:\n",
    "            factors.append(p)\n",
    "            n //= p\n",
    "        if n == 1:\n",
    "            return factors\n",
    "        p += 1\n",
    "    factors.append(n)\n",
    "    return factors\n",
    "\n",
    "assert my_factorize(18) == [2,3,3]"
   ]
  },
  {
   "cell_type": "markdown",
   "id": "efac919d-ac05-4b84-9034-2fb799c0df03",
   "metadata": {},
   "source": [
    "Als nächstes müssen wir für jeden gefundenen Primfaktor einer Zahl die jeweilige Potenz bestimmen.\n",
    "Dazu zählen wir ab, wie oft ein Faktor in einer Liste von Faktoren vorkommt und speichern das Ergebnis in einem *dictionary*, einem Objekt mit dem Datentyp `dict`.\n",
    "\n",
    "Ein `dict` ist ein Objekt, dessen Elemente sogenannte *key-value pairs* sind, also Paare von Schlüsseln und zugehörigen Werten.\n",
    "In diesem Fall bilden die Faktoren die *keys*, und die zugehörigen *values* sind ihre jeweils höchsten Potenzen.\\\n",
    "**Aufgabe**: Implementiere eine Funktion `powers`, die die Faktoren einer Liste abzählt und das Ergebnis als *dictionary* zurückgibt.\\\n",
    "**Hinweis**: Verwende für den Zugriff auf einen *key* `k` die Funtion `dict.get(k, 0)`. Falls `k` nicht im *dictionary* enthalten ist, wird der *default value* 0 zurückgegeben."
   ]
  },
  {
   "cell_type": "code",
   "execution_count": 44,
   "id": "638311c3-a702-484f-a828-985eec915bac",
   "metadata": {},
   "outputs": [
    {
     "ename": "AssertionError",
     "evalue": "das Ergebnis ist nicht korrekt",
     "output_type": "error",
     "traceback": [
      "\u001b[0;31m---------------------------------------------------------------------------\u001b[0m",
      "\u001b[0;31mAssertionError\u001b[0m                            Traceback (most recent call last)",
      "Cell \u001b[0;32mIn[44], line 7\u001b[0m\n\u001b[1;32m      3\u001b[0m     \u001b[38;5;66;03m# implementiere hier eine for-Schleife, die alle Elemente von factors durchläuft:\u001b[39;00m\n\u001b[1;32m      5\u001b[0m     \u001b[38;5;28;01mreturn\u001b[39;00m hp\n\u001b[0;32m----> 7\u001b[0m \u001b[38;5;28;01massert\u001b[39;00m powers([\u001b[38;5;241m2\u001b[39m,\u001b[38;5;241m3\u001b[39m,\u001b[38;5;241m3\u001b[39m]) \u001b[38;5;241m==\u001b[39m {\u001b[38;5;241m2\u001b[39m: \u001b[38;5;241m1\u001b[39m, \u001b[38;5;241m3\u001b[39m: \u001b[38;5;241m2\u001b[39m}, \u001b[38;5;124m\"\u001b[39m\u001b[38;5;124mdas Ergebnis ist nicht korrekt\u001b[39m\u001b[38;5;124m\"\u001b[39m\n",
      "\u001b[0;31mAssertionError\u001b[0m: das Ergebnis ist nicht korrekt"
     ]
    }
   ],
   "source": [
    "def powers(factors):\n",
    "    hp =  {}    # ein leeres dictionary\n",
    "    # implementiere hier eine for-Schleife, die alle Elemente von factors durchläuft:\n",
    "    \n",
    "    return hp\n",
    "\n",
    "assert powers([2,3,3]) == {2: 1, 3: 2}, \"das Ergebnis ist nicht korrekt\""
   ]
  },
  {
   "cell_type": "code",
   "execution_count": 63,
   "id": "53b5cf21-e853-49bf-9b14-810c4efdd952",
   "metadata": {},
   "outputs": [],
   "source": [
    "def my_powers(factors):\n",
    "    hp = {}\n",
    "    for factor in factors:\n",
    "        # Hochzählen des Potenz, indem wir den aktuellen Wert um eins erhöhen\n",
    "        hp[factor] = hp.get(factor, 0) + 1\n",
    "    return hp\n",
    "\n",
    "assert my_powers([2,3,3]) == {2: 1, 3: 2}"
   ]
  },
  {
   "cell_type": "markdown",
   "id": "5b7148fe-6614-48dd-868c-99cd03bf7f8d",
   "metadata": {},
   "source": [
    "Um jetzt die jeweils höchsten Potenzen der Primfaktoren zweier Zahlen zu finden, vergleichen wir wir ihre Potenzen und führen sie in einem neuen *dictionary* zusammen.\\\n",
    "**Aufgabe**: Implementiere eine Funktion `highest_powers`, die zwei *dictionaries* als Argumente akzeptiert und ein neues *dictionary* mit den jeweils höchsten Potenzen zurückgibt.\\\n",
    "**Hinweis**: Verwende für das Zusammenführen zweier *dictionaries* den Operator `|`."
   ]
  },
  {
   "cell_type": "code",
   "execution_count": 69,
   "id": "03cd793f-5070-4cc1-a2f8-8c257587f765",
   "metadata": {},
   "outputs": [
    {
     "ename": "AssertionError",
     "evalue": "das Ergebnis ist nicht korrekt",
     "output_type": "error",
     "traceback": [
      "\u001b[0;31m---------------------------------------------------------------------------\u001b[0m",
      "\u001b[0;31mAssertionError\u001b[0m                            Traceback (most recent call last)",
      "Cell \u001b[0;32mIn[69], line 9\u001b[0m\n\u001b[1;32m      7\u001b[0m d1 \u001b[38;5;241m=\u001b[39m my_powers([\u001b[38;5;241m2\u001b[39m,\u001b[38;5;241m3\u001b[39m,\u001b[38;5;241m3\u001b[39m])\n\u001b[1;32m      8\u001b[0m d2 \u001b[38;5;241m=\u001b[39m my_powers([\u001b[38;5;241m2\u001b[39m,\u001b[38;5;241m2\u001b[39m,\u001b[38;5;241m5\u001b[39m])\n\u001b[0;32m----> 9\u001b[0m \u001b[38;5;28;01massert\u001b[39;00m highest_powers(d1, d2) \u001b[38;5;241m==\u001b[39m {\u001b[38;5;241m2\u001b[39m: \u001b[38;5;241m2\u001b[39m, \u001b[38;5;241m3\u001b[39m: \u001b[38;5;241m2\u001b[39m, \u001b[38;5;241m5\u001b[39m: \u001b[38;5;241m1\u001b[39m}, \u001b[38;5;124m\"\u001b[39m\u001b[38;5;124mdas Ergebnis ist nicht korrekt\u001b[39m\u001b[38;5;124m\"\u001b[39m\n",
      "\u001b[0;31mAssertionError\u001b[0m: das Ergebnis ist nicht korrekt"
     ]
    }
   ],
   "source": [
    "def highest_powers(d1, d2):\n",
    "    merged = d1\n",
    "    \n",
    "    return merged\n",
    "\n",
    "# ändere nicht den nachfolgenden Code\n",
    "d1 = my_powers([2,3,3])\n",
    "d2 = my_powers([2,2,5])\n",
    "assert highest_powers(d1, d2) == {2: 2, 3: 2, 5: 1}, \"das Ergebnis ist nicht korrekt\""
   ]
  },
  {
   "cell_type": "code",
   "execution_count": 71,
   "id": "149869f0-3ae1-4981-87d1-c0ab04bd8b60",
   "metadata": {},
   "outputs": [],
   "source": [
    "def my_highest_powers(d1, d2):\n",
    "    merged = d1 | d2\n",
    "    for k in merged.keys():\n",
    "        merged[k] = max(d1.get(k, 0), d2.get(k, 0))\n",
    "    return merged\n",
    "\n",
    "assert my_highest_powers(d1, d2) == {2: 2, 3: 2, 5: 1}"
   ]
  },
  {
   "cell_type": "markdown",
   "id": "9ddd0b6f-4698-4532-9ff8-1a5f789dfaed",
   "metadata": {},
   "source": [
    "Schließlich können wir die höchsten Potenzen der Primfaktoren aller Zahlen $\\leq n$ berechnen, indem wir paarweise die Funktion `highest_powers` für ihre Primfaktorzerlegungen aufrufen.\\\n",
    "**Aufgabe**: Implementiere eine Funktion `hp_all`, die eine natürliche Zahl $n>1$ als Argument nimmt und ein *dictionary* mit den höchsten Potenzen aller Primfaktoren der Zahlen $\\leq n$ zurückliefert.\\\n",
    "**Hinweis**: Verwende dazu deine Funktionen `factorize`, `powers` und `highest_powers`."
   ]
  },
  {
   "cell_type": "code",
   "execution_count": 81,
   "id": "33c3c56a-398d-4727-a8b0-6ea1c9f6a188",
   "metadata": {},
   "outputs": [
    {
     "ename": "AssertionError",
     "evalue": "das Ergebnis ist nicht korrekt",
     "output_type": "error",
     "traceback": [
      "\u001b[0;31m---------------------------------------------------------------------------\u001b[0m",
      "\u001b[0;31mAssertionError\u001b[0m                            Traceback (most recent call last)",
      "Cell \u001b[0;32mIn[81], line 6\u001b[0m\n\u001b[1;32m      2\u001b[0m     res \u001b[38;5;241m=\u001b[39m {\u001b[38;5;241m2\u001b[39m: \u001b[38;5;241m1\u001b[39m}    \u001b[38;5;66;03m# Initialisierung des Ergebnisses mit der Primfaktorzerlegung von 2\u001b[39;00m\n\u001b[1;32m      4\u001b[0m     \u001b[38;5;28;01mreturn\u001b[39;00m res\n\u001b[0;32m----> 6\u001b[0m \u001b[38;5;28;01massert\u001b[39;00m hp_all(\u001b[38;5;241m10\u001b[39m) \u001b[38;5;241m==\u001b[39m {\u001b[38;5;241m2\u001b[39m: \u001b[38;5;241m3\u001b[39m, \u001b[38;5;241m3\u001b[39m: \u001b[38;5;241m2\u001b[39m, \u001b[38;5;241m5\u001b[39m: \u001b[38;5;241m1\u001b[39m, \u001b[38;5;241m7\u001b[39m: \u001b[38;5;241m1\u001b[39m}, \u001b[38;5;124m\"\u001b[39m\u001b[38;5;124mdas Ergebnis ist nicht korrekt\u001b[39m\u001b[38;5;124m\"\u001b[39m\n",
      "\u001b[0;31mAssertionError\u001b[0m: das Ergebnis ist nicht korrekt"
     ]
    }
   ],
   "source": [
    "def hp_all(n):\n",
    "    res = {2: 1}    # Initialisierung des Ergebnisses mit der Primfaktorzerlegung von 2\n",
    "    \n",
    "    return res\n",
    "\n",
    "assert hp_all(10) == {2: 3, 3: 2, 5: 1, 7: 1}, \"das Ergebnis ist nicht korrekt\""
   ]
  },
  {
   "cell_type": "code",
   "execution_count": 82,
   "id": "12a818cc-cbdf-4caa-90fe-2bf764ea4f3f",
   "metadata": {},
   "outputs": [],
   "source": [
    "def my_hp_all(n):\n",
    "    res = {2: 1}\n",
    "    for i in range(3, n+1):\n",
    "        res = my_highest_powers(res, my_powers(my_factorize(i)))\n",
    "    return res\n",
    "\n",
    "assert my_hp_all(2) == {2: 1}\n",
    "assert my_hp_all(10) == {2: 3, 3: 2, 5: 1, 7: 1}\n",
    "assert my_hp_all(20) == {2: 4, 3: 2, 5: 1, 7: 1, 11: 1, 13: 1, 17: 1, 19: 1}\n",
    "assert my_hp_all(30) == {2: 4, 3: 3, 5: 2, 7: 1, 11: 1, 13: 1, 17: 1, 19: 1, 23: 1, 29: 1}"
   ]
  },
  {
   "cell_type": "markdown",
   "id": "f71a2874-8ae0-4a5d-8c09-68489d627be3",
   "metadata": {},
   "source": [
    "Im letzten Schritt der Lösung berechnen wir das Produkt der höchsten Potenzen aller Primfaktoren der Zahlen $\\leq n$.\\\n",
    "**Aufgabe**: Implementiere deine Lösung in der Funktion `your_solution`."
   ]
  },
  {
   "cell_type": "code",
   "execution_count": 91,
   "id": "e7e48c70-77ab-415e-8b3b-b4f4559de949",
   "metadata": {},
   "outputs": [
    {
     "ename": "AssertionError",
     "evalue": "das Ergebnis ist nicht korrekt",
     "output_type": "error",
     "traceback": [
      "\u001b[0;31m---------------------------------------------------------------------------\u001b[0m",
      "\u001b[0;31mAssertionError\u001b[0m                            Traceback (most recent call last)",
      "Cell \u001b[0;32mIn[91], line 6\u001b[0m\n\u001b[1;32m      2\u001b[0m     res \u001b[38;5;241m=\u001b[39m \u001b[38;5;241m1\u001b[39m\n\u001b[1;32m      4\u001b[0m     \u001b[38;5;28;01mreturn\u001b[39;00m res\n\u001b[0;32m----> 6\u001b[0m \u001b[38;5;28;01massert\u001b[39;00m your_solution(\u001b[38;5;241m10\u001b[39m) \u001b[38;5;241m==\u001b[39m kgV_10, \u001b[38;5;124m\"\u001b[39m\u001b[38;5;124mdas Ergebnis ist nicht korrekt\u001b[39m\u001b[38;5;124m\"\u001b[39m\n\u001b[1;32m      7\u001b[0m \u001b[38;5;28;01massert\u001b[39;00m your_solution(\u001b[38;5;241m20\u001b[39m) \u001b[38;5;241m==\u001b[39m kgV_20, \u001b[38;5;124m\"\u001b[39m\u001b[38;5;124mdas Ergebnis ist nicht korrekt\u001b[39m\u001b[38;5;124m\"\u001b[39m\n",
      "\u001b[0;31mAssertionError\u001b[0m: das Ergebnis ist nicht korrekt"
     ]
    }
   ],
   "source": [
    "def your_solution(n):\n",
    "    res = 1\n",
    "    \n",
    "    return res\n",
    "\n",
    "assert your_solution(10) == kgV_10, \"das Ergebnis ist nicht korrekt\"\n",
    "assert your_solution(20) == kgV_20, \"das Ergebnis ist nicht korrekt\""
   ]
  },
  {
   "cell_type": "code",
   "execution_count": 92,
   "id": "70e2cb22-d825-444b-a6ce-dcd7dfd0ce18",
   "metadata": {},
   "outputs": [],
   "source": [
    "def my_solution(n):\n",
    "    res = 1\n",
    "    hpf = my_hp_all(n)\n",
    "    for (k, v) in hpf.items():\n",
    "        res *= k ** v\n",
    "    return res\n",
    "\n",
    "assert my_solution(10) == kgV_10\n",
    "assert my_solution(20) == kgV_20"
   ]
  },
  {
   "cell_type": "code",
   "execution_count": null,
   "id": "2fbb9e07-5cb4-4db7-8401-73cb741d1047",
   "metadata": {},
   "outputs": [],
   "source": []
  }
 ],
 "metadata": {
  "kernelspec": {
   "display_name": "Python 3 (ipykernel)",
   "language": "python",
   "name": "python3"
  },
  "language_info": {
   "codemirror_mode": {
    "name": "ipython",
    "version": 3
   },
   "file_extension": ".py",
   "mimetype": "text/x-python",
   "name": "python",
   "nbconvert_exporter": "python",
   "pygments_lexer": "ipython3",
   "version": "3.12.2"
  }
 },
 "nbformat": 4,
 "nbformat_minor": 5
}
