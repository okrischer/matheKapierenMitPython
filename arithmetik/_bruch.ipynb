{
 "cells": [
  {
   "cell_type": "markdown",
   "id": "4e24f9c6-0f72-435e-899e-d22445880c7c",
   "metadata": {},
   "source": [
    "# Bruchrechnung\n",
    "In diesem Notebook werden wir eine verbesserte Version unserer Klasse `Buch` aus der Lektion entwickeln.\n",
    "Wir verfolgen dabei diese Ziele:\n",
    "- Rechnen mit dem ganzzahligen Anteil eines Bruchs\n",
    "- Rechnen mit negativen Werten\n",
    "- Verbesserung der Repräsentation und Ausgabe eines Bruchs\n",
    "\n",
    "## Initialisierung\n",
    "Deine erste **Aufgabe** ist es, eine initiale Klassendefinition der Klasse `Bruch` zu erstellen, deren `__init__` Methode neben Zähler und Nenner auch den ganzzahligen Anteil eines Bruchs berücksichtigt."
   ]
  },
  {
   "cell_type": "code",
   "execution_count": 9,
   "id": "eba60c67-f19b-4844-8a95-f179262118c9",
   "metadata": {},
   "outputs": [
    {
     "ename": "TypeError",
     "evalue": "Bruch.__init__() takes 3 positional arguments but 4 were given",
     "output_type": "error",
     "traceback": [
      "\u001b[0;31m---------------------------------------------------------------------------\u001b[0m",
      "\u001b[0;31mTypeError\u001b[0m                                 Traceback (most recent call last)",
      "Cell \u001b[0;32mIn[9], line 6\u001b[0m\n\u001b[1;32m      3\u001b[0m         \u001b[38;5;28mself\u001b[39m\u001b[38;5;241m.\u001b[39mzähler \u001b[38;5;241m=\u001b[39m zähler\n\u001b[1;32m      4\u001b[0m         \u001b[38;5;28mself\u001b[39m\u001b[38;5;241m.\u001b[39mnenner \u001b[38;5;241m=\u001b[39m nenner\n\u001b[0;32m----> 6\u001b[0m a \u001b[38;5;241m=\u001b[39m \u001b[43mBruch\u001b[49m\u001b[43m(\u001b[49m\u001b[38;5;241;43m2\u001b[39;49m\u001b[43m,\u001b[49m\u001b[43m \u001b[49m\u001b[38;5;241;43m3\u001b[39;49m\u001b[43m,\u001b[49m\u001b[43m \u001b[49m\u001b[38;5;241;43m1\u001b[39;49m\u001b[43m)\u001b[49m\n\u001b[1;32m      7\u001b[0m \u001b[38;5;28;01massert\u001b[39;00m (a\u001b[38;5;241m.\u001b[39mzahl, a\u001b[38;5;241m.\u001b[39mzähler, a\u001b[38;5;241m.\u001b[39mnenner) \u001b[38;5;241m==\u001b[39m (\u001b[38;5;241m1\u001b[39m, \u001b[38;5;241m2\u001b[39m, \u001b[38;5;241m3\u001b[39m)\n\u001b[1;32m      8\u001b[0m b \u001b[38;5;241m=\u001b[39m Bruch(\u001b[38;5;241m1\u001b[39m, \u001b[38;5;241m2\u001b[39m)\n",
      "\u001b[0;31mTypeError\u001b[0m: Bruch.__init__() takes 3 positional arguments but 4 were given"
     ]
    }
   ],
   "source": [
    "class Bruch:\n",
    "    def __init__(self, zähler, nenner):\n",
    "        self.zähler = zähler\n",
    "        self.nenner = nenner\n",
    "\n",
    "a = Bruch(2, 3, 1)\n",
    "assert (a.zahl, a.zähler, a.nenner) == (1, 2, 3)\n",
    "b = Bruch(1, 2)\n",
    "assert (b.zahl, b.zähler, b.nenner) == (0, 1, 2)"
   ]
  },
  {
   "cell_type": "markdown",
   "id": "1cdf6572-967c-46df-8c78-01753e201d3b",
   "metadata": {},
   "source": [
    "Mit der Klassendefinition `Bruch` legen wir einen neuen Datentyp an.\n",
    "Die Anweisung `Bruch(2, 3, 1)` erzeugt eine neue Instanz dieser Klasse, aber wenn du die obige Zelle ausführst, erhältst du einen Fehler.\n",
    "\n",
    "Python gibt die Fehlermeldung in der letzten Zeile der Ausgabe an und markiert die fehlerhafte Anweisung mit einem Pfeil `---->`.\n",
    "Der Fehler wird als `TypeError` klassifiziert: die `__init__` Methode erwartet 3 Argumente, aber 4 Argumente wurden angegeben.\n",
    "\n",
    "Lass dich durch diese Zahlen nicht verwirren:\n",
    "die `__init__` Methode akzeptiert tatsächlich 3 Argumente: self, zähler, nenner.\n",
    "Es scheint als hätten wir auch 3 Argumente für die Instanziierung angegeben: `Bruch(2, 3, 1)`.\\\n",
    "In Wirklichkeit haben wir aber 4 Argumente angegeben: die Referenz `self` auf die Klasse wird von Python bei jeder Instanziierung automatisch gesetzt.\n",
    "Um den Fehler zu beheben, musst du also einen vierten Parameter `zahl` für die `__init__` Methode definieren.\n",
    "\n",
    "Wenn du nicht weiterkommst, dann sie dir meine Lösung in der nächsten Zelle an.\n",
    "Um deine Version der Klasse besser von meiner Version unterscheiden zu können, werde ich meine Klasse im Folgenden mit dem englischen Ausdruck `Fraction` bezeichnen.\n",
    "\n",
    "**Beachte**, dass du deine Version der Klasse mit obenstehendem Code fertigstellen musst, bevor du in diesem Notebook weiterarbeiten kannst."
   ]
  },
  {
   "cell_type": "code",
   "execution_count": 16,
   "id": "1a9024e5-f291-4d5c-8ca1-c83d435b844b",
   "metadata": {},
   "outputs": [],
   "source": [
    "class Fraction:\n",
    "    def __init__(self, zähler, nenner, zahl=0):\n",
    "        self.zähler = zähler\n",
    "        self.nenner = nenner\n",
    "        self.zahl = zahl\n",
    "\n",
    "c = Fraction(2, 3, 1)\n",
    "assert (c.zahl, c.zähler, c.nenner) == (1, 2, 3)\n",
    "d = Fraction(3, 2)\n",
    "assert (d.zahl, d.zähler, d.nenner) == (0, 3, 2)"
   ]
  },
  {
   "cell_type": "markdown",
   "id": "c102d7e3-bb51-4508-bc59-f2a73f1b8aca",
   "metadata": {},
   "source": [
    "Ich habe hier den vierten Parameter `zahl` als Standardparameter angegeben, indem ich `=0` an den Parameternamen angehängt habe.\n",
    "Wenn dieser vierte Parameter bei der Instanziierung nicht angegeben wird, setzt Python den Wert des Parameters auf den definierten Standardwert `0` (*default value*).\n",
    "\n",
    "## Repräsentation\n",
    "Um im Folgenden leichter mit unserer Klasse arbeiten zu können werden wir als nächstes jedes Objekt der Klasse als *string* repräsentieren, also mit einer Zeichenkette in Anführungszeichen.\n",
    "\n",
    "Wenn wir ein Objekt einer Klasse ausgeben, erhalten wir folgendes Ergebnis:"
   ]
  },
  {
   "cell_type": "code",
   "execution_count": 17,
   "id": "026fa986-00be-46f9-a856-ac4e22052247",
   "metadata": {},
   "outputs": [
    {
     "data": {
      "text/plain": [
       "<__main__.Fraction at 0x795768b96ba0>"
      ]
     },
     "execution_count": 17,
     "metadata": {},
     "output_type": "execute_result"
    }
   ],
   "source": [
    "c"
   ]
  },
  {
   "cell_type": "markdown",
   "id": "cef267df-255f-41d1-8acf-60c65cbaee03",
   "metadata": {},
   "source": [
    "Das ist wenig hilfreich, da nur die Referenz auf das entsprechende Objekt ausgegeben wird.\n",
    "Wir können lediglich den Datentyp `Fraction` erkennen, aber nicht die aktuell gesetzten Werte.\n",
    "Python \"weiß\" nicht, wie ein solches Objekt angezeigt werden soll.\n",
    "\n",
    "Um das zu ändern, können wir die Methode `__repr__` der Klasse implementieren.\n",
    "Diese Methode muss einen *string* zurückgeben.\n",
    "Dieser String sollte genauso aussehen wie die Anweisung zur Instanziierung des Objekts, z.B. \"Bruch(2, 3, 1)\".\n",
    "\n",
    "**Aufgabe**: Implementiere die Methode `__repr__` in deiner Klasse `Bruch`."
   ]
  },
  {
   "cell_type": "code",
   "execution_count": 18,
   "id": "520566a3-f278-4548-b823-194bad5f05eb",
   "metadata": {},
   "outputs": [
    {
     "ename": "NameError",
     "evalue": "name 'a' is not defined",
     "output_type": "error",
     "traceback": [
      "\u001b[0;31m---------------------------------------------------------------------------\u001b[0m",
      "\u001b[0;31mNameError\u001b[0m                                 Traceback (most recent call last)",
      "Cell \u001b[0;32mIn[18], line 6\u001b[0m\n\u001b[1;32m      2\u001b[0m     \u001b[38;5;28;01mreturn\u001b[39;00m \u001b[38;5;124m\"\u001b[39m\u001b[38;5;124mRepräsentation\u001b[39m\u001b[38;5;124m\"\u001b[39m\n\u001b[1;32m      4\u001b[0m Bruch\u001b[38;5;241m.\u001b[39m\u001b[38;5;21m__repr__\u001b[39m \u001b[38;5;241m=\u001b[39m repräsentation\n\u001b[0;32m----> 6\u001b[0m \u001b[43ma\u001b[49m\n",
      "\u001b[0;31mNameError\u001b[0m: name 'a' is not defined"
     ]
    }
   ],
   "source": [
    "def repräsentation(self):\n",
    "    return \"Repräsentation\"\n",
    "\n",
    "Bruch.__repr__ = repräsentation\n",
    "\n",
    "a"
   ]
  },
  {
   "cell_type": "markdown",
   "id": "3a9f749c-3951-4182-8231-613b4bf11962",
   "metadata": {},
   "source": [
    "**Beachte**: Wenn du einen `NameError` erhältst: \"name 'a' is not defined\", dann gehe zurück zur ersten Aufgabe und stelle sicher, dass deine initiale Klassendefinition korrekt ist."
   ]
  },
  {
   "cell_type": "code",
   "execution_count": 19,
   "id": "652ba6c4-2003-4597-813d-7fc0d0c7c477",
   "metadata": {},
   "outputs": [
    {
     "data": {
      "text/plain": [
       "Fraction(2, 3, 1)"
      ]
     },
     "execution_count": 19,
     "metadata": {},
     "output_type": "execute_result"
    }
   ],
   "source": [
    "def repräsentation(self):\n",
    "    return f\"Fraction({self.zähler}, {self.nenner}, {self.zahl})\"\n",
    "\n",
    "Fraction.__repr__ = repräsentation\n",
    "\n",
    "c"
   ]
  },
  {
   "cell_type": "markdown",
   "id": "2ed480bc-0e8d-44f9-8143-038426290658",
   "metadata": {},
   "source": [
    "Damit können wir jetzt ein Objekt ausgeben und auf einen Blick erkennen, von welchem Typ das Objekt ist und mit welchen Werten die Attribute belegt sind.\n",
    "\n",
    "Diese Form liefert aber keine Information, wie der betreffende Bruch tatsächlich, also in mathematischer Darstellung aussieht.\n",
    "Wir wollen einen Bruch, so wie in der Lektion, in der Form \"1 2/3\" darstellen, in der wir sofort den Wert des Bruchs erkennen.\n",
    "\n",
    "Dazu können wir die Methode `__str__` in der Klasse implementieren. Zuvor müssen wir aber sicherstellen, dass jeder *unechte* Bruch, bei dem der Zähler größer als der Nenner ist, mit ganzzahligem Anteil dargestellt wird.\n",
    "Das ist bisher nicht der Fall:"
   ]
  },
  {
   "cell_type": "code",
   "execution_count": 21,
   "id": "08181690-a11c-4893-b13b-710bc56492ea",
   "metadata": {},
   "outputs": [
    {
     "data": {
      "text/plain": [
       "Fraction(3, 2, 0)"
      ]
     },
     "execution_count": 21,
     "metadata": {},
     "output_type": "execute_result"
    }
   ],
   "source": [
    "d"
   ]
  },
  {
   "cell_type": "code",
   "execution_count": null,
   "id": "37b13611-a8da-470c-b00b-73baea43af6d",
   "metadata": {},
   "outputs": [],
   "source": []
  }
 ],
 "metadata": {
  "kernelspec": {
   "display_name": "Python 3 (ipykernel)",
   "language": "python",
   "name": "python3"
  },
  "language_info": {
   "codemirror_mode": {
    "name": "ipython",
    "version": 3
   },
   "file_extension": ".py",
   "mimetype": "text/x-python",
   "name": "python",
   "nbconvert_exporter": "python",
   "pygments_lexer": "ipython3",
   "version": "3.12.2"
  }
 },
 "nbformat": 4,
 "nbformat_minor": 5
}
