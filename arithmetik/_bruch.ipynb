{
 "cells": [
  {
   "cell_type": "markdown",
   "id": "4e24f9c6-0f72-435e-899e-d22445880c7c",
   "metadata": {},
   "source": [
    "# Bruchrechnung\n",
    "In diesem Notebook werden wir eine verbesserte Version unserer Klasse `Buch` aus der Lektion entwickeln.\n",
    "Wir verfolgen dabei diese Ziele:\n",
    "- Verbesserung der Repräsentation und Ausgabe eines Bruchs\n",
    "- Rechnen mit negativen Werten\n",
    "\n",
    "\n",
    "## Initialisierung\n",
    "Deine erste **Aufgabe** ist es, eine initiale Klassendefinition der Klasse `Bruch` zu erstellen. "
   ]
  },
  {
   "cell_type": "code",
   "execution_count": 1,
   "id": "eba60c67-f19b-4844-8a95-f179262118c9",
   "metadata": {},
   "outputs": [
    {
     "ename": "TypeError",
     "evalue": "Bruch.__init__() takes 1 positional argument but 3 were given",
     "output_type": "error",
     "traceback": [
      "\u001b[0;31m---------------------------------------------------------------------------\u001b[0m",
      "\u001b[0;31mTypeError\u001b[0m                                 Traceback (most recent call last)",
      "Cell \u001b[0;32mIn[1], line 6\u001b[0m\n\u001b[1;32m      3\u001b[0m         \u001b[38;5;28mself\u001b[39m\u001b[38;5;241m.\u001b[39mzähler \u001b[38;5;241m=\u001b[39m \u001b[38;5;241m1\u001b[39m\n\u001b[1;32m      4\u001b[0m         \u001b[38;5;28mself\u001b[39m\u001b[38;5;241m.\u001b[39mnenner \u001b[38;5;241m=\u001b[39m \u001b[38;5;241m1\u001b[39m\n\u001b[0;32m----> 6\u001b[0m a \u001b[38;5;241m=\u001b[39m \u001b[43mBruch\u001b[49m\u001b[43m(\u001b[49m\u001b[38;5;241;43m3\u001b[39;49m\u001b[43m,\u001b[49m\u001b[43m \u001b[49m\u001b[38;5;241;43m2\u001b[39;49m\u001b[43m)\u001b[49m\n\u001b[1;32m      7\u001b[0m \u001b[38;5;28;01massert\u001b[39;00m (a\u001b[38;5;241m.\u001b[39mzähler, a\u001b[38;5;241m.\u001b[39mnenner) \u001b[38;5;241m==\u001b[39m (\u001b[38;5;241m3\u001b[39m, \u001b[38;5;241m2\u001b[39m)\n",
      "\u001b[0;31mTypeError\u001b[0m: Bruch.__init__() takes 1 positional argument but 3 were given"
     ]
    }
   ],
   "source": [
    "class Bruch:\n",
    "    def __init__(self):\n",
    "        self.zähler = 1\n",
    "        self.nenner = 1\n",
    "\n",
    "a = Bruch(3, 2)\n",
    "assert (a.zähler, a.nenner) == (3, 2)"
   ]
  },
  {
   "cell_type": "markdown",
   "id": "1cdf6572-967c-46df-8c78-01753e201d3b",
   "metadata": {},
   "source": [
    "Mit der Klassendefinition `Bruch` legen wir einen neuen Datentyp an.\n",
    "Die Anweisung `Bruch(2, 3)` erzeugt eine neue Instanz dieser Klasse, aber wenn du die obige Zelle ausführst, erhältst du einen Fehler.\n",
    "\n",
    "Python gibt die Fehlermeldung in der letzten Zeile der Ausgabe an und markiert die fehlerhafte Anweisung mit einem Pfeil `---->`.\n",
    "Der Fehler wird als `TypeError` klassifiziert: die `__init__` Methode erwartet 1 Argument, aber 3 Argumente wurden angegeben.\n",
    "\n",
    "Lass dich durch diese Zahlen nicht verwirren:\n",
    "die `__init__` Methode akzeptiert tatsächlich nur ein Argument: `self`.\n",
    "Es scheint als hätten wir nur zwei Argumente für die Instanziierung angegeben: `Bruch(2, 3)`.\\\n",
    "In Wirklichkeit haben wir aber drei Argumente angegeben: die Referenz `self` auf die Klasse wird von Python bei jeder Instanziierung automatisch gesetzt.\n",
    "Um den Fehler zu beheben, musst du also zusätzlich die beiden Parameter `zähler` und `nenner` für die `__init__` Methode definieren und sie korrekt initialisieren.\n",
    "\n",
    "Wenn du nicht weiterkommst, dann sie dir meine Lösung in der nächsten Zelle an.\n",
    "Um deine Version der Klasse besser von meiner Version unterscheiden zu können, werde ich meine Klasse im Folgenden mit dem englischen Ausdruck `Fraction` bezeichnen.\n",
    "\n",
    "**Beachte**, dass du deine Version der Klasse mit obenstehendem Code fertigstellen musst, bevor du in diesem Notebook weiterarbeiten kannst."
   ]
  },
  {
   "cell_type": "code",
   "execution_count": 2,
   "id": "1a9024e5-f291-4d5c-8ca1-c83d435b844b",
   "metadata": {},
   "outputs": [],
   "source": [
    "class Fraction:\n",
    "    def __init__(self, zähler, nenner):\n",
    "        self.zähler = zähler\n",
    "        self.nenner = nenner\n",
    "\n",
    "c = Fraction(3, 2)\n",
    "assert (c.zähler, c.nenner) == (3, 2)"
   ]
  },
  {
   "cell_type": "markdown",
   "id": "c102d7e3-bb51-4508-bc59-f2a73f1b8aca",
   "metadata": {},
   "source": [
    "## Repräsentation\n",
    "Um im Folgenden leichter mit unserer Klasse arbeiten zu können werden wir als nächstes jedes Objekt der Klasse als *string* repräsentieren, also mit einer Zeichenkette in Anführungszeichen.\n",
    "\n",
    "Wenn wir ein Objekt einer Klasse ausgeben, erhalten wir folgendes Ergebnis:"
   ]
  },
  {
   "cell_type": "code",
   "execution_count": 3,
   "id": "026fa986-00be-46f9-a856-ac4e22052247",
   "metadata": {},
   "outputs": [
    {
     "data": {
      "text/plain": [
       "<__main__.Fraction at 0x7482203960c0>"
      ]
     },
     "execution_count": 3,
     "metadata": {},
     "output_type": "execute_result"
    }
   ],
   "source": [
    "c"
   ]
  },
  {
   "cell_type": "markdown",
   "id": "cef267df-255f-41d1-8acf-60c65cbaee03",
   "metadata": {},
   "source": [
    "Das ist wenig hilfreich, da nur die Referenz auf das entsprechende Objekt ausgegeben wird.\n",
    "Wir können lediglich den Datentyp `Fraction` erkennen, aber nicht die aktuell gesetzten Werte.\n",
    "Python \"weiß\" nicht, wie ein solches Objekt angezeigt werden soll.\n",
    "\n",
    "Um das zu ändern, können wir die Methode `__repr__` der Klasse implementieren.\n",
    "Diese Methode muss einen *string* zurückgeben.\n",
    "Dieser String sollte genauso aussehen wie die Anweisung zur Instanziierung des Objekts, z.B. \"Bruch(2, 3)\".\n",
    "\n",
    "**Aufgabe**: Implementiere die Methode `__repr__` in deiner Klasse `Bruch`."
   ]
  },
  {
   "cell_type": "code",
   "execution_count": 4,
   "id": "520566a3-f278-4548-b823-194bad5f05eb",
   "metadata": {},
   "outputs": [
    {
     "ename": "NameError",
     "evalue": "name 'a' is not defined",
     "output_type": "error",
     "traceback": [
      "\u001b[0;31m---------------------------------------------------------------------------\u001b[0m",
      "\u001b[0;31mNameError\u001b[0m                                 Traceback (most recent call last)",
      "Cell \u001b[0;32mIn[4], line 6\u001b[0m\n\u001b[1;32m      2\u001b[0m     \u001b[38;5;28;01mreturn\u001b[39;00m \u001b[38;5;124m\"\u001b[39m\u001b[38;5;124mRepräsentation\u001b[39m\u001b[38;5;124m\"\u001b[39m\n\u001b[1;32m      4\u001b[0m Bruch\u001b[38;5;241m.\u001b[39m\u001b[38;5;21m__repr__\u001b[39m \u001b[38;5;241m=\u001b[39m repräsentation\n\u001b[0;32m----> 6\u001b[0m \u001b[43ma\u001b[49m\n",
      "\u001b[0;31mNameError\u001b[0m: name 'a' is not defined"
     ]
    }
   ],
   "source": [
    "def repräsentation(self):\n",
    "    return \"Repräsentation\"\n",
    "\n",
    "Bruch.__repr__ = repräsentation\n",
    "\n",
    "a"
   ]
  },
  {
   "cell_type": "markdown",
   "id": "3a9f749c-3951-4182-8231-613b4bf11962",
   "metadata": {},
   "source": [
    "**Beachte**: Wenn du einen `NameError` erhältst: \"name 'a' is not defined\", dann gehe zurück zur ersten Aufgabe und stelle sicher, dass deine initiale Klassendefinition korrekt ist."
   ]
  },
  {
   "cell_type": "code",
   "execution_count": 5,
   "id": "652ba6c4-2003-4597-813d-7fc0d0c7c477",
   "metadata": {},
   "outputs": [
    {
     "data": {
      "text/plain": [
       "Fraction(3, 2)"
      ]
     },
     "execution_count": 5,
     "metadata": {},
     "output_type": "execute_result"
    }
   ],
   "source": [
    "def repräsentation(self):\n",
    "    return f\"Fraction({self.zähler}, {self.nenner})\"\n",
    "\n",
    "Fraction.__repr__ = repräsentation\n",
    "\n",
    "c"
   ]
  },
  {
   "cell_type": "markdown",
   "id": "2ed480bc-0e8d-44f9-8143-038426290658",
   "metadata": {},
   "source": [
    "Damit können wir jetzt ein Objekt ausgeben und auf einen Blick erkennen, von welchem Typ das Objekt ist und mit welchen Werten die Attribute belegt sind.\n",
    "\n",
    "Diese Form liefert aber keine Information, wie der betreffende Bruch tatsächlich, also in mathematischer Darstellung aussieht.\n",
    "Wir wollen einen Bruch, so wie in der Lektion, in der Form \"1 2/3\" darstellen, so dass wir sofort den Wert des Bruchs erkennen.\n",
    "\n",
    "Dazu können wir die Methode `__str__` in der Klasse implementieren. Dabei müssen wir sicherstellen, dass jeder *unechte* Bruch, bei dem der Zähler größer als der Nenner ist, mit ganzzahligem Anteil dargestellt wird.\n",
    "\n",
    "**Aufgabe**: Implementiere die Methode `__str__` der Klasse `Bruch`, um den Bruch in seiner mathematischen Notation auszugeben."
   ]
  },
  {
   "cell_type": "code",
   "execution_count": 6,
   "id": "44daae0f-a05a-4a98-9d25-87b2abcd9bc0",
   "metadata": {},
   "outputs": [
    {
     "ename": "NameError",
     "evalue": "name 'a' is not defined",
     "output_type": "error",
     "traceback": [
      "\u001b[0;31m---------------------------------------------------------------------------\u001b[0m",
      "\u001b[0;31mNameError\u001b[0m                                 Traceback (most recent call last)",
      "Cell \u001b[0;32mIn[6], line 6\u001b[0m\n\u001b[1;32m      2\u001b[0m     \u001b[38;5;28;01mreturn\u001b[39;00m \u001b[38;5;124m\"\u001b[39m\u001b[38;5;124mAnzeige\u001b[39m\u001b[38;5;124m\"\u001b[39m\n\u001b[1;32m      4\u001b[0m Bruch\u001b[38;5;241m.\u001b[39m\u001b[38;5;21m__str__\u001b[39m \u001b[38;5;241m=\u001b[39m anzeige\n\u001b[0;32m----> 6\u001b[0m \u001b[38;5;28;01massert\u001b[39;00m \u001b[38;5;28mstr\u001b[39m(\u001b[43ma\u001b[49m) \u001b[38;5;241m==\u001b[39m \u001b[38;5;124m'\u001b[39m\u001b[38;5;124m1 2/3\u001b[39m\u001b[38;5;124m'\u001b[39m\n",
      "\u001b[0;31mNameError\u001b[0m: name 'a' is not defined"
     ]
    }
   ],
   "source": [
    "def anzeige(self):\n",
    "    return \"Anzeige\"\n",
    "\n",
    "Bruch.__str__ = anzeige\n",
    "\n",
    "assert str(a) == '1 2/3'"
   ]
  },
  {
   "cell_type": "code",
   "execution_count": 7,
   "id": "b7bf36ba-2a8e-4f2d-b8a5-24e8df199c04",
   "metadata": {},
   "outputs": [
    {
     "name": "stdout",
     "output_type": "stream",
     "text": [
      "1 1/2\n"
     ]
    },
    {
     "data": {
      "text/plain": [
       "Fraction(3, 2)"
      ]
     },
     "execution_count": 7,
     "metadata": {},
     "output_type": "execute_result"
    }
   ],
   "source": [
    "def anzeige(self):\n",
    "    string = \"\"\n",
    "    # 1) Prüfe auf unnechten Bruch\n",
    "    if self.zähler > self.nenner:\n",
    "        # 2) Berechnung des ganzzahligen Anteils\n",
    "        zahl = self.zähler // self.nenner\n",
    "        # 3) Berechnung des Rests der ganzzahligen Division\n",
    "        rest = self.zähler % self.nenner\n",
    "        # 4) Ausgabe-string\n",
    "        string = f\"{zahl} {rest}/{self.nenner}\"\n",
    "    else:\n",
    "        # 5) Ausgabe-string\n",
    "        string = f\"{self.zähler}/{self.nenner}\"\n",
    "    return string\n",
    "\n",
    "Fraction.__str__ = anzeige\n",
    "\n",
    "assert str(c) == '1 1/2'\n",
    "print(c)\n",
    "c"
   ]
  },
  {
   "cell_type": "markdown",
   "id": "2e3bed45-9f0b-4453-92af-611b323f9204",
   "metadata": {},
   "source": [
    "1. Zuerst prüfen wir, ob es sich um einen *unechten* Bruch handelt, d.h. ob der Zähler größer als der Nenner ist.\n",
    "2. Falls ja, berechnen wir den ganzzahligen Anteil mit der ganzzahligen Division: `//`\n",
    "3. Den Rest der ganzzahligen Division berechnen wir mit dem Modulo Operator: `%`\n",
    "4. Den Ausgabe-string geben wir als *formatted string* (*f-string*) an: die Ausdrücke in den geschweiften Klammern innerhalb des strings werden bei der Ausgabe ausgewertet und durch den betreffenden Wert ersetzt\n",
    "5. Falls es sich um einen *echten* Bruch handelt, geben wir diesen unverändert aus."
   ]
  },
  {
   "cell_type": "markdown",
   "id": "f1d43445-3020-4542-b15e-e246aa621a81",
   "metadata": {},
   "source": [
    "## Addition\n",
    "Als erstes wollen wir die Addition von Brüchen implementieren.\n",
    "In der Lektion haben wir haben wir die Formel\n",
    "$$\n",
    "\\frac{a}{b}+\\frac{c}{d}=\\frac{a\\cdot d}{b\\cdot d}+\\frac{c\\cdot b}{d\\cdot b}\n",
    "$$\n",
    "für die Addition *ungleichnamiger* Brüche verwendet, d.h. wir haben den *Hauptnenner* mit dem Produkt der beiden Nenner berechnet.\n",
    "\n",
    "Das führte zum richtigen Ergebnis, aber wir mussten nach der Berechnung das Ergebnis *kürzen*, indem wir Zähler und Nenner durch deren *größten gemeinsamen Teiler* geteilt haben.\n",
    "\n",
    "Wir definieren die hierzu notwendigen Methoden analog zur Version aus der Lektion:"
   ]
  },
  {
   "cell_type": "code",
   "execution_count": 8,
   "id": "e59480a5-1b96-4fae-bf8f-10360addb6bf",
   "metadata": {},
   "outputs": [
    {
     "name": "stdout",
     "output_type": "stream",
     "text": [
      "1 1/2\n"
     ]
    },
    {
     "data": {
      "text/plain": [
       "Fraction(3, 2)"
      ]
     },
     "execution_count": 8,
     "metadata": {},
     "output_type": "execute_result"
    }
   ],
   "source": [
    "def größter_gemeinsamer_teiler(self, a, b):\n",
    "  while b != 0:\n",
    "    a, b = b, a % b\n",
    "  return a\n",
    "\n",
    "Bruch.ggt = größter_gemeinsamer_teiler\n",
    "Fraction.ggT = größter_gemeinsamer_teiler\n",
    "\n",
    "def kürze_bruch(self):\n",
    "    faktor = self.ggT(self.nenner, self.zähler)\n",
    "    # 1) Rückgabe eines Bruchs\n",
    "    if type(self) == Bruch:\n",
    "        return Bruch(self.zähler // faktor, self.nenner // faktor)\n",
    "    # 2) Rückgabe einer Fraktion\n",
    "    else:\n",
    "        return Fraction(self.zähler // faktor, self.nenner // faktor)\n",
    "\n",
    "Bruch.kürze = kürze_bruch\n",
    "Fraction.kürze = kürze_bruch\n",
    "\n",
    "c = Fraction(9, 6)\n",
    "c = c.kürze()\n",
    "print(c)\n",
    "c"
   ]
  },
  {
   "cell_type": "markdown",
   "id": "89ae72b0-236a-43e1-85e6-9c778b531740",
   "metadata": {},
   "source": [
    "Ich habe hier die Methoden `ggT` und `kürze` für beide Klassen `Bruch` und `Fraktion` implementiert.\n",
    "Die Funktion `kürze_bruch` liefert dabei ein Ergebnis vom jeweils richtigen Typ zutück:\n",
    "1. einen Bruch, falls das Objekt selbst ein `Bruch` ist\n",
    "2. eine Fraction, wenn das Objekt selbst eine `Fraction` ist.\n",
    "\n",
    "Auf diese Weise müssen wir `kürze_bruch` nur einmal definieren.\n",
    "\n",
    "**Aufgabe**: Implementiere die Methode `add` für die Addition von Brüchen in deiner Klasse `Bruch`."
   ]
  },
  {
   "cell_type": "code",
   "execution_count": 9,
   "id": "7515b233-6ddf-433b-b816-5b5f536a2b43",
   "metadata": {},
   "outputs": [
    {
     "ename": "NameError",
     "evalue": "name 'a' is not defined",
     "output_type": "error",
     "traceback": [
      "\u001b[0;31m---------------------------------------------------------------------------\u001b[0m",
      "\u001b[0;31mNameError\u001b[0m                                 Traceback (most recent call last)",
      "Cell \u001b[0;32mIn[9], line 9\u001b[0m\n\u001b[1;32m      6\u001b[0m Bruch\u001b[38;5;241m.\u001b[39madd \u001b[38;5;241m=\u001b[39m addiere_bruch\n\u001b[1;32m      8\u001b[0m b \u001b[38;5;241m=\u001b[39m Fraction(\u001b[38;5;241m1\u001b[39m, \u001b[38;5;241m3\u001b[39m)\n\u001b[0;32m----> 9\u001b[0m e \u001b[38;5;241m=\u001b[39m \u001b[43ma\u001b[49m\u001b[38;5;241m.\u001b[39madd(b)\n\u001b[1;32m     10\u001b[0m \u001b[38;5;28mprint\u001b[39m(\u001b[38;5;124mf\u001b[39m\u001b[38;5;124m\"\u001b[39m\u001b[38;5;124ma = \u001b[39m\u001b[38;5;132;01m{\u001b[39;00ma\u001b[38;5;132;01m}\u001b[39;00m\u001b[38;5;124m\"\u001b[39m)\n\u001b[1;32m     11\u001b[0m \u001b[38;5;28mprint\u001b[39m(\u001b[38;5;124mf\u001b[39m\u001b[38;5;124m\"\u001b[39m\u001b[38;5;124mb = \u001b[39m\u001b[38;5;132;01m{\u001b[39;00mb\u001b[38;5;132;01m}\u001b[39;00m\u001b[38;5;124m\"\u001b[39m)\n",
      "\u001b[0;31mNameError\u001b[0m: name 'a' is not defined"
     ]
    }
   ],
   "source": [
    "def addiere_bruch(self, other):\n",
    "    res = self\n",
    "    \n",
    "    return res.kürze()\n",
    "\n",
    "Bruch.add = addiere_bruch\n",
    "\n",
    "b = Fraction(1, 3)\n",
    "e = a.add(b)\n",
    "print(f\"a = {a}\")\n",
    "print(f\"b = {b}\")\n",
    "print(f\"e = {e}\")\n",
    "e"
   ]
  },
  {
   "cell_type": "code",
   "execution_count": 10,
   "id": "566fe6b2-7d9a-4244-b90b-2d125c77fd9e",
   "metadata": {},
   "outputs": [
    {
     "name": "stdout",
     "output_type": "stream",
     "text": [
      "c = 1 1/2\n",
      "d = 1/3\n",
      "e = 1 5/6\n"
     ]
    },
    {
     "data": {
      "text/plain": [
       "Fraction(11, 6)"
      ]
     },
     "execution_count": 10,
     "metadata": {},
     "output_type": "execute_result"
    }
   ],
   "source": [
    "def addiere_bruch(self, other):\n",
    "    res = self\n",
    "    # 1) gleichnamiger Bruch\n",
    "    if self.nenner == other.nenner:\n",
    "        res = Fraction(self.zähler + other.zähler, self.nenner)\n",
    "    # 2) ungleichnamiger Bruch\n",
    "    else:\n",
    "        res = Fraction(self.zähler * other.nenner + self.nenner * other.zähler,\n",
    "                    self.nenner * other.nenner)\n",
    "    return res.kürze()\n",
    "\n",
    "Fraction.add = addiere_bruch\n",
    "\n",
    "d = Fraction(1, 3)\n",
    "e = c.add(d)\n",
    "print(f\"c = {c}\")\n",
    "print(f\"d = {d}\")\n",
    "print(f\"e = {e}\")\n",
    "e"
   ]
  },
  {
   "cell_type": "markdown",
   "id": "29895905-4a75-4612-925b-002265df7dc9",
   "metadata": {},
   "source": [
    "1. Wenn die beiden Nenner gleich sind, handelt es sich um einen gleichnamigen Bruch.\n",
    "In diesem Fall berechnen wir das Ergebnis, indem wir die beiden Zähler addieren und den Nenner beibehalten.\n",
    "Dazu erzeugen wir ein neues Objekt mit dem Ergebnis der Addition.\n",
    "2. Die Summe zweier ungleichnamiger Brüche berechnen wir gemäß obiger Formel, indem wir den Hauptnenner aus dem Produkt der beiden Nenner berechnen, und die beiden Zähler mit dem jeweils anderen Nenner multiplizieren und dann addieren."
   ]
  },
  {
   "cell_type": "markdown",
   "id": "b22a8ab1-98d4-4f89-a183-722bc745aaea",
   "metadata": {},
   "source": [
    "## Rechnen mit negativen Werten\n",
    "Wir wollen nun auch eine Methode für die Subtraktion von Brüchen implementieren.\n",
    "Dafür müssen wir sicherstellen, dass unsere Klasse korrekt mit negativen Werten umgeht.\n",
    "\n",
    "Wir können Vorzeichen bei beiden Parametern unserer Klasse erfassen:"
   ]
  },
  {
   "cell_type": "code",
   "execution_count": 11,
   "id": "54e3f879-dc1c-4ae3-b0e8-cafa8a2b5991",
   "metadata": {},
   "outputs": [
    {
     "name": "stdout",
     "output_type": "stream",
     "text": [
      "-1/2\n",
      "-1 -1/-2\n",
      "-3/2\n",
      "-2 -1/-2\n"
     ]
    }
   ],
   "source": [
    "c = Fraction(-1, 2)\n",
    "print(c)\n",
    "c = Fraction(1, -2)\n",
    "print(c)\n",
    "c = Fraction(-3, 2)\n",
    "print(c)\n",
    "c = Fraction(3, -2)\n",
    "print(c)"
   ]
  },
  {
   "cell_type": "markdown",
   "id": "15c5a07e-9c1c-4ff9-a462-6879caeed5ba",
   "metadata": {},
   "source": [
    "Die Ausgabe ist nicht korrekt;\n",
    "offensichtlich kann unsere Ausgabe Methode nicht mit negativen Werten umgehen.\n",
    "Wir müssen die `__str__` Methode der Klasse also anpassen:"
   ]
  },
  {
   "cell_type": "code",
   "execution_count": 12,
   "id": "c48580fe-0864-4b4e-ad70-fd6b16f73cb5",
   "metadata": {},
   "outputs": [],
   "source": [
    "def anzeige(self):\n",
    "    string = \"\"\n",
    "    # 1) Prüfe auf unnechten Bruch\n",
    "    if abs(self.zähler) > abs(self.nenner):\n",
    "        # 2) Berechnung des ganzzahligen Anteils und des Rests\n",
    "        zahl = self.zähler // self.nenner\n",
    "        rest = self.zähler % self.nenner\n",
    "        # 3) Negativer ganzzahliger Anteil\n",
    "        if zahl < 0:\n",
    "            zahl += 1\n",
    "            rest = abs(self.nenner) - 1\n",
    "        # 4) Ausgabe-string\n",
    "        string = f\"{zahl} {abs(rest)}/{abs(self.nenner)}\"\n",
    "    else:\n",
    "        # 5) Echter Bruch mit positivem Wert\n",
    "        if self.zähler * self.nenner > 0:\n",
    "            # 6) Ausgabe-string\n",
    "            string = f\"{abs(self.zähler)}/{abs(self.nenner)}\"\n",
    "        else:\n",
    "            # 7) Ausgabe-string\n",
    "            string = f\"{abs(self.zähler) * -1}/{abs(self.nenner)}\"\n",
    "    return string\n",
    "\n",
    "Fraction.__str__ = anzeige"
   ]
  },
  {
   "cell_type": "markdown",
   "id": "27f70ff3-ed22-496f-b8e1-8cb3e6693e5d",
   "metadata": {},
   "source": [
    "1. Wenn Zähler oder Nenner (oder beide) negativ sind, dann liefert der Test `self.zähler > self.nenner` ein falsches Ergebnis.\n",
    "Wir benutzen für den Test daher die absoluten Werte (die Werte ohne Vorzeichen), indem wir die Funktion `abs` auf beiden Werten aufrufen.\n",
    "2. Die Berechnung des ganzzahligen Anteils und des Rests der Division erfolgt wie zuvor.\n",
    "3. Wenn der ganzzahlige Anteil negativ ist (Zähler *oder* Nenner ist negativ), dann müssen wir das Ergebnis korrigieren, indem wir 1 zu `zahl` addieren und den `rest` berechnen, indem wir 1 vom Absolutbetrag des Nenners abziehen.\n",
    "Das ist der Funktionsweise der Operatoren `//` und `%` mit negativen Zahlen geschuldet.\n",
    "Beachte das folgende Beispiel:"
   ]
  },
  {
   "cell_type": "code",
   "execution_count": 13,
   "id": "aa4b5d24-d2d0-40f6-ad29-2f6d7f703e3c",
   "metadata": {},
   "outputs": [
    {
     "name": "stdout",
     "output_type": "stream",
     "text": [
      "-1 3/4\n",
      "ganzzahlige Divsion mit negativem Divident:\n",
      "-7 // 4 = -2\n",
      "Rest der ganzzahlige Divsion mit negativem Divident:\n",
      "-7 % 4 = 1\n"
     ]
    }
   ],
   "source": [
    "c = Fraction(-7, 4)\n",
    "print(c)\n",
    "print(\"ganzzahlige Divsion mit negativem Divident:\")\n",
    "print(f\"-7 // 4 = {-7 // 4}\")\n",
    "print(\"Rest der ganzzahlige Divsion mit negativem Divident:\")\n",
    "print(f\"-7 % 4 = {-7 % 4}\")\n"
   ]
  },
  {
   "cell_type": "markdown",
   "id": "e1d95c2e-b4e6-4092-8a3d-17a138a6e1e5",
   "metadata": {},
   "source": [
    "Das Ergebnis wäre rechnerisch zwar korrekt: `-2+1/4`, wir wollen es aber so darstellen: `-1 3/4`.\n",
    "\n",
    "4. Ausgabe-string: da wir das Vorzeichen beim ganzzahligen Anteil berücksichtigt haben, verwenden wir für Zähler und Nenner die absoluten Werte.\n",
    "5. Ein Bruch hat einen positiven Wert, wenn Zähler und Nenner beide positiv sind oder beide negativ sind.\n",
    "Wenn nur ein Wert negativ ist, dann ist auch der Wert des Bruchs negativ.\n",
    "Wir prüfen also, ob das Produkt aus Zähler und Nenner positiv ist, und müssen so nur einen Test durchführen.\n",
    "6. Wir wissen, dass der Wert des Bruchs positiv ist; also lassen wir die Vorzeichen weg.\n",
    "7. Der Wert des Bruchs ist negativ. In diesem Fall setzen wir das negative Vorzeichen immer beim Zähler."
   ]
  },
  {
   "cell_type": "markdown",
   "id": "3947c3c0-213e-4050-9b4a-f29fa32c4259",
   "metadata": {},
   "source": [
    "**Aufgabe**: Identifziere für die folgenden Beispiele die jeweilige Anweisung in der Funktion, die die Ausgabe erzeugt hat."
   ]
  },
  {
   "cell_type": "code",
   "execution_count": 14,
   "id": "22116cab-e029-4737-8726-1b0c0aa8df18",
   "metadata": {},
   "outputs": [],
   "source": [
    "# Beispiel 1\n",
    "c = Fraction(1, 2)\n",
    "assert str(c) == '1/2'\n",
    "\n",
    "# Beispiel 2\n",
    "c = Fraction(-1, 2)\n",
    "assert str(c) == '-1/2'\n",
    "\n",
    "# Beispiel 3\n",
    "c = Fraction(1, -2)\n",
    "assert str(c) == '-1/2'\n",
    "\n",
    "# Beispiel 4\n",
    "c = Fraction(-1, -2)\n",
    "assert str(c) == '1/2'\n",
    "\n",
    "# Beispiel 5\n",
    "c = Fraction(3, -2)\n",
    "assert str(c) == '-1 1/2'\n",
    "\n",
    "# Beispiel 6\n",
    "c = Fraction(-7, 4)\n",
    "assert str(c) == '-1 3/4'\n",
    "\n",
    "# Beispiel 7\n",
    "c = Fraction(5, 3)\n",
    "assert str(c) == '1 2/3'"
   ]
  },
  {
   "cell_type": "markdown",
   "id": "aeac7b12-e664-41dc-b5f6-0d81f2ecb3d7",
   "metadata": {},
   "source": [
    "1. Beispiel: echter Bruch mit poitivem Wert (Anweisung # 6)\n",
    "2. Beispiel: echter Bruch mit negativem Wert (Anweisung # 7)\n",
    "3. Beispiel: echter Bruch mit negativem Wert (Anweisung # 7)\n",
    "4. Beispiel: echter Bruch mit poitivem Wert (Anweisung # 6)\n",
    "5. Beispiel: unechter Bruch mit negativem ganzzahligen Anteil (Anweisung # 3)\n",
    "6. Beispiel: unechter Bruch mit negativem ganzzahligen Anteil (Anweisung # 3)\n",
    "7. Beispiel: unechter Bruch mit poitivem ganzzahligen Anteil (Anweisung # 2)\n",
    "\n",
    "Jetzt können wir testen, ob unsere Addition korrekt mit negativen Werten rechnet:"
   ]
  },
  {
   "cell_type": "code",
   "execution_count": 15,
   "id": "e3dbb0be-0aea-4206-9898-efdbe303698f",
   "metadata": {},
   "outputs": [
    {
     "name": "stdout",
     "output_type": "stream",
     "text": [
      "1/2 + -1/3 = 1/6\n",
      "1/2 + -2/3 = -1/6\n",
      "1/2 + -1 2/3 = -5/6\n"
     ]
    }
   ],
   "source": [
    "c = Fraction(1, 2)\n",
    "d = Fraction(-1, 3)\n",
    "e = c.add(d)\n",
    "print(f\"{c} + {d} = {e}\")\n",
    "\n",
    "d = Fraction(-2, 3)\n",
    "e = c.add(d)\n",
    "print(f\"{c} + {d} = {e}\")\n",
    "\n",
    "d = Fraction(-4, 3)\n",
    "e = c.add(d)\n",
    "print(f\"{c} + {d} = {e}\")"
   ]
  },
  {
   "cell_type": "markdown",
   "id": "02bb31f9-9866-4d05-bd53-a118de549096",
   "metadata": {},
   "source": [
    "**Aufgabe**: Überzeuge dich davon, dass die Ergebnisse korrekt sind, indem du sie manuell nachrechnest.\n",
    "\n",
    "Für das zweite Beispiel könnte das so aussehen: $\\frac{1}{2}+\\frac{-2}{+3}=\\frac{1}{2}-\\frac{2}{3}=\\frac{3}{6}-\\frac{4}{6}=-\\frac{1}{6}$.\n",
    "\n",
    "**Aufgabe**: Implementiere die Methode `sub` für die Subtraktion von Brüchen.\\\n",
    "**Hinweis**: Verwende deine Erkenntnisse aus den obigen manuellen Berechnungen, um eine einfache Lösung zu finden."
   ]
  },
  {
   "cell_type": "code",
   "execution_count": 16,
   "id": "5edfe81d-f5ed-4399-a4ce-570c0a07fa42",
   "metadata": {},
   "outputs": [
    {
     "ename": "TypeError",
     "evalue": "Bruch.__init__() takes 1 positional argument but 3 were given",
     "output_type": "error",
     "traceback": [
      "\u001b[0;31m---------------------------------------------------------------------------\u001b[0m",
      "\u001b[0;31mTypeError\u001b[0m                                 Traceback (most recent call last)",
      "Cell \u001b[0;32mIn[16], line 6\u001b[0m\n\u001b[1;32m      2\u001b[0m     \u001b[38;5;28;01mreturn\u001b[39;00m \u001b[38;5;28mself\u001b[39m\n\u001b[1;32m      4\u001b[0m Bruch\u001b[38;5;241m.\u001b[39msub \u001b[38;5;241m=\u001b[39m subtrahiere_bruch\n\u001b[0;32m----> 6\u001b[0m a \u001b[38;5;241m=\u001b[39m \u001b[43mBruch\u001b[49m\u001b[43m(\u001b[49m\u001b[38;5;241;43m1\u001b[39;49m\u001b[43m,\u001b[49m\u001b[43m \u001b[49m\u001b[38;5;241;43m2\u001b[39;49m\u001b[43m)\u001b[49m\n\u001b[1;32m      7\u001b[0m b \u001b[38;5;241m=\u001b[39m Bruch(\u001b[38;5;241m1\u001b[39m, \u001b[38;5;241m3\u001b[39m)\n\u001b[1;32m      8\u001b[0m e \u001b[38;5;241m=\u001b[39m a\u001b[38;5;241m.\u001b[39msub(b)\n",
      "\u001b[0;31mTypeError\u001b[0m: Bruch.__init__() takes 1 positional argument but 3 were given"
     ]
    }
   ],
   "source": [
    "def subtrahiere_bruch(self, other):\n",
    "    return self\n",
    "\n",
    "Bruch.sub = subtrahiere_bruch\n",
    "\n",
    "a = Bruch(1, 2)\n",
    "b = Bruch(1, 3)\n",
    "e = a.sub(b)\n",
    "assert str(e) == '1/6'\n",
    "print(f\"{c} - {d} = {e}\")"
   ]
  },
  {
   "cell_type": "code",
   "execution_count": 17,
   "id": "8d2ec860-5d07-4015-9a5e-0ab8c2444071",
   "metadata": {},
   "outputs": [],
   "source": [
    "def subtrahiere_bruch(self, other):\n",
    "    return self.add(Fraction(other.zähler * -1, other.nenner))\n",
    "\n",
    "Fraction.sub = subtrahiere_bruch"
   ]
  },
  {
   "cell_type": "markdown",
   "id": "0647a69d-4c44-4a4a-a500-e4b6ed0f6b6f",
   "metadata": {},
   "source": [
    "Ich habe hier meine Erkenntnis aus den manuellen Berechnungen angewandt:\n",
    "$$\n",
    "\\frac{a}{b}-\\frac{c}{d}=\\frac{a}{b}+\\frac{-c}{+d}.\n",
    "$$\n",
    "Anstatt also die Logik für die Subtraktion neu zu implementieren (und dabei jeweils das `+` durch ein `-` zu ersetzen), habe ich den zweiten Bruch einfach mit negativem Zähler addiert, da das zum gleichen Ergebnis führt:"
   ]
  },
  {
   "cell_type": "code",
   "execution_count": 18,
   "id": "a2ce750e-ada2-4112-90ed-10d91bae4150",
   "metadata": {},
   "outputs": [
    {
     "name": "stdout",
     "output_type": "stream",
     "text": [
      "1/2 - 1/3 = 1/6\n",
      "1/2 - 2/3 = -1/6\n",
      "1/2 - 1 1/3 = -5/6\n"
     ]
    }
   ],
   "source": [
    "c = Fraction(1, 2)\n",
    "d = Fraction(1, 3)\n",
    "e = c.sub(d)\n",
    "assert str(e) == '1/6'\n",
    "print(f\"{c} - {d} = {e}\")\n",
    "\n",
    "d = Fraction(2, 3)\n",
    "e = c.sub(d)\n",
    "assert str(e) == '-1/6'\n",
    "print(f\"{c} - {d} = {e}\")\n",
    "\n",
    "d = Fraction(4, 3)\n",
    "e = c.sub(d)\n",
    "assert str(e) == '-5/6'\n",
    "print(f\"{c} - {d} = {e}\")"
   ]
  },
  {
   "cell_type": "markdown",
   "id": "74ce7e63-9ead-4ac5-a9b6-2f227747ee58",
   "metadata": {},
   "source": [
    "## Rückschau\n",
    "Wir haben unsere Klasse `Bruch` schrittweise erstellt und in jedem Schritt neue Funktionionalität hinzugefügt bzw. bereits vorhandene Funktionalität verbessert.\n",
    "Wir haben unsere Klasse also **inkrementell** entwickelt.\n",
    "\n",
    "Der Schlüssel zum Erfolg war dabei, dass wir in jedem Schritt unsere neuen Funktionen gleich der Klasse hinzugefügt haben, und uns so bei jedem Schritt durch entsprechende Tests vergewissern konnten, dass die ganze Klasse voll funktionsfähig ist.\n",
    "Ein solches Vorgehen, bei dem jedes Inkrement eine funktionsfähige und testbare Version einer Software liefert, nennt man auch **iteratives Vorgehen**.\n",
    "\n",
    "**Iteratives Vorgehen** ist die Grundlage der modernen Softwareentwicklung; wir wollen in unseren Notebooks daher auch immer iterativ vorgehen, um dieses Muster einzuüben.\n",
    "\n",
    "Die finale Version unsere Klasse `Bruch` können wir auch in einer einzigen Definition zusammenfassen.\n",
    "Ich habe hier die Methode `__str__` um einige Fälle ergänzt, die den Wert des Bruchs als ganze Zahl ausgeben, indem ich den Bruch vorher gekürzt habe.\n",
    "\n",
    "Außerdem habe ich alle Methoden mit einem *Docstring* versehen und *type annotations* hinzugefügt, um sie entsprechend zu dokumentieren.\n",
    "Da Python eine dynamisch typisierte Sprache ist, werden die *type annotations* zur Laufzeit eines Programms nicht berücksichtigt; für unsere Zwecke dienen sie daher allein zur Dokumentation des Quellcodes."
   ]
  },
  {
   "cell_type": "code",
   "execution_count": 19,
   "id": "48d5870a-8a06-4061-9088-816ee298a454",
   "metadata": {},
   "outputs": [],
   "source": [
    "class Bruch:\n",
    "    \"\"\"Eine Klasse zum Rechnen mit Brüchen.\n",
    "    Argumente:\n",
    "    zähler -- Zähler des Bruchs\n",
    "    nenner -- Nenner des Bruchs\n",
    "    \"\"\"\n",
    "    def __init__(self, zähler: int, nenner: int) -> None:\n",
    "        self.zähler = zähler\n",
    "        self.nenner = nenner\n",
    "        \n",
    "    def __repr__(self) -> str:\n",
    "        \"\"\"Gibt die interne Repräsentation eines Bruchs zurück.\"\"\"\n",
    "        return f\"Bruch({self.zähler}, {self.nenner})\"\n",
    "\n",
    "    def __str__(self) -> str:\n",
    "        \"\"\"Anzeige eines Bruchs in mathematischer Notation.\"\"\"\n",
    "        s = self.kürze()\n",
    "        if s.zähler == s.nenner: return '1'\n",
    "        if s.zähler == -s.nenner: return '-1'\n",
    "        if s.zähler == 0: return '0'\n",
    "        if s.nenner == 1: return str(s.zähler)\n",
    "        if s.nenner == -1: return f\"-{s.zähler}\"\n",
    "        if abs(s.zähler) > abs(s.nenner):\n",
    "            zahl = s.zähler // s.nenner\n",
    "            rest = s.zähler % s.nenner\n",
    "            if zahl < 0:\n",
    "                zahl += 1\n",
    "                rest = abs(s.nenner) - 1\n",
    "            return f\"{zahl} {abs(rest)}/{abs(s.nenner)}\"\n",
    "        if s.zähler * s.nenner > 0:\n",
    "            return f\"{abs(s.zähler)}/{abs(s.nenner)}\"\n",
    "        return f\"{abs(s.zähler) * -1}/{abs(s.nenner)}\"\n",
    "\n",
    "    def ggT(self, a: int, b: int) -> int:\n",
    "        \"\"\"Berechnet den größten gemeinsamen Teiler der ganzen Zahlen a und b.\"\"\"\n",
    "        while b != 0:\n",
    "            a, b = b, a % b\n",
    "        return a\n",
    "\n",
    "    def kürze(self) -> Bruch:\n",
    "        \"\"\"Kürzt einen Bruch mit dem größten gemeinsamen Teiler von Nenner und Zähler.\"\"\"\n",
    "        faktor = self.ggT(self.nenner, self.zähler)\n",
    "        return Bruch(self.zähler // faktor, self.nenner // faktor)\n",
    "\n",
    "    def add(self, other: Bruch) -> Bruch:\n",
    "        \"\"\"Addiert einen anderen Bruch zum aktuellen Bruch.\"\"\"\n",
    "        res = self\n",
    "        if self.nenner == other.nenner:\n",
    "            res = Bruch(self.zähler + other.zähler, self.nenner)\n",
    "        else:\n",
    "            res = Bruch(self.zähler * other.nenner + self.nenner * other.zähler,\n",
    "                        self.nenner * other.nenner)\n",
    "        return res.kürze()\n",
    "\n",
    "    def sub(self, other: Bruch) -> Bruch:\n",
    "        \"\"\"Subtrahiert einen anderen Bruch vom aktuellen Bruch.\"\"\"\n",
    "        return self.add(Bruch(other.zähler * -1, other.nenner))"
   ]
  },
  {
   "cell_type": "markdown",
   "id": "27bd66b1-db72-44b3-b21b-8d9a7a8312cf",
   "metadata": {},
   "source": [
    "Die Dokumentation der Methoden kann abgerufen werden, indem wir sie mit vorangestelltem `?` und ohne Klammern aufrufen:"
   ]
  },
  {
   "cell_type": "code",
   "execution_count": 20,
   "id": "57646e1e-b74a-4b5f-9a80-7b56ef3b6318",
   "metadata": {},
   "outputs": [
    {
     "data": {
      "text/plain": [
       "\u001b[0;31mInit signature:\u001b[0m \u001b[0mBruch\u001b[0m\u001b[0;34m(\u001b[0m\u001b[0mzähler\u001b[0m\u001b[0;34m:\u001b[0m \u001b[0mint\u001b[0m\u001b[0;34m,\u001b[0m \u001b[0mnenner\u001b[0m\u001b[0;34m:\u001b[0m \u001b[0mint\u001b[0m\u001b[0;34m)\u001b[0m \u001b[0;34m->\u001b[0m \u001b[0;32mNone\u001b[0m\u001b[0;34m\u001b[0m\u001b[0;34m\u001b[0m\u001b[0m\n",
       "\u001b[0;31mDocstring:\u001b[0m     \n",
       "Eine Klasse zum Rechnen mit Brüchen.\n",
       "Argumente:\n",
       "zähler -- Zähler des Bruchs\n",
       "nenner -- Nenner des Bruchs\n",
       "\u001b[0;31mType:\u001b[0m           type\n",
       "\u001b[0;31mSubclasses:\u001b[0m     "
      ]
     },
     "metadata": {},
     "output_type": "display_data"
    }
   ],
   "source": [
    "?Bruch"
   ]
  },
  {
   "cell_type": "code",
   "execution_count": 21,
   "id": "d74fdba7-668e-45c3-87c8-8f7f9378e6e4",
   "metadata": {},
   "outputs": [
    {
     "data": {
      "text/plain": [
       "\u001b[0;31mSignature:\u001b[0m \u001b[0mBruch\u001b[0m\u001b[0;34m.\u001b[0m\u001b[0madd\u001b[0m\u001b[0;34m(\u001b[0m\u001b[0mself\u001b[0m\u001b[0;34m,\u001b[0m \u001b[0mother\u001b[0m\u001b[0;34m:\u001b[0m \u001b[0m__main__\u001b[0m\u001b[0;34m.\u001b[0m\u001b[0mBruch\u001b[0m\u001b[0;34m)\u001b[0m \u001b[0;34m->\u001b[0m \u001b[0m__main__\u001b[0m\u001b[0;34m.\u001b[0m\u001b[0mBruch\u001b[0m\u001b[0;34m\u001b[0m\u001b[0;34m\u001b[0m\u001b[0m\n",
       "\u001b[0;31mDocstring:\u001b[0m Addiert einen anderen Bruch zum aktuellen Bruch.\n",
       "\u001b[0;31mFile:\u001b[0m      /tmp/ipykernel_6395/1896468051.py\n",
       "\u001b[0;31mType:\u001b[0m      function"
      ]
     },
     "metadata": {},
     "output_type": "display_data"
    }
   ],
   "source": [
    "?Bruch.add"
   ]
  },
  {
   "cell_type": "markdown",
   "id": "ceab7c24-4651-499a-95e6-7600749e8591",
   "metadata": {},
   "source": [
    "Mit Hilfe des Moduls `inspect` können wir diese Informationen auch innerhalb von anderem Code auswerten:"
   ]
  },
  {
   "cell_type": "code",
   "execution_count": 22,
   "id": "096d2bd3-7cb0-43f8-9ca3-9a88f874a47f",
   "metadata": {},
   "outputs": [
    {
     "name": "stdout",
     "output_type": "stream",
     "text": [
      "Eine Klasse zum Rechnen mit Brüchen.\n",
      "Argumente:\n",
      "zähler -- Zähler des Bruchs\n",
      "nenner -- Nenner des Bruchs\n"
     ]
    }
   ],
   "source": [
    "import inspect\n",
    "print(inspect.getdoc(Bruch))"
   ]
  },
  {
   "cell_type": "code",
   "execution_count": 23,
   "id": "437e1183-fa74-4ac0-b6e5-7ad341627560",
   "metadata": {},
   "outputs": [
    {
     "name": "stdout",
     "output_type": "stream",
     "text": [
      "(self, other: __main__.Bruch) -> __main__.Bruch\n"
     ]
    }
   ],
   "source": [
    "print(inspect.signature(Bruch.add))"
   ]
  },
  {
   "cell_type": "markdown",
   "id": "c7118245-bd3a-4238-82e1-ce0e13a01ec6",
   "metadata": {},
   "source": [
    "Zum Abschluß testen wir unsere aktuelle Version:"
   ]
  },
  {
   "cell_type": "code",
   "execution_count": 24,
   "id": "0bb7e623-51d3-46ab-b1ce-c520101c754a",
   "metadata": {},
   "outputs": [],
   "source": [
    "# Anzeige eines Bruchs\n",
    "a = Bruch(1, 2)\n",
    "assert str(a) == '1/2'\n",
    "\n",
    "a = Bruch(-1, 2)\n",
    "assert str(a) == '-1/2'\n",
    "\n",
    "a = Bruch(1, -2)\n",
    "assert str(a) == '-1/2'\n",
    "\n",
    "a = Bruch(-1, -2)\n",
    "assert str(a) == '1/2'\n",
    "\n",
    "a = Bruch(3, -2)\n",
    "assert str(a) == '-1 1/2'\n",
    "\n",
    "a = Bruch(-7, 4)\n",
    "assert str(a) == '-1 3/4'\n",
    "\n",
    "a = Bruch(5, 3)\n",
    "assert str(a) == '1 2/3'\n",
    "\n",
    "a = Bruch(6, 2)\n",
    "assert str(a) == '3'\n",
    "\n",
    "a = Bruch(-9, 3)\n",
    "assert str(a) == '-3'"
   ]
  },
  {
   "cell_type": "code",
   "execution_count": 25,
   "id": "8b9e49eb-322d-4b6e-8cab-89ef2aa73710",
   "metadata": {},
   "outputs": [],
   "source": [
    "# Kürzen eines Bruchs\n",
    "a = Bruch(12, 18)\n",
    "assert str(a.kürze()) == '2/3'\n",
    "\n",
    "a = Bruch(9, 6)\n",
    "assert str(a.kürze()) == '1 1/2'\n",
    "\n",
    "a = Bruch(-12, 18)\n",
    "assert str(a.kürze()) == '-2/3'\n",
    "\n",
    "a = Bruch(9, -6)\n",
    "assert str(a.kürze()) == '-1 1/2'"
   ]
  },
  {
   "cell_type": "code",
   "execution_count": 26,
   "id": "37af5c07-2122-447b-b04d-35222aafc18c",
   "metadata": {},
   "outputs": [],
   "source": [
    "# Addieren zweier Brüche\n",
    "a = Bruch(1, 2)\n",
    "b = Bruch(1, 3)\n",
    "e = a.add(b)\n",
    "assert str(e) == '5/6'\n",
    "\n",
    "b = Bruch(1, 2)\n",
    "e = a.add(b)\n",
    "assert str(e) == '1'\n",
    "\n",
    "b = Bruch(-1, 3)\n",
    "e = a.add(b)\n",
    "assert str(e) == '1/6'\n",
    "\n",
    "b = Bruch(-2, 3)\n",
    "e = a.add(b)\n",
    "assert str(e) == '-1/6'\n",
    "\n",
    "b = Bruch(-4, 3)\n",
    "e = a.add(b)\n",
    "assert str(e) == '-5/6'"
   ]
  },
  {
   "cell_type": "code",
   "execution_count": 27,
   "id": "b83b3263-75c1-4b4b-969a-9f2b61246eee",
   "metadata": {},
   "outputs": [],
   "source": [
    "# Subtrahieren zweier Brüche\n",
    "a = Bruch(1, 2)\n",
    "b = Bruch(1, 3)\n",
    "e = a.sub(b)\n",
    "assert str(e) == '1/6'\n",
    "\n",
    "b = Bruch(1, 2)\n",
    "e = a.sub(b)\n",
    "assert str(e) == '0'\n",
    "\n",
    "b = Bruch(3, 2)\n",
    "e = a.sub(b)\n",
    "assert str(e) == '-1'\n",
    "\n",
    "b = Bruch(2, 3)\n",
    "e = a.sub(b)\n",
    "assert str(e) == '-1/6'\n",
    "\n",
    "b = Bruch(4, 3)\n",
    "e = a.sub(b)\n",
    "assert str(e) == '-5/6'\n",
    "\n",
    "b = Bruch(6, 3)\n",
    "e = a.sub(b)\n",
    "assert str(e) == '-1 1/2'"
   ]
  },
  {
   "cell_type": "code",
   "execution_count": null,
   "id": "80021602-ae4b-4747-9896-535537284977",
   "metadata": {},
   "outputs": [],
   "source": []
  }
 ],
 "metadata": {
  "kernelspec": {
   "display_name": "Python 3 (ipykernel)",
   "language": "python",
   "name": "python3"
  },
  "language_info": {
   "codemirror_mode": {
    "name": "ipython",
    "version": 3
   },
   "file_extension": ".py",
   "mimetype": "text/x-python",
   "name": "python",
   "nbconvert_exporter": "python",
   "pygments_lexer": "ipython3",
   "version": "3.12.2"
  }
 },
 "nbformat": 4,
 "nbformat_minor": 5
}
